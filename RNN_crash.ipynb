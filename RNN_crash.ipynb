{
  "nbformat": 4,
  "nbformat_minor": 0,
  "metadata": {
    "colab": {
      "name": "RNN-crash.ipynb",
      "provenance": [],
      "authorship_tag": "ABX9TyMRoymlKYU47lIBsER6O4E9",
      "include_colab_link": true
    },
    "kernelspec": {
      "name": "python3",
      "display_name": "Python 3"
    },
    "accelerator": "GPU"
  },
  "cells": [
    {
      "cell_type": "markdown",
      "metadata": {
        "id": "view-in-github",
        "colab_type": "text"
      },
      "source": [
        "<a href=\"https://colab.research.google.com/github/martinpius/RNN-ALIENS/blob/main/RNN_crash.ipynb\" target=\"_parent\"><img src=\"https://colab.research.google.com/assets/colab-badge.svg\" alt=\"Open In Colab\"/></a>"
      ]
    },
    {
      "cell_type": "code",
      "metadata": {
        "colab": {
          "base_uri": "https://localhost:8080/"
        },
        "id": "IRH5x9iUtaeF",
        "outputId": "e4f5e72b-8b8e-45ef-8f98-900d44e73c98"
      },
      "source": [
        "from google.colab import drive\n",
        "drive.mount(\"/content/drive\", force_remount = True)\n",
        "try:\n",
        "  COLAB = True\n",
        "  import tensorflow as tf\n",
        "  print(f\"You are on CoLab with tensorflow version {tf.__version__}\")\n",
        "except Exception as e:\n",
        "  print(f\"{type(e)}: {e}\\n...please load your drive...\")\n",
        "  COLAB = False\n",
        "def time_fmt(t: float = 123.9879)->float:\n",
        "  h = int(t / (60 * 60))\n",
        "  m = int(t % (60 * 60) / 60)\n",
        "  s = int(t % 60)\n",
        "  return f\"{h}: {m:>03}: {s:>05.2f}\"\n",
        "print(f\"....testing time....testing time....testing time....\\ntime elapse: {time_fmt()}\")"
      ],
      "execution_count": null,
      "outputs": [
        {
          "output_type": "stream",
          "text": [
            "Mounted at /content/drive\n",
            "You are on CoLab with tensorflow version 2.4.1\n",
            "....testing time....testing time....testing time....\n",
            "time elapse: 0: 002: 03.00\n"
          ],
          "name": "stdout"
        }
      ]
    },
    {
      "cell_type": "code",
      "metadata": {
        "id": "DWapCpxavd2C"
      },
      "source": [
        "#We train the simple rnn, gru and lstm on mnist dataset(for illustration):\n",
        "import tensorflow as tf\n",
        "import numpy as np\n",
        "import time\n"
      ],
      "execution_count": null,
      "outputs": []
    },
    {
      "cell_type": "code",
      "metadata": {
        "colab": {
          "base_uri": "https://localhost:8080/"
        },
        "id": "qlDGz6QIv7xd",
        "outputId": "f3462991-1c6a-43ef-9e55-4d0c9d36b53b"
      },
      "source": [
        "(x_train, y_train), (x_test, y_test) = tf.keras.datasets.mnist.load_data()"
      ],
      "execution_count": null,
      "outputs": [
        {
          "output_type": "stream",
          "text": [
            "Downloading data from https://storage.googleapis.com/tensorflow/tf-keras-datasets/mnist.npz\n",
            "11493376/11490434 [==============================] - 0s 0us/step\n"
          ],
          "name": "stdout"
        }
      ]
    },
    {
      "cell_type": "code",
      "metadata": {
        "id": "asjs_S1awEG0"
      },
      "source": [
        "x_train, x_test = x_train.astype(np.float32)/255.0, x_test.astype(np.float32)/255.0"
      ],
      "execution_count": null,
      "outputs": []
    },
    {
      "cell_type": "code",
      "metadata": {
        "id": "iPOUrSR-wkH3"
      },
      "source": [
        "#y_train, y_test = tf.keras.utils.to_categorical(y_train, num_classes = 10), tf.keras.utils.to_categorical(y_test, num_classes = 10)"
      ],
      "execution_count": null,
      "outputs": []
    },
    {
      "cell_type": "code",
      "metadata": {
        "colab": {
          "base_uri": "https://localhost:8080/",
          "height": 694
        },
        "id": "ENtLGxF7w4R-",
        "outputId": "1c5a0d64-29e3-4cd6-8fe9-4f52e012b79f"
      },
      "source": [
        "#We can build the simple RNN model as follows:\n",
        "inputs = tf.keras.Input(shape = (None, 28))\n",
        "x = tf.keras.layers.SimpleRNN(units = 512, return_sequences = True, activation = 'tanh')(inputs)\n",
        "x = tf.keras.layers.SimpleRNN(units = 256, activation = 'relu')(x)\n",
        "outputs = tf.keras.layers.Dense(units = 10, name = 'outputs')(x)\n",
        "model = tf.keras.Model(inputs = inputs, outputs = outputs, name = 'simple_rnn')\n",
        "model.summary()\n",
        "tf.keras.utils.plot_model(model = model, to_file = 'simple_rnn.png', show_shapes = True)\n"
      ],
      "execution_count": null,
      "outputs": [
        {
          "output_type": "stream",
          "text": [
            "Model: \"simple_rnn\"\n",
            "_________________________________________________________________\n",
            "Layer (type)                 Output Shape              Param #   \n",
            "=================================================================\n",
            "input_1 (InputLayer)         [(None, None, 28)]        0         \n",
            "_________________________________________________________________\n",
            "simple_rnn (SimpleRNN)       (None, None, 512)         276992    \n",
            "_________________________________________________________________\n",
            "simple_rnn_1 (SimpleRNN)     (None, 256)               196864    \n",
            "_________________________________________________________________\n",
            "outputs (Dense)              (None, 10)                2570      \n",
            "=================================================================\n",
            "Total params: 476,426\n",
            "Trainable params: 476,426\n",
            "Non-trainable params: 0\n",
            "_________________________________________________________________\n"
          ],
          "name": "stdout"
        },
        {
          "output_type": "execute_result",
          "data": {
            "image/png": "[encoded data removed]",
            "text/plain": [
              "<IPython.core.display.Image object>"
            ]
          },
          "metadata": {
            "tags": []
          },
          "execution_count": 6
        }
      ]
    },
    {
      "cell_type": "code",
      "metadata": {
        "id": "QakFEkbKx6l2"
      },
      "source": [
        "#Compiling and train the model on mnist dataset:"
      ],
      "execution_count": null,
      "outputs": []
    },
    {
      "cell_type": "code",
      "metadata": {
        "id": "VBI4Q29vyBZd"
      },
      "source": [
        "model.compile(loss = tf.keras.losses.SparseCategoricalCrossentropy(from_logits = True),\n",
        "              optimizer = 'Adam', metrics = ['accuracy'])"
      ],
      "execution_count": null,
      "outputs": []
    },
    {
      "cell_type": "code",
      "metadata": {
        "colab": {
          "base_uri": "https://localhost:8080/"
        },
        "id": "ofwyGVevySQR",
        "outputId": "cf893d20-0740-4e63-ba85-df8444e8ed88"
      },
      "source": [
        "tic = time.time()\n",
        "model.fit(x_train, y_train, validation_data = (x_test, y_test), epochs = 20, batch_size = 64, verbose = 2)\n",
        "model.evaluate(x_test, y_test, verbose = 1, batch_size = 64)\n",
        "toc = time.time()\n",
        "print(f\"\\ntime elapse is {time_fmt(toc - tic)} seconds\")"
      ],
      "execution_count": null,
      "outputs": [
        {
          "output_type": "stream",
          "text": [
            "Epoch 1/20\n",
            "938/938 - 38s - loss: 0.3213 - accuracy: 0.9035 - val_loss: 0.2129 - val_accuracy: 0.9361\n",
            "Epoch 2/20\n",
            "938/938 - 37s - loss: 0.2287 - accuracy: 0.9334 - val_loss: 0.1790 - val_accuracy: 0.9490\n",
            "Epoch 3/20\n",
            "938/938 - 37s - loss: 0.2106 - accuracy: 0.9382 - val_loss: 0.2534 - val_accuracy: 0.9285\n",
            "Epoch 4/20\n",
            "938/938 - 37s - loss: 0.1898 - accuracy: 0.9441 - val_loss: 0.1522 - val_accuracy: 0.9575\n",
            "Epoch 5/20\n",
            "938/938 - 37s - loss: 0.1798 - accuracy: 0.9479 - val_loss: 0.1706 - val_accuracy: 0.9532\n",
            "Epoch 6/20\n",
            "938/938 - 36s - loss: 0.1801 - accuracy: 0.9475 - val_loss: 0.1491 - val_accuracy: 0.9622\n",
            "Epoch 7/20\n",
            "938/938 - 36s - loss: 0.1652 - accuracy: 0.9516 - val_loss: 0.2131 - val_accuracy: 0.9372\n",
            "Epoch 8/20\n",
            "938/938 - 36s - loss: 0.1499 - accuracy: 0.9564 - val_loss: 0.1588 - val_accuracy: 0.9560\n",
            "Epoch 9/20\n",
            "938/938 - 36s - loss: 0.1608 - accuracy: 0.9530 - val_loss: 0.1683 - val_accuracy: 0.9512\n",
            "Epoch 10/20\n",
            "938/938 - 36s - loss: 0.1529 - accuracy: 0.9560 - val_loss: 0.1804 - val_accuracy: 0.9492\n",
            "Epoch 11/20\n",
            "938/938 - 36s - loss: 0.1728 - accuracy: 0.9484 - val_loss: 0.1395 - val_accuracy: 0.9601\n",
            "Epoch 12/20\n",
            "938/938 - 36s - loss: 0.1458 - accuracy: 0.9567 - val_loss: 0.1495 - val_accuracy: 0.9566\n",
            "Epoch 13/20\n",
            "938/938 - 36s - loss: 0.1585 - accuracy: 0.9533 - val_loss: 0.1693 - val_accuracy: 0.9524\n",
            "Epoch 14/20\n",
            "938/938 - 36s - loss: 0.1657 - accuracy: 0.9500 - val_loss: 0.1483 - val_accuracy: 0.9562\n",
            "Epoch 15/20\n",
            "938/938 - 36s - loss: 0.1443 - accuracy: 0.9578 - val_loss: 0.1252 - val_accuracy: 0.9656\n",
            "Epoch 16/20\n",
            "938/938 - 35s - loss: 0.1535 - accuracy: 0.9551 - val_loss: 0.1471 - val_accuracy: 0.9596\n",
            "Epoch 17/20\n",
            "938/938 - 36s - loss: 0.1296 - accuracy: 0.9618 - val_loss: 0.1913 - val_accuracy: 0.9480\n",
            "Epoch 18/20\n",
            "938/938 - 35s - loss: 0.1419 - accuracy: 0.9582 - val_loss: 0.1402 - val_accuracy: 0.9616\n",
            "Epoch 19/20\n",
            "938/938 - 35s - loss: 0.1421 - accuracy: 0.9582 - val_loss: 0.1494 - val_accuracy: 0.9582\n",
            "Epoch 20/20\n",
            "938/938 - 36s - loss: 0.1485 - accuracy: 0.9566 - val_loss: 0.1265 - val_accuracy: 0.9660\n",
            "157/157 [==============================] - 1s 6ms/step - loss: 0.1265 - accuracy: 0.9660\n",
            "\n",
            "time elapse is 0: 012: 05.00 seconds\n"
          ],
          "name": "stdout"
        }
      ]
    },
    {
      "cell_type": "code",
      "metadata": {
        "id": "NIh6IRtly1CZ"
      },
      "source": [
        "#We can build the gru insteady of a simple rnn:"
      ],
      "execution_count": null,
      "outputs": []
    },
    {
      "cell_type": "code",
      "metadata": {
        "colab": {
          "base_uri": "https://localhost:8080/"
        },
        "id": "FocFx9J51JF3",
        "outputId": "8d29580c-2a56-4639-d636-f98f48f4c7db"
      },
      "source": [
        "inputs = inputs\n",
        "x = tf.keras.layers.GRU(units = 256, return_sequences = True, activation = 'tanh')(inputs)\n",
        "x = tf.keras.layers.GRU(units = 128, activation = 'tanh')(x)\n",
        "outputs = tf.keras.layers.Dense(units = 10, name = 'outputs')(x)\n",
        "model = tf.keras.Model(inputs = inputs, outputs = outputs, name = 'gru_mnist')\n",
        "model.summary()\n",
        "tf.keras.utils.plot_model(model = model, to_file = 'gru_mnist.png', show_shapes = True)\n",
        "model.compile(loss = tf.keras.losses.SparseCategoricalCrossentropy(from_logits = True),\n",
        "              optimizer = 'RMSprop', metrics = ['accuracy'])\n",
        "tic = time.time()\n",
        "model.fit(x_train, y_train, validation_data = (x_test, y_test), batch_size = 64, verbose = 2, epochs = 20)\n",
        "model.evaluate(x_test, y_test, batch_size = 64, verbose = 1)\n",
        "toc = time.time()\n",
        "print(f\"\\ntime elapse for gru in second: {time_fmt(toc - tic)}\")\n",
        "\n"
      ],
      "execution_count": null,
      "outputs": [
        {
          "output_type": "stream",
          "text": [
            "Model: \"gru_mnist\"\n",
            "_________________________________________________________________\n",
            "Layer (type)                 Output Shape              Param #   \n",
            "=================================================================\n",
            "input_1 (InputLayer)         [(None, None, 28)]        0         \n",
            "_________________________________________________________________\n",
            "gru (GRU)                    (None, None, 256)         219648    \n",
            "_________________________________________________________________\n",
            "gru_1 (GRU)                  (None, 128)               148224    \n",
            "_________________________________________________________________\n",
            "outputs (Dense)              (None, 10)                1290      \n",
            "=================================================================\n",
            "Total params: 369,162\n",
            "Trainable params: 369,162\n",
            "Non-trainable params: 0\n",
            "_________________________________________________________________\n",
            "Epoch 1/20\n",
            "938/938 - 37s - loss: 0.3124 - accuracy: 0.8961 - val_loss: 0.0751 - val_accuracy: 0.9768\n",
            "Epoch 2/20\n",
            "938/938 - 6s - loss: 0.0744 - accuracy: 0.9774 - val_loss: 0.0561 - val_accuracy: 0.9826\n",
            "Epoch 3/20\n",
            "938/938 - 6s - loss: 0.0503 - accuracy: 0.9847 - val_loss: 0.0464 - val_accuracy: 0.9848\n",
            "Epoch 4/20\n",
            "938/938 - 6s - loss: 0.0366 - accuracy: 0.9884 - val_loss: 0.0473 - val_accuracy: 0.9863\n",
            "Epoch 5/20\n",
            "938/938 - 6s - loss: 0.0284 - accuracy: 0.9912 - val_loss: 0.0421 - val_accuracy: 0.9887\n",
            "Epoch 6/20\n",
            "938/938 - 6s - loss: 0.0234 - accuracy: 0.9929 - val_loss: 0.0414 - val_accuracy: 0.9886\n",
            "Epoch 7/20\n",
            "938/938 - 6s - loss: 0.0200 - accuracy: 0.9938 - val_loss: 0.0425 - val_accuracy: 0.9879\n",
            "Epoch 8/20\n",
            "938/938 - 6s - loss: 0.0156 - accuracy: 0.9953 - val_loss: 0.0392 - val_accuracy: 0.9902\n",
            "Epoch 9/20\n",
            "938/938 - 6s - loss: 0.0130 - accuracy: 0.9959 - val_loss: 0.0534 - val_accuracy: 0.9852\n",
            "Epoch 10/20\n",
            "938/938 - 6s - loss: 0.0115 - accuracy: 0.9964 - val_loss: 0.0394 - val_accuracy: 0.9904\n",
            "Epoch 11/20\n",
            "938/938 - 6s - loss: 0.0091 - accuracy: 0.9969 - val_loss: 0.0406 - val_accuracy: 0.9903\n",
            "Epoch 12/20\n",
            "938/938 - 6s - loss: 0.0090 - accuracy: 0.9971 - val_loss: 0.0457 - val_accuracy: 0.9892\n",
            "Epoch 13/20\n",
            "938/938 - 6s - loss: 0.0075 - accuracy: 0.9976 - val_loss: 0.0433 - val_accuracy: 0.9899\n",
            "Epoch 14/20\n",
            "938/938 - 6s - loss: 0.0065 - accuracy: 0.9979 - val_loss: 0.0465 - val_accuracy: 0.9886\n",
            "Epoch 15/20\n",
            "938/938 - 6s - loss: 0.0059 - accuracy: 0.9981 - val_loss: 0.0449 - val_accuracy: 0.9902\n",
            "Epoch 16/20\n",
            "938/938 - 6s - loss: 0.0058 - accuracy: 0.9985 - val_loss: 0.0426 - val_accuracy: 0.9916\n",
            "Epoch 17/20\n",
            "938/938 - 6s - loss: 0.0049 - accuracy: 0.9986 - val_loss: 0.0436 - val_accuracy: 0.9915\n",
            "Epoch 18/20\n",
            "938/938 - 6s - loss: 0.0045 - accuracy: 0.9985 - val_loss: 0.0451 - val_accuracy: 0.9918\n",
            "Epoch 19/20\n",
            "938/938 - 6s - loss: 0.0045 - accuracy: 0.9987 - val_loss: 0.0504 - val_accuracy: 0.9909\n",
            "Epoch 20/20\n",
            "938/938 - 6s - loss: 0.0043 - accuracy: 0.9988 - val_loss: 0.0495 - val_accuracy: 0.9902\n",
            "157/157 [==============================] - 1s 4ms/step - loss: 0.0495 - accuracy: 0.9902\n",
            "\n",
            "time elapse for gru in second: 0: 002: 28.00\n"
          ],
          "name": "stdout"
        }
      ]
    },
    {
      "cell_type": "code",
      "metadata": {
        "colab": {
          "base_uri": "https://localhost:8080/"
        },
        "id": "8mC1nP_n8otT",
        "outputId": "7a1617b0-792d-4106-f495-e1c7722dff63"
      },
      "source": [
        "inputs = inputs\n",
        "x = tf.keras.layers.LSTM(units = 256, return_sequences = True, activation = 'tanh')(inputs)\n",
        "x = tf.keras.layers.LSTM(units = 128, activation = 'tanh')(x)\n",
        "outputs = tf.keras.layers.Dense(units = 10, name = 'outputs')(x)\n",
        "model = tf.keras.Model(inputs = inputs, outputs = outputs, name = 'gru_mnist')\n",
        "model.summary()\n",
        "tf.keras.utils.plot_model(model = model, to_file = 'gru_mnist.png', show_shapes = True)\n",
        "model.compile(loss = tf.keras.losses.SparseCategoricalCrossentropy(from_logits = True),\n",
        "              optimizer = 'RMSprop', metrics = ['accuracy'])\n",
        "tic = time.time()\n",
        "model.fit(x_train, y_train, validation_data = (x_test, y_test), batch_size = 64, verbose = 2, epochs = 20)\n",
        "model.evaluate(x_test, y_test, batch_size = 64, verbose = 1)\n",
        "toc = time.time()\n",
        "print(f\"\\ntime elapse for gru in second: {time_fmt(toc - tic)}\")\n",
        "\n"
      ],
      "execution_count": null,
      "outputs": [
        {
          "output_type": "stream",
          "text": [
            "Model: \"gru_mnist\"\n",
            "_________________________________________________________________\n",
            "Layer (type)                 Output Shape              Param #   \n",
            "=================================================================\n",
            "input_1 (InputLayer)         [(None, None, 28)]        0         \n",
            "_________________________________________________________________\n",
            "lstm (LSTM)                  (None, None, 256)         291840    \n",
            "_________________________________________________________________\n",
            "lstm_1 (LSTM)                (None, 128)               197120    \n",
            "_________________________________________________________________\n",
            "outputs (Dense)              (None, 10)                1290      \n",
            "=================================================================\n",
            "Total params: 490,250\n",
            "Trainable params: 490,250\n",
            "Non-trainable params: 0\n",
            "_________________________________________________________________\n",
            "Epoch 1/20\n",
            "938/938 - 9s - loss: 0.3514 - accuracy: 0.8862 - val_loss: 0.1197 - val_accuracy: 0.9641\n",
            "Epoch 2/20\n",
            "938/938 - 6s - loss: 0.0951 - accuracy: 0.9720 - val_loss: 0.0651 - val_accuracy: 0.9817\n",
            "Epoch 3/20\n",
            "938/938 - 6s - loss: 0.0634 - accuracy: 0.9812 - val_loss: 0.0739 - val_accuracy: 0.9765\n",
            "Epoch 4/20\n",
            "938/938 - 6s - loss: 0.0484 - accuracy: 0.9857 - val_loss: 0.0462 - val_accuracy: 0.9866\n",
            "Epoch 5/20\n",
            "938/938 - 6s - loss: 0.0375 - accuracy: 0.9889 - val_loss: 0.0645 - val_accuracy: 0.9803\n",
            "Epoch 6/20\n",
            "938/938 - 6s - loss: 0.0313 - accuracy: 0.9905 - val_loss: 0.0476 - val_accuracy: 0.9872\n",
            "Epoch 7/20\n",
            "938/938 - 6s - loss: 0.0260 - accuracy: 0.9924 - val_loss: 0.0464 - val_accuracy: 0.9868\n",
            "Epoch 8/20\n",
            "938/938 - 6s - loss: 0.0227 - accuracy: 0.9931 - val_loss: 0.0409 - val_accuracy: 0.9892\n",
            "Epoch 9/20\n",
            "938/938 - 6s - loss: 0.0205 - accuracy: 0.9934 - val_loss: 0.0380 - val_accuracy: 0.9900\n",
            "Epoch 10/20\n",
            "938/938 - 6s - loss: 0.0163 - accuracy: 0.9952 - val_loss: 0.0404 - val_accuracy: 0.9891\n",
            "Epoch 11/20\n",
            "938/938 - 6s - loss: 0.0164 - accuracy: 0.9951 - val_loss: 0.0426 - val_accuracy: 0.9896\n",
            "Epoch 12/20\n",
            "938/938 - 6s - loss: 0.0137 - accuracy: 0.9959 - val_loss: 0.0467 - val_accuracy: 0.9887\n",
            "Epoch 13/20\n",
            "938/938 - 6s - loss: 0.0121 - accuracy: 0.9965 - val_loss: 0.0501 - val_accuracy: 0.9876\n",
            "Epoch 14/20\n",
            "938/938 - 6s - loss: 0.0113 - accuracy: 0.9968 - val_loss: 0.0416 - val_accuracy: 0.9900\n",
            "Epoch 15/20\n",
            "938/938 - 6s - loss: 0.0095 - accuracy: 0.9973 - val_loss: 0.0471 - val_accuracy: 0.9914\n",
            "Epoch 16/20\n",
            "938/938 - 6s - loss: 0.0090 - accuracy: 0.9973 - val_loss: 0.0474 - val_accuracy: 0.9903\n",
            "Epoch 17/20\n",
            "938/938 - 6s - loss: 0.0089 - accuracy: 0.9976 - val_loss: 0.0694 - val_accuracy: 0.9871\n",
            "Epoch 18/20\n",
            "938/938 - 6s - loss: 0.0086 - accuracy: 0.9974 - val_loss: 0.0423 - val_accuracy: 0.9910\n",
            "Epoch 19/20\n",
            "938/938 - 6s - loss: 0.0073 - accuracy: 0.9979 - val_loss: 0.0477 - val_accuracy: 0.9892\n",
            "Epoch 20/20\n",
            "938/938 - 6s - loss: 0.0059 - accuracy: 0.9979 - val_loss: 0.0476 - val_accuracy: 0.9905\n",
            "157/157 [==============================] - 1s 4ms/step - loss: 0.0476 - accuracy: 0.9905\n",
            "\n",
            "time elapse for gru in second: 0: 002: 09.00\n"
          ],
          "name": "stdout"
        }
      ]
    },
    {
      "cell_type": "code",
      "metadata": {
        "id": "7zmHyDGg83aQ"
      },
      "source": [
        "#We can also extend to biderectional rnnLSTM as follows:"
      ],
      "execution_count": null,
      "outputs": []
    },
    {
      "cell_type": "code",
      "metadata": {
        "colab": {
          "base_uri": "https://localhost:8080/"
        },
        "id": "uw_Kcn4X-SLr",
        "outputId": "b245b9e8-a079-43a7-b489-07d4a34c7e00"
      },
      "source": [
        "inputs = inputs\n",
        "x = tf.keras.layers.Bidirectional(tf.keras.layers.LSTM(units = 256, return_sequences = True, activation = 'tanh'))(inputs)\n",
        "x = tf.keras.layers.Bidirectional(tf.keras.layers.LSTM(units = 128, activation = 'tanh'))(x)\n",
        "outputs = tf.keras.layers.Dense(units = 10, name = 'outputs')(x)\n",
        "model = tf.keras.Model(inputs = inputs, outputs = outputs, name = 'gru_mnist')\n",
        "model.summary()\n",
        "tf.keras.utils.plot_model(model = model, to_file = 'gru_mnist.png', show_shapes = True)\n",
        "model.compile(loss = tf.keras.losses.SparseCategoricalCrossentropy(from_logits = True),\n",
        "              optimizer = 'RMSprop', metrics = ['accuracy'])\n",
        "tic = time.time()\n",
        "model.fit(x_train, y_train, validation_data = (x_test, y_test), batch_size = 64, verbose = 2, epochs = 20)\n",
        "model.evaluate(x_test, y_test, batch_size = 64, verbose = 1)\n",
        "toc = time.time()\n",
        "print(f\"\\ntime elapse for B-LSTM in second: {time_fmt(toc - tic)}\")\n",
        "\n"
      ],
      "execution_count": null,
      "outputs": [
        {
          "output_type": "stream",
          "text": [
            "Model: \"gru_mnist\"\n",
            "_________________________________________________________________\n",
            "Layer (type)                 Output Shape              Param #   \n",
            "=================================================================\n",
            "input_1 (InputLayer)         [(None, None, 28)]        0         \n",
            "_________________________________________________________________\n",
            "bidirectional (Bidirectional (None, None, 512)         583680    \n",
            "_________________________________________________________________\n",
            "bidirectional_1 (Bidirection (None, 256)               656384    \n",
            "_________________________________________________________________\n",
            "outputs (Dense)              (None, 10)                2570      \n",
            "=================================================================\n",
            "Total params: 1,242,634\n",
            "Trainable params: 1,242,634\n",
            "Non-trainable params: 0\n",
            "_________________________________________________________________\n",
            "Epoch 1/20\n",
            "938/938 - 18s - loss: 0.2918 - accuracy: 0.9044 - val_loss: 0.1045 - val_accuracy: 0.9654\n",
            "Epoch 2/20\n",
            "938/938 - 12s - loss: 0.0784 - accuracy: 0.9763 - val_loss: 0.0857 - val_accuracy: 0.9729\n",
            "Epoch 3/20\n",
            "938/938 - 12s - loss: 0.0517 - accuracy: 0.9843 - val_loss: 0.0603 - val_accuracy: 0.9797\n",
            "Epoch 4/20\n",
            "938/938 - 12s - loss: 0.0379 - accuracy: 0.9884 - val_loss: 0.0475 - val_accuracy: 0.9852\n",
            "Epoch 5/20\n",
            "938/938 - 12s - loss: 0.0320 - accuracy: 0.9903 - val_loss: 0.0363 - val_accuracy: 0.9894\n",
            "Epoch 6/20\n",
            "938/938 - 12s - loss: 0.0245 - accuracy: 0.9923 - val_loss: 0.0454 - val_accuracy: 0.9877\n",
            "Epoch 7/20\n",
            "938/938 - 12s - loss: 0.0219 - accuracy: 0.9934 - val_loss: 0.0479 - val_accuracy: 0.9872\n",
            "Epoch 8/20\n",
            "938/938 - 12s - loss: 0.0169 - accuracy: 0.9944 - val_loss: 0.0382 - val_accuracy: 0.9897\n",
            "Epoch 9/20\n",
            "938/938 - 12s - loss: 0.0149 - accuracy: 0.9956 - val_loss: 0.0363 - val_accuracy: 0.9910\n",
            "Epoch 10/20\n",
            "938/938 - 12s - loss: 0.0124 - accuracy: 0.9963 - val_loss: 0.0446 - val_accuracy: 0.9886\n",
            "Epoch 11/20\n",
            "938/938 - 12s - loss: 0.0115 - accuracy: 0.9966 - val_loss: 0.0362 - val_accuracy: 0.9912\n",
            "Epoch 12/20\n",
            "938/938 - 12s - loss: 0.0101 - accuracy: 0.9969 - val_loss: 0.0369 - val_accuracy: 0.9903\n",
            "Epoch 13/20\n",
            "938/938 - 12s - loss: 0.0090 - accuracy: 0.9973 - val_loss: 0.0383 - val_accuracy: 0.9906\n",
            "Epoch 14/20\n",
            "938/938 - 12s - loss: 0.0076 - accuracy: 0.9978 - val_loss: 0.0518 - val_accuracy: 0.9888\n",
            "Epoch 15/20\n",
            "938/938 - 12s - loss: 0.0073 - accuracy: 0.9979 - val_loss: 0.0461 - val_accuracy: 0.9908\n",
            "Epoch 16/20\n",
            "938/938 - 12s - loss: 0.0059 - accuracy: 0.9984 - val_loss: 0.0580 - val_accuracy: 0.9891\n",
            "Epoch 17/20\n",
            "938/938 - 12s - loss: 0.0056 - accuracy: 0.9983 - val_loss: 0.0472 - val_accuracy: 0.9907\n",
            "Epoch 18/20\n",
            "938/938 - 12s - loss: 0.0053 - accuracy: 0.9985 - val_loss: 0.0512 - val_accuracy: 0.9907\n",
            "Epoch 19/20\n",
            "938/938 - 12s - loss: 0.0059 - accuracy: 0.9983 - val_loss: 0.0496 - val_accuracy: 0.9906\n",
            "Epoch 20/20\n",
            "938/938 - 12s - loss: 0.0049 - accuracy: 0.9986 - val_loss: 0.0468 - val_accuracy: 0.9916\n",
            "157/157 [==============================] - 1s 6ms/step - loss: 0.0468 - accuracy: 0.9916\n",
            "\n",
            "time elapse for B-LSTM in second: 0: 004: 00.00\n"
          ],
          "name": "stdout"
        }
      ]
    },
    {
      "cell_type": "code",
      "metadata": {
        "id": "sjvpag6m-9Zy"
      },
      "source": [
        ""
      ],
      "execution_count": null,
      "outputs": []
    }
  ]
}