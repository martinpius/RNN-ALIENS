{
  "nbformat": 4,
  "nbformat_minor": 0,
  "metadata": {
    "colab": {
      "name": "RNN with Complex input structure, Masking and Padding.ipynb",
      "provenance": [],
      "authorship_tag": "ABX9TyPObF6X8VqNSDZjSNuw3X5k",
      "include_colab_link": true
    },
    "kernelspec": {
      "name": "python3",
      "display_name": "Python 3"
    }
  },
  "cells": [
    {
      "cell_type": "markdown",
      "metadata": {
        "id": "view-in-github",
        "colab_type": "text"
      },
      "source": [
        "<a href=\"https://colab.research.google.com/github/martinpius/RNN-ALIENS/blob/main/RNN_with_Complex_input_structure%2C_Masking_and_Padding.ipynb\" target=\"_parent\"><img src=\"https://colab.research.google.com/assets/colab-badge.svg\" alt=\"Open In Colab\"/></a>"
      ]
    },
    {
      "cell_type": "code",
      "metadata": {
        "colab": {
          "base_uri": "https://localhost:8080/",
          "height": 69
        },
        "id": "eJfavwRc7XXZ",
        "outputId": "0ddcbd55-97e9-42f9-cdc8-3d1ab1131875"
      },
      "source": [
        "from google.colab import drive\n",
        "drive.mount(\"/content/drive/\", force_remount = True)\n",
        "try:\n",
        "  COLAB = True\n",
        "  import tensorflow as tf\n",
        "  print(f\"You are on Google Colab with tensorflow version: {tf.__version__}\")\n",
        "except Exception as e:\n",
        "  COLAB = False\n",
        "  print(f\"{type(e)}: {e}\\n...Please Load Your Drive...\")\n",
        "def time_fmt(x):\n",
        "  h = int(x / (60 * 60))\n",
        "  m = int(x % (60 * 60) / 60)\n",
        "  s = int(x % 60)\n",
        "  return f\"{h}:{m:>03}: {s:>05.2f}\"\n",
        "\n",
        "display(time_fmt(123.43598))\n"
      ],
      "execution_count": 2,
      "outputs": [
        {
          "output_type": "stream",
          "text": [
            "Mounted at /content/drive/\n",
            "You are on Google Colab with tensorflow version: 2.4.0\n"
          ],
          "name": "stdout"
        },
        {
          "output_type": "display_data",
          "data": {
            "application/vnd.google.colaboratory.intrinsic+json": {
              "type": "string"
            },
            "text/plain": [
              "'0:002: 03.00'"
            ]
          },
          "metadata": {
            "tags": []
          }
        }
      ]
    },
    {
      "cell_type": "code",
      "metadata": {
        "id": "MTQtujcn9L8O"
      },
      "source": [
        "import tensorflow as tf\n",
        "import numpy as np\n",
        "from tensorflow import keras"
      ],
      "execution_count": 59,
      "outputs": []
    },
    {
      "cell_type": "code",
      "metadata": {
        "id": "wDI969Jn9kk0"
      },
      "source": [
        "#Sometimes we may need to pass a comple data structure to an LSTM cell. In this case we can \n",
        "#pass the nested data as list or dictionsry"
      ],
      "execution_count": 2,
      "outputs": []
    },
    {
      "cell_type": "code",
      "metadata": {
        "id": "T7j83KYw99Ic"
      },
      "source": [
        "#We design an LSTM nested cell from scratch using layers subclassing"
      ],
      "execution_count": 3,
      "outputs": []
    },
    {
      "cell_type": "code",
      "metadata": {
        "id": "RxiHg5ScEPbQ"
      },
      "source": [
        "class NestedCell(tf.keras.layers.Layer):\n",
        "  def __init__(self, unit_1, unit_2, unit_3, **kwargs):\n",
        "    self.unit_1 = unit_1\n",
        "    self.unit_2 = unit_2 \n",
        "    self.unit_3 = unit_3 \n",
        "    self.state_size = [tf.TensorShape([unit_1]), tf.TensorShape([unit_2, unit_3])]\n",
        "    self.output_size = [tf.TensorShape([unit_1]), tf.TensorShape([unit_2, unit_3])]\n",
        "    super(NestedCell, self).__init__(**kwargs)\n",
        "  \n",
        "  def build(self, input_shapes):\n",
        "    i1 = input_shapes[0][1]\n",
        "    i2 = input_shapes[1][1]\n",
        "    i3 = input_shapes[1][2]\n",
        "\n",
        "    self.kernel_1 = self.add_weight(shape = (i1, self.unit_1),\n",
        "                                    initializer = 'uniform',\n",
        "                                    name = 'kernel_1')\n",
        "    self.kernel_2_3 = self.add_weight(shape = (i2, i3, self.unit_2, self.unit_3),\n",
        "                                      initializer = 'uniform',\n",
        "                                      name = 'kernel_2_3')\n",
        "  \n",
        "  def call(self, inputs, states):\n",
        "    input_1, input_2 = tf.nest.flatten(inputs)\n",
        "    s1,s2 = states\n",
        "    output_1 = tf.matmul(input_1, self.kernel_1)\n",
        "    output_2_3 = tf.einsum('bij , ijkl->bkl', input_2, self.kernel_2_3)\n",
        "    state_1 = s1 + output_1\n",
        "    state_2_3 = s2 + output_2_3\n",
        "    output = (output_1, output_2_3)\n",
        "    new_state = (state_1, state_2_3)\n",
        "    return output, new_state\n",
        "  \n",
        "  def get_config(self):\n",
        "    return {'unit_1': self.unit_1, 'unit_2' : self.unit_2, 'unit_3' : self.unit_3}"
      ],
      "execution_count": 36,
      "outputs": []
    },
    {
      "cell_type": "code",
      "metadata": {
        "id": "EHiQFUZGlOTI"
      },
      "source": [
        "#Instantiate the class"
      ],
      "execution_count": 37,
      "outputs": []
    },
    {
      "cell_type": "code",
      "metadata": {
        "id": "TSnWYwHYlSyn"
      },
      "source": [
        "unit_1 = 10\n",
        "unit_2 = 20\n",
        "unit_3 = 30\n",
        "i1 = 64\n",
        "i2 = 32\n",
        "i3 = 16\n",
        "batch_size = 64\n",
        "time_steps = 50\n",
        "batch_num = 10\n",
        "cell = NestedCell(unit_1, unit_2, unit_3)\n",
        "rnn = tf.keras.layers.RNN(cell)\n",
        "input_1 = tf.keras.Input(shape = (None, i1))\n",
        "input_2 = tf.keras.Input(shape = (None, i2, i3))\n",
        "outputs = rnn((input_1, input_2))"
      ],
      "execution_count": 40,
      "outputs": []
    },
    {
      "cell_type": "code",
      "metadata": {
        "id": "0FVtppzSme9k"
      },
      "source": [
        "model = tf.keras.Model(inputs = [input_1, input_2], outputs = outputs)"
      ],
      "execution_count": 41,
      "outputs": []
    },
    {
      "cell_type": "code",
      "metadata": {
        "colab": {
          "base_uri": "https://localhost:8080/"
        },
        "id": "2a2C01cqm77T",
        "outputId": "ca9709b0-3e83-4b8f-f7d3-eef177e93ef2"
      },
      "source": [
        "model.summary()"
      ],
      "execution_count": 42,
      "outputs": [
        {
          "output_type": "stream",
          "text": [
            "Model: \"model_1\"\n",
            "__________________________________________________________________________________________________\n",
            "Layer (type)                    Output Shape         Param #     Connected to                     \n",
            "==================================================================================================\n",
            "input_31 (InputLayer)           [(None, None, 64)]   0                                            \n",
            "__________________________________________________________________________________________________\n",
            "input_32 (InputLayer)           [(None, None, 32, 16 0                                            \n",
            "__________________________________________________________________________________________________\n",
            "rnn_15 (RNN)                    ((None, 10), (None,  307840      input_31[0][0]                   \n",
            "                                                                 input_32[0][0]                   \n",
            "==================================================================================================\n",
            "Total params: 307,840\n",
            "Trainable params: 307,840\n",
            "Non-trainable params: 0\n",
            "__________________________________________________________________________________________________\n"
          ],
          "name": "stdout"
        }
      ]
    },
    {
      "cell_type": "code",
      "metadata": {
        "id": "pE_QzEeBnfIV"
      },
      "source": [
        "#fake_data for the model"
      ],
      "execution_count": 43,
      "outputs": []
    },
    {
      "cell_type": "code",
      "metadata": {
        "id": "RPT46FRfzWyd"
      },
      "source": [
        "input_1 = np.random.random(size = (batch_size * num_batches, time_steps, i1))\n",
        "input_2 = np.random.random(size = (batch_size * num_batches, time_steps, i2, i3))\n",
        "out1 = np.random.random(size = (batch_size *num_batches, unit_1))\n",
        "out2 = np.random.random(size = (batch_size * num_batches, unit_2, unit_3))\n",
        "inputs = [input_1, input_2]\n",
        "target = [out1, out2]\n"
      ],
      "execution_count": 44,
      "outputs": []
    },
    {
      "cell_type": "code",
      "metadata": {
        "id": "QCQn3A0F0hE9"
      },
      "source": [
        "model.compile(loss = 'mse', metrics = ['accuracy'], optimizer = 'Adam')"
      ],
      "execution_count": 45,
      "outputs": []
    },
    {
      "cell_type": "code",
      "metadata": {
        "colab": {
          "base_uri": "https://localhost:8080/"
        },
        "id": "mAecwyQr0y51",
        "outputId": "856c1d61-eebc-4692-9ab4-6449f477db93"
      },
      "source": [
        "model.fit(inputs, target, verbose = 2, epochs = 5, validation_split=0.10)"
      ],
      "execution_count": 46,
      "outputs": [
        {
          "output_type": "stream",
          "text": [
            "Epoch 1/5\n",
            "18/18 - 4s - loss: 0.3471 - rnn_15_loss: 0.1681 - rnn_15_1_loss: 0.1790 - rnn_15_accuracy: 0.0955 - rnn_15_1_accuracy: 0.0339 - val_loss: 0.2265 - val_rnn_15_loss: 0.0914 - val_rnn_15_1_loss: 0.1352 - val_rnn_15_accuracy: 0.1250 - val_rnn_15_1_accuracy: 0.0312\n",
            "Epoch 2/5\n",
            "18/18 - 2s - loss: 0.2176 - rnn_15_loss: 0.0934 - rnn_15_1_loss: 0.1243 - rnn_15_accuracy: 0.0868 - rnn_15_1_accuracy: 0.0355 - val_loss: 0.2158 - val_rnn_15_loss: 0.0936 - val_rnn_15_1_loss: 0.1222 - val_rnn_15_accuracy: 0.0312 - val_rnn_15_1_accuracy: 0.0305\n",
            "Epoch 3/5\n",
            "18/18 - 2s - loss: 0.2029 - rnn_15_loss: 0.0893 - rnn_15_1_loss: 0.1137 - rnn_15_accuracy: 0.0868 - rnn_15_1_accuracy: 0.0397 - val_loss: 0.2081 - val_rnn_15_loss: 0.0890 - val_rnn_15_1_loss: 0.1191 - val_rnn_15_accuracy: 0.0938 - val_rnn_15_1_accuracy: 0.0273\n",
            "Epoch 4/5\n",
            "18/18 - 2s - loss: 0.1963 - rnn_15_loss: 0.0882 - rnn_15_1_loss: 0.1081 - rnn_15_accuracy: 0.0972 - rnn_15_1_accuracy: 0.0411 - val_loss: 0.2075 - val_rnn_15_loss: 0.0888 - val_rnn_15_1_loss: 0.1187 - val_rnn_15_accuracy: 0.0781 - val_rnn_15_1_accuracy: 0.0281\n",
            "Epoch 5/5\n",
            "18/18 - 2s - loss: 0.1908 - rnn_15_loss: 0.0873 - rnn_15_1_loss: 0.1035 - rnn_15_accuracy: 0.0990 - rnn_15_1_accuracy: 0.0431 - val_loss: 0.2061 - val_rnn_15_loss: 0.0885 - val_rnn_15_1_loss: 0.1176 - val_rnn_15_accuracy: 0.1094 - val_rnn_15_1_accuracy: 0.0359\n"
          ],
          "name": "stdout"
        },
        {
          "output_type": "execute_result",
          "data": {
            "text/plain": [
              "<tensorflow.python.keras.callbacks.History at 0x7fe6f1892c88>"
            ]
          },
          "metadata": {
            "tags": []
          },
          "execution_count": 46
        }
      ]
    },
    {
      "cell_type": "code",
      "metadata": {
        "id": "-hHXWBfY1Agj"
      },
      "source": [
        "#Padding and masking in sequence data\n",
        "#Most of time we are required to padd the sequence data so as to retain uniformity\n",
        "#of member's length. When we divide the sequence into batches it is crucial for the\n",
        "#contigous batches to be of the same length. Therefore, padding is useful to guarantee that."
      ],
      "execution_count": 48,
      "outputs": []
    },
    {
      "cell_type": "code",
      "metadata": {
        "id": "8Hz_JX9qAlpl"
      },
      "source": [
        "dfm = [\n",
        "         ['hello', 'sam','how','are','you'],\n",
        "         ['today','I','feel','super','fatigue'],\n",
        "         ['probably','you','hsve','cold'],\n",
        "         ['try','to','rest'],\n",
        "         ['thanks','bye']\n",
        "]"
      ],
      "execution_count": 29,
      "outputs": []
    },
    {
      "cell_type": "code",
      "metadata": {
        "id": "oriaYWE0QRcY"
      },
      "source": [
        "from tensorflow.keras.layers.experimental import preprocessing"
      ],
      "execution_count": 30,
      "outputs": []
    },
    {
      "cell_type": "code",
      "metadata": {
        "id": "hIGvo2wjp-MX"
      },
      "source": [
        "#Lets create a ragged tensor for the above nested list"
      ],
      "execution_count": null,
      "outputs": []
    },
    {
      "cell_type": "code",
      "metadata": {
        "id": "JcCcXrJCoz4u"
      },
      "source": [
        "dfm = tf.ragged.constant(dfm)"
      ],
      "execution_count": 31,
      "outputs": []
    },
    {
      "cell_type": "code",
      "metadata": {
        "id": "fJkt7LNJqJsZ"
      },
      "source": [
        "#Obtaining the indices for each word in the nested list using stringlookup from layer's preprocessing method"
      ],
      "execution_count": 35,
      "outputs": []
    },
    {
      "cell_type": "code",
      "metadata": {
        "id": "8ztTb3tIpRj0"
      },
      "source": [
        "layer = preprocessing.StringLookup()"
      ],
      "execution_count": 36,
      "outputs": []
    },
    {
      "cell_type": "code",
      "metadata": {
        "id": "TKzKW66OpZ2n"
      },
      "source": [
        "layer.adapt(dfm)"
      ],
      "execution_count": 37,
      "outputs": []
    },
    {
      "cell_type": "code",
      "metadata": {
        "id": "f1bfqZGQpdGO"
      },
      "source": [
        "data = layer(dfm)"
      ],
      "execution_count": 39,
      "outputs": []
    },
    {
      "cell_type": "code",
      "metadata": {
        "colab": {
          "base_uri": "https://localhost:8080/"
        },
        "id": "4G5TtQoir7_y",
        "outputId": "c67d06dd-516f-4b62-b6cb-b7f3c324b9cd"
      },
      "source": [
        "data.to_list()"
      ],
      "execution_count": 43,
      "outputs": [
        {
          "output_type": "execute_result",
          "data": {
            "text/plain": [
              "[[13, 8, 12, 18, 2], [4, 19, 14, 7, 15], [10, 2, 11, 16], [3, 5, 9], [6, 17]]"
            ]
          },
          "metadata": {
            "tags": []
          },
          "execution_count": 43
        }
      ]
    },
    {
      "cell_type": "code",
      "metadata": {
        "id": "taEe3VO4pfpB"
      },
      "source": [
        "#Now we can pad the above data to create a tensor of suitable shape to train a given deep-learning model"
      ],
      "execution_count": 44,
      "outputs": []
    },
    {
      "cell_type": "code",
      "metadata": {
        "id": "a-l2IYK0sIMg"
      },
      "source": [
        "padded_data = tf.keras.preprocessing.sequence.pad_sequences(data.to_list(), padding = 'post')"
      ],
      "execution_count": 46,
      "outputs": []
    },
    {
      "cell_type": "code",
      "metadata": {
        "colab": {
          "base_uri": "https://localhost:8080/"
        },
        "id": "6w3GnYkTskWt",
        "outputId": "762a5f8f-cf40-41d8-c58c-82fbd0b378fd"
      },
      "source": [
        "padded_data"
      ],
      "execution_count": 47,
      "outputs": [
        {
          "output_type": "execute_result",
          "data": {
            "text/plain": [
              "array([[13,  8, 12, 18,  2],\n",
              "       [ 4, 19, 14,  7, 15],\n",
              "       [10,  2, 11, 16,  0],\n",
              "       [ 3,  5,  9,  0,  0],\n",
              "       [ 6, 17,  0,  0,  0]], dtype=int32)"
            ]
          },
          "metadata": {
            "tags": []
          },
          "execution_count": 47
        }
      ]
    },
    {
      "cell_type": "code",
      "metadata": {
        "id": "-DY1L8AsszwQ"
      },
      "source": [
        "#Since the padded data contain 0's which are actually of no information to the sequence we need to\n",
        "#hide/mask them during training (This can be done using an embedding layer with mask_zero set to true)"
      ],
      "execution_count": 48,
      "outputs": []
    },
    {
      "cell_type": "code",
      "metadata": {
        "id": "0ecln9csvQ0O"
      },
      "source": [
        "my_embedding = tf.keras.layers.Embedding(input_dim = 100, output_dim = 20, mask_zero = True)"
      ],
      "execution_count": 52,
      "outputs": []
    },
    {
      "cell_type": "code",
      "metadata": {
        "id": "5Y3LEPuyviLj"
      },
      "source": [
        "masked_data = my_embedding(padded_data)"
      ],
      "execution_count": 53,
      "outputs": []
    },
    {
      "cell_type": "code",
      "metadata": {
        "colab": {
          "base_uri": "https://localhost:8080/"
        },
        "id": "MieqcAinvs96",
        "outputId": "3236306c-bace-4cc2-c91f-eaae3f40392b"
      },
      "source": [
        "masked_data.shape"
      ],
      "execution_count": 55,
      "outputs": [
        {
          "output_type": "execute_result",
          "data": {
            "text/plain": [
              "TensorShape([5, 5, 20])"
            ]
          },
          "metadata": {
            "tags": []
          },
          "execution_count": 55
        }
      ]
    },
    {
      "cell_type": "code",
      "metadata": {
        "id": "oQOAu_bVvuQ1"
      },
      "source": [
        "#We can obtain the mask as follow (This will be nested list of booleans with false inplace of zeros) \n",
        "#with same dimension as the padded data"
      ],
      "execution_count": 62,
      "outputs": []
    },
    {
      "cell_type": "code",
      "metadata": {
        "colab": {
          "base_uri": "https://localhost:8080/"
        },
        "id": "xaU4vWcnwFX8",
        "outputId": "8cc04ca4-09a1-4c38-cefd-5dfd40fbe6bb"
      },
      "source": [
        "print(masked_data._keras_mask)"
      ],
      "execution_count": 63,
      "outputs": [
        {
          "output_type": "stream",
          "text": [
            "tf.Tensor(\n",
            "[[ True  True  True  True  True]\n",
            " [ True  True  True  True  True]\n",
            " [ True  True  True  True False]\n",
            " [ True  True  True False False]\n",
            " [ True  True False False False]], shape=(5, 5), dtype=bool)\n"
          ],
          "name": "stdout"
        }
      ]
    },
    {
      "cell_type": "code",
      "metadata": {
        "id": "gcpJVS_TwRxJ"
      },
      "source": [
        "#We can propagate the mask to any layer which is capable of recognizing the mask down the network by passing it\n",
        "#one time at the embedding layer"
      ],
      "execution_count": 64,
      "outputs": []
    },
    {
      "cell_type": "code",
      "metadata": {
        "id": "o7YxNcC57PQM"
      },
      "source": [
        "inputs = tf.keras.Input(shape = (10,),name = 'input_dim')\n",
        "x = tf.keras.layers.Embedding(input_dim = 1000, \n",
        "                              output_dim = 64, \n",
        "                              mask_zero = True, \n",
        "                              name = 'embedding_with_a_mask')(inputs)\n",
        "x = tf.keras.layers.LSTM(units = 128, \n",
        "                         return_sequences = True, \n",
        "                         dropout = 0.5,\n",
        "                         recurrent_dropout = True,\n",
        "                         kernel_initializer ='random_normal',\n",
        "                         name = 'lstm_layer')(x)\n",
        "x = tf.keras.layers.SimpleRNN(units = 64, \n",
        "                              return_sequences =True,\n",
        "                              recurrent_dropout = True,\n",
        "                              dropout = True,\n",
        "                              kernel_initializer = 'random_normal',\n",
        "                              name = 'rnn_layer')(x)\n",
        "x = tf.keras.layers.Dense(1024, activation = 'relu',\n",
        "                          kernel_initializer = 'random_normal',\n",
        "                          name = 'dense_layer')(x)\n",
        "x = tf.keras.layers.Dropout(rate = 0.5, name = 'dropout')(x)\n",
        "outputs = tf.keras.layers.Dense(units = 10, activation = 'softmax', name = 'output_layer')(x)"
      ],
      "execution_count": 67,
      "outputs": []
    },
    {
      "cell_type": "code",
      "metadata": {
        "id": "aibyjJtt9iQa"
      },
      "source": [
        "model = tf.keras.Model(inputs = inputs, outputs = outputs, name = 'mask_rnn')"
      ],
      "execution_count": 68,
      "outputs": []
    },
    {
      "cell_type": "code",
      "metadata": {
        "colab": {
          "base_uri": "https://localhost:8080/",
          "height": 1000
        },
        "id": "fiQuzqQG9s59",
        "outputId": "60bbbb1c-c763-4079-9def-67da9dee181d"
      },
      "source": [
        "model.summary()\n",
        "tf.keras.utils.plot_model(model = model, to_file = 'mask_rnn.png', show_shapes = True)"
      ],
      "execution_count": 69,
      "outputs": [
        {
          "output_type": "stream",
          "text": [
            "Model: \"mask_rnn\"\n",
            "_________________________________________________________________\n",
            "Layer (type)                 Output Shape              Param #   \n",
            "=================================================================\n",
            "input_dim (InputLayer)       [(None, 10)]              0         \n",
            "_________________________________________________________________\n",
            "embedding_with_a_mask (Embed (None, 10, 64)            64000     \n",
            "_________________________________________________________________\n",
            "lstm_layer (LSTM)            (None, 10, 128)           98816     \n",
            "_________________________________________________________________\n",
            "rnn_layer (SimpleRNN)        (None, 10, 64)            12352     \n",
            "_________________________________________________________________\n",
            "dense_layer (Dense)          (None, 10, 1024)          66560     \n",
            "_________________________________________________________________\n",
            "dropout (Dropout)            (None, 10, 1024)          0         \n",
            "_________________________________________________________________\n",
            "output_layer (Dense)         (None, 10, 10)            10250     \n",
            "=================================================================\n",
            "Total params: 251,978\n",
            "Trainable params: 251,978\n",
            "Non-trainable params: 0\n",
            "_________________________________________________________________\n"
          ],
          "name": "stdout"
        },
        {
          "output_type": "execute_result",
          "data": {
            "image/png": "[encoded data removed]",
            "text/plain": [
              "<IPython.core.display.Image object>"
            ]
          },
          "metadata": {
            "tags": []
          },
          "execution_count": 69
        }
      ]
    },
    {
      "cell_type": "code",
      "metadata": {
        "id": "0x2Rt1GB-OTP"
      },
      "source": [
        ""
      ],
      "execution_count": null,
      "outputs": []
    }
  ]
}