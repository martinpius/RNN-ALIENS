{
  "nbformat": 4,
  "nbformat_minor": 0,
  "metadata": {
    "colab": {
      "name": "RNN from scratch with the bidirectional LSTM architecture in Pytorch",
      "provenance": [],
      "authorship_tag": "ABX9TyM3mdHP8cjYF1N2/erV/e5r",
      "include_colab_link": true
    },
    "kernelspec": {
      "name": "python3",
      "display_name": "Python 3"
    },
    "language_info": {
      "name": "python"
    },
    "accelerator": "GPU",
    "widgets": {
      "application/vnd.jupyter.widget-state+json": {
        "3a64bea6f48f46409637f097bc1a0729": {
          "model_module": "@jupyter-widgets/controls",
          "model_name": "HBoxModel",
          "state": {
            "_view_name": "HBoxView",
            "_dom_classes": [],
            "_model_name": "HBoxModel",
            "_view_module": "@jupyter-widgets/controls",
            "_model_module_version": "1.5.0",
            "_view_count": null,
            "_view_module_version": "1.5.0",
            "box_style": "",
            "layout": "IPY_MODEL_32678505e2a74184acec52e0d11d7f02",
            "_model_module": "@jupyter-widgets/controls",
            "children": [
              "IPY_MODEL_cbed4fd66c1c4bfcb0a3ea332bcd2080",
              "IPY_MODEL_250032bff7984f20901c69e43a844735"
            ]
          }
        },
        "32678505e2a74184acec52e0d11d7f02": {
          "model_module": "@jupyter-widgets/base",
          "model_name": "LayoutModel",
          "state": {
            "_view_name": "LayoutView",
            "grid_template_rows": null,
            "right": null,
            "justify_content": null,
            "_view_module": "@jupyter-widgets/base",
            "overflow": null,
            "_model_module_version": "1.2.0",
            "_view_count": null,
            "flex_flow": null,
            "width": null,
            "min_width": null,
            "border": null,
            "align_items": null,
            "bottom": null,
            "_model_module": "@jupyter-widgets/base",
            "top": null,
            "grid_column": null,
            "overflow_y": null,
            "overflow_x": null,
            "grid_auto_flow": null,
            "grid_area": null,
            "grid_template_columns": null,
            "flex": null,
            "_model_name": "LayoutModel",
            "justify_items": null,
            "grid_row": null,
            "max_height": null,
            "align_content": null,
            "visibility": null,
            "align_self": null,
            "height": null,
            "min_height": null,
            "padding": null,
            "grid_auto_rows": null,
            "grid_gap": null,
            "max_width": null,
            "order": null,
            "_view_module_version": "1.2.0",
            "grid_template_areas": null,
            "object_position": null,
            "object_fit": null,
            "grid_auto_columns": null,
            "margin": null,
            "display": null,
            "left": null
          }
        },
        "cbed4fd66c1c4bfcb0a3ea332bcd2080": {
          "model_module": "@jupyter-widgets/controls",
          "model_name": "FloatProgressModel",
          "state": {
            "_view_name": "ProgressView",
            "style": "IPY_MODEL_9cbe7d0351d34003b3b769f40c407ffb",
            "_dom_classes": [],
            "description": "",
            "_model_name": "FloatProgressModel",
            "bar_style": "success",
            "max": 9912422,
            "_view_module": "@jupyter-widgets/controls",
            "_model_module_version": "1.5.0",
            "value": 9912422,
            "_view_count": null,
            "_view_module_version": "1.5.0",
            "orientation": "horizontal",
            "min": 0,
            "description_tooltip": null,
            "_model_module": "@jupyter-widgets/controls",
            "layout": "IPY_MODEL_cf377bc96b6e4017a397fd8bfad2b78f"
          }
        },
        "250032bff7984f20901c69e43a844735": {
          "model_module": "@jupyter-widgets/controls",
          "model_name": "HTMLModel",
          "state": {
            "_view_name": "HTMLView",
            "style": "IPY_MODEL_3582d69afc8b445bb3142d4c3fd3798a",
            "_dom_classes": [],
            "description": "",
            "_model_name": "HTMLModel",
            "placeholder": "​",
            "_view_module": "@jupyter-widgets/controls",
            "_model_module_version": "1.5.0",
            "value": " 9913344/? [00:12&lt;00:00, 774945.62it/s]",
            "_view_count": null,
            "_view_module_version": "1.5.0",
            "description_tooltip": null,
            "_model_module": "@jupyter-widgets/controls",
            "layout": "IPY_MODEL_ae8df0941b934d0a96d82a4ca22e1ca9"
          }
        },
        "9cbe7d0351d34003b3b769f40c407ffb": {
          "model_module": "@jupyter-widgets/controls",
          "model_name": "ProgressStyleModel",
          "state": {
            "_view_name": "StyleView",
            "_model_name": "ProgressStyleModel",
            "description_width": "initial",
            "_view_module": "@jupyter-widgets/base",
            "_model_module_version": "1.5.0",
            "_view_count": null,
            "_view_module_version": "1.2.0",
            "bar_color": null,
            "_model_module": "@jupyter-widgets/controls"
          }
        },
        "cf377bc96b6e4017a397fd8bfad2b78f": {
          "model_module": "@jupyter-widgets/base",
          "model_name": "LayoutModel",
          "state": {
            "_view_name": "LayoutView",
            "grid_template_rows": null,
            "right": null,
            "justify_content": null,
            "_view_module": "@jupyter-widgets/base",
            "overflow": null,
            "_model_module_version": "1.2.0",
            "_view_count": null,
            "flex_flow": null,
            "width": null,
            "min_width": null,
            "border": null,
            "align_items": null,
            "bottom": null,
            "_model_module": "@jupyter-widgets/base",
            "top": null,
            "grid_column": null,
            "overflow_y": null,
            "overflow_x": null,
            "grid_auto_flow": null,
            "grid_area": null,
            "grid_template_columns": null,
            "flex": null,
            "_model_name": "LayoutModel",
            "justify_items": null,
            "grid_row": null,
            "max_height": null,
            "align_content": null,
            "visibility": null,
            "align_self": null,
            "height": null,
            "min_height": null,
            "padding": null,
            "grid_auto_rows": null,
            "grid_gap": null,
            "max_width": null,
            "order": null,
            "_view_module_version": "1.2.0",
            "grid_template_areas": null,
            "object_position": null,
            "object_fit": null,
            "grid_auto_columns": null,
            "margin": null,
            "display": null,
            "left": null
          }
        },
        "3582d69afc8b445bb3142d4c3fd3798a": {
          "model_module": "@jupyter-widgets/controls",
          "model_name": "DescriptionStyleModel",
          "state": {
            "_view_name": "StyleView",
            "_model_name": "DescriptionStyleModel",
            "description_width": "",
            "_view_module": "@jupyter-widgets/base",
            "_model_module_version": "1.5.0",
            "_view_count": null,
            "_view_module_version": "1.2.0",
            "_model_module": "@jupyter-widgets/controls"
          }
        },
        "ae8df0941b934d0a96d82a4ca22e1ca9": {
          "model_module": "@jupyter-widgets/base",
          "model_name": "LayoutModel",
          "state": {
            "_view_name": "LayoutView",
            "grid_template_rows": null,
            "right": null,
            "justify_content": null,
            "_view_module": "@jupyter-widgets/base",
            "overflow": null,
            "_model_module_version": "1.2.0",
            "_view_count": null,
            "flex_flow": null,
            "width": null,
            "min_width": null,
            "border": null,
            "align_items": null,
            "bottom": null,
            "_model_module": "@jupyter-widgets/base",
            "top": null,
            "grid_column": null,
            "overflow_y": null,
            "overflow_x": null,
            "grid_auto_flow": null,
            "grid_area": null,
            "grid_template_columns": null,
            "flex": null,
            "_model_name": "LayoutModel",
            "justify_items": null,
            "grid_row": null,
            "max_height": null,
            "align_content": null,
            "visibility": null,
            "align_self": null,
            "height": null,
            "min_height": null,
            "padding": null,
            "grid_auto_rows": null,
            "grid_gap": null,
            "max_width": null,
            "order": null,
            "_view_module_version": "1.2.0",
            "grid_template_areas": null,
            "object_position": null,
            "object_fit": null,
            "grid_auto_columns": null,
            "margin": null,
            "display": null,
            "left": null
          }
        },
        "952fa89195fb42de8a01f6d836fb3b35": {
          "model_module": "@jupyter-widgets/controls",
          "model_name": "HBoxModel",
          "state": {
            "_view_name": "HBoxView",
            "_dom_classes": [],
            "_model_name": "HBoxModel",
            "_view_module": "@jupyter-widgets/controls",
            "_model_module_version": "1.5.0",
            "_view_count": null,
            "_view_module_version": "1.5.0",
            "box_style": "",
            "layout": "IPY_MODEL_f6bb58d48a694789a0c1c79bb84299f9",
            "_model_module": "@jupyter-widgets/controls",
            "children": [
              "IPY_MODEL_3f83cdafc5e146038e11506b3179b827",
              "IPY_MODEL_9c8d45321af2491c8ec9225918710ba9"
            ]
          }
        },
        "f6bb58d48a694789a0c1c79bb84299f9": {
          "model_module": "@jupyter-widgets/base",
          "model_name": "LayoutModel",
          "state": {
            "_view_name": "LayoutView",
            "grid_template_rows": null,
            "right": null,
            "justify_content": null,
            "_view_module": "@jupyter-widgets/base",
            "overflow": null,
            "_model_module_version": "1.2.0",
            "_view_count": null,
            "flex_flow": null,
            "width": null,
            "min_width": null,
            "border": null,
            "align_items": null,
            "bottom": null,
            "_model_module": "@jupyter-widgets/base",
            "top": null,
            "grid_column": null,
            "overflow_y": null,
            "overflow_x": null,
            "grid_auto_flow": null,
            "grid_area": null,
            "grid_template_columns": null,
            "flex": null,
            "_model_name": "LayoutModel",
            "justify_items": null,
            "grid_row": null,
            "max_height": null,
            "align_content": null,
            "visibility": null,
            "align_self": null,
            "height": null,
            "min_height": null,
            "padding": null,
            "grid_auto_rows": null,
            "grid_gap": null,
            "max_width": null,
            "order": null,
            "_view_module_version": "1.2.0",
            "grid_template_areas": null,
            "object_position": null,
            "object_fit": null,
            "grid_auto_columns": null,
            "margin": null,
            "display": null,
            "left": null
          }
        },
        "3f83cdafc5e146038e11506b3179b827": {
          "model_module": "@jupyter-widgets/controls",
          "model_name": "FloatProgressModel",
          "state": {
            "_view_name": "ProgressView",
            "style": "IPY_MODEL_8db755796cda4880b23dde19dc70e99d",
            "_dom_classes": [],
            "description": "",
            "_model_name": "FloatProgressModel",
            "bar_style": "success",
            "max": 28881,
            "_view_module": "@jupyter-widgets/controls",
            "_model_module_version": "1.5.0",
            "value": 28881,
            "_view_count": null,
            "_view_module_version": "1.5.0",
            "orientation": "horizontal",
            "min": 0,
            "description_tooltip": null,
            "_model_module": "@jupyter-widgets/controls",
            "layout": "IPY_MODEL_970285cad1364436a7400021a4f3638d"
          }
        },
        "9c8d45321af2491c8ec9225918710ba9": {
          "model_module": "@jupyter-widgets/controls",
          "model_name": "HTMLModel",
          "state": {
            "_view_name": "HTMLView",
            "style": "IPY_MODEL_f7c7b0f2e40d45bf8a506e412cbb0406",
            "_dom_classes": [],
            "description": "",
            "_model_name": "HTMLModel",
            "placeholder": "​",
            "_view_module": "@jupyter-widgets/controls",
            "_model_module_version": "1.5.0",
            "value": " 29696/? [00:02&lt;00:00, 14777.29it/s]",
            "_view_count": null,
            "_view_module_version": "1.5.0",
            "description_tooltip": null,
            "_model_module": "@jupyter-widgets/controls",
            "layout": "IPY_MODEL_29df109f242746e49f500620057d82db"
          }
        },
        "8db755796cda4880b23dde19dc70e99d": {
          "model_module": "@jupyter-widgets/controls",
          "model_name": "ProgressStyleModel",
          "state": {
            "_view_name": "StyleView",
            "_model_name": "ProgressStyleModel",
            "description_width": "initial",
            "_view_module": "@jupyter-widgets/base",
            "_model_module_version": "1.5.0",
            "_view_count": null,
            "_view_module_version": "1.2.0",
            "bar_color": null,
            "_model_module": "@jupyter-widgets/controls"
          }
        },
        "970285cad1364436a7400021a4f3638d": {
          "model_module": "@jupyter-widgets/base",
          "model_name": "LayoutModel",
          "state": {
            "_view_name": "LayoutView",
            "grid_template_rows": null,
            "right": null,
            "justify_content": null,
            "_view_module": "@jupyter-widgets/base",
            "overflow": null,
            "_model_module_version": "1.2.0",
            "_view_count": null,
            "flex_flow": null,
            "width": null,
            "min_width": null,
            "border": null,
            "align_items": null,
            "bottom": null,
            "_model_module": "@jupyter-widgets/base",
            "top": null,
            "grid_column": null,
            "overflow_y": null,
            "overflow_x": null,
            "grid_auto_flow": null,
            "grid_area": null,
            "grid_template_columns": null,
            "flex": null,
            "_model_name": "LayoutModel",
            "justify_items": null,
            "grid_row": null,
            "max_height": null,
            "align_content": null,
            "visibility": null,
            "align_self": null,
            "height": null,
            "min_height": null,
            "padding": null,
            "grid_auto_rows": null,
            "grid_gap": null,
            "max_width": null,
            "order": null,
            "_view_module_version": "1.2.0",
            "grid_template_areas": null,
            "object_position": null,
            "object_fit": null,
            "grid_auto_columns": null,
            "margin": null,
            "display": null,
            "left": null
          }
        },
        "f7c7b0f2e40d45bf8a506e412cbb0406": {
          "model_module": "@jupyter-widgets/controls",
          "model_name": "DescriptionStyleModel",
          "state": {
            "_view_name": "StyleView",
            "_model_name": "DescriptionStyleModel",
            "description_width": "",
            "_view_module": "@jupyter-widgets/base",
            "_model_module_version": "1.5.0",
            "_view_count": null,
            "_view_module_version": "1.2.0",
            "_model_module": "@jupyter-widgets/controls"
          }
        },
        "29df109f242746e49f500620057d82db": {
          "model_module": "@jupyter-widgets/base",
          "model_name": "LayoutModel",
          "state": {
            "_view_name": "LayoutView",
            "grid_template_rows": null,
            "right": null,
            "justify_content": null,
            "_view_module": "@jupyter-widgets/base",
            "overflow": null,
            "_model_module_version": "1.2.0",
            "_view_count": null,
            "flex_flow": null,
            "width": null,
            "min_width": null,
            "border": null,
            "align_items": null,
            "bottom": null,
            "_model_module": "@jupyter-widgets/base",
            "top": null,
            "grid_column": null,
            "overflow_y": null,
            "overflow_x": null,
            "grid_auto_flow": null,
            "grid_area": null,
            "grid_template_columns": null,
            "flex": null,
            "_model_name": "LayoutModel",
            "justify_items": null,
            "grid_row": null,
            "max_height": null,
            "align_content": null,
            "visibility": null,
            "align_self": null,
            "height": null,
            "min_height": null,
            "padding": null,
            "grid_auto_rows": null,
            "grid_gap": null,
            "max_width": null,
            "order": null,
            "_view_module_version": "1.2.0",
            "grid_template_areas": null,
            "object_position": null,
            "object_fit": null,
            "grid_auto_columns": null,
            "margin": null,
            "display": null,
            "left": null
          }
        },
        "e7ef056071bc488792540603c3b620b1": {
          "model_module": "@jupyter-widgets/controls",
          "model_name": "HBoxModel",
          "state": {
            "_view_name": "HBoxView",
            "_dom_classes": [],
            "_model_name": "HBoxModel",
            "_view_module": "@jupyter-widgets/controls",
            "_model_module_version": "1.5.0",
            "_view_count": null,
            "_view_module_version": "1.5.0",
            "box_style": "",
            "layout": "IPY_MODEL_17b4cdd3b06c4e0a9fb7038a0302399a",
            "_model_module": "@jupyter-widgets/controls",
            "children": [
              "IPY_MODEL_b3b766a5ff9a4d1e8247baa0ee8e1225",
              "IPY_MODEL_a6a0da4dad964fc7af21e1f352af5ebd"
            ]
          }
        },
        "17b4cdd3b06c4e0a9fb7038a0302399a": {
          "model_module": "@jupyter-widgets/base",
          "model_name": "LayoutModel",
          "state": {
            "_view_name": "LayoutView",
            "grid_template_rows": null,
            "right": null,
            "justify_content": null,
            "_view_module": "@jupyter-widgets/base",
            "overflow": null,
            "_model_module_version": "1.2.0",
            "_view_count": null,
            "flex_flow": null,
            "width": null,
            "min_width": null,
            "border": null,
            "align_items": null,
            "bottom": null,
            "_model_module": "@jupyter-widgets/base",
            "top": null,
            "grid_column": null,
            "overflow_y": null,
            "overflow_x": null,
            "grid_auto_flow": null,
            "grid_area": null,
            "grid_template_columns": null,
            "flex": null,
            "_model_name": "LayoutModel",
            "justify_items": null,
            "grid_row": null,
            "max_height": null,
            "align_content": null,
            "visibility": null,
            "align_self": null,
            "height": null,
            "min_height": null,
            "padding": null,
            "grid_auto_rows": null,
            "grid_gap": null,
            "max_width": null,
            "order": null,
            "_view_module_version": "1.2.0",
            "grid_template_areas": null,
            "object_position": null,
            "object_fit": null,
            "grid_auto_columns": null,
            "margin": null,
            "display": null,
            "left": null
          }
        },
        "b3b766a5ff9a4d1e8247baa0ee8e1225": {
          "model_module": "@jupyter-widgets/controls",
          "model_name": "FloatProgressModel",
          "state": {
            "_view_name": "ProgressView",
            "style": "IPY_MODEL_8dd5ca8c925a477ab371736e92c5815c",
            "_dom_classes": [],
            "description": "",
            "_model_name": "FloatProgressModel",
            "bar_style": "success",
            "max": 1648877,
            "_view_module": "@jupyter-widgets/controls",
            "_model_module_version": "1.5.0",
            "value": 1648877,
            "_view_count": null,
            "_view_module_version": "1.5.0",
            "orientation": "horizontal",
            "min": 0,
            "description_tooltip": null,
            "_model_module": "@jupyter-widgets/controls",
            "layout": "IPY_MODEL_bf35133ba92b411daca12f53fb9a158c"
          }
        },
        "a6a0da4dad964fc7af21e1f352af5ebd": {
          "model_module": "@jupyter-widgets/controls",
          "model_name": "HTMLModel",
          "state": {
            "_view_name": "HTMLView",
            "style": "IPY_MODEL_a2c2105926b042e6a4c745374d0d63a2",
            "_dom_classes": [],
            "description": "",
            "_model_name": "HTMLModel",
            "placeholder": "​",
            "_view_module": "@jupyter-widgets/controls",
            "_model_module_version": "1.5.0",
            "value": " 1649664/? [00:01&lt;00:00, 1327489.20it/s]",
            "_view_count": null,
            "_view_module_version": "1.5.0",
            "description_tooltip": null,
            "_model_module": "@jupyter-widgets/controls",
            "layout": "IPY_MODEL_19940c2eb1bd4f878e0a4315937c5d5a"
          }
        },
        "8dd5ca8c925a477ab371736e92c5815c": {
          "model_module": "@jupyter-widgets/controls",
          "model_name": "ProgressStyleModel",
          "state": {
            "_view_name": "StyleView",
            "_model_name": "ProgressStyleModel",
            "description_width": "initial",
            "_view_module": "@jupyter-widgets/base",
            "_model_module_version": "1.5.0",
            "_view_count": null,
            "_view_module_version": "1.2.0",
            "bar_color": null,
            "_model_module": "@jupyter-widgets/controls"
          }
        },
        "bf35133ba92b411daca12f53fb9a158c": {
          "model_module": "@jupyter-widgets/base",
          "model_name": "LayoutModel",
          "state": {
            "_view_name": "LayoutView",
            "grid_template_rows": null,
            "right": null,
            "justify_content": null,
            "_view_module": "@jupyter-widgets/base",
            "overflow": null,
            "_model_module_version": "1.2.0",
            "_view_count": null,
            "flex_flow": null,
            "width": null,
            "min_width": null,
            "border": null,
            "align_items": null,
            "bottom": null,
            "_model_module": "@jupyter-widgets/base",
            "top": null,
            "grid_column": null,
            "overflow_y": null,
            "overflow_x": null,
            "grid_auto_flow": null,
            "grid_area": null,
            "grid_template_columns": null,
            "flex": null,
            "_model_name": "LayoutModel",
            "justify_items": null,
            "grid_row": null,
            "max_height": null,
            "align_content": null,
            "visibility": null,
            "align_self": null,
            "height": null,
            "min_height": null,
            "padding": null,
            "grid_auto_rows": null,
            "grid_gap": null,
            "max_width": null,
            "order": null,
            "_view_module_version": "1.2.0",
            "grid_template_areas": null,
            "object_position": null,
            "object_fit": null,
            "grid_auto_columns": null,
            "margin": null,
            "display": null,
            "left": null
          }
        },
        "a2c2105926b042e6a4c745374d0d63a2": {
          "model_module": "@jupyter-widgets/controls",
          "model_name": "DescriptionStyleModel",
          "state": {
            "_view_name": "StyleView",
            "_model_name": "DescriptionStyleModel",
            "description_width": "",
            "_view_module": "@jupyter-widgets/base",
            "_model_module_version": "1.5.0",
            "_view_count": null,
            "_view_module_version": "1.2.0",
            "_model_module": "@jupyter-widgets/controls"
          }
        },
        "19940c2eb1bd4f878e0a4315937c5d5a": {
          "model_module": "@jupyter-widgets/base",
          "model_name": "LayoutModel",
          "state": {
            "_view_name": "LayoutView",
            "grid_template_rows": null,
            "right": null,
            "justify_content": null,
            "_view_module": "@jupyter-widgets/base",
            "overflow": null,
            "_model_module_version": "1.2.0",
            "_view_count": null,
            "flex_flow": null,
            "width": null,
            "min_width": null,
            "border": null,
            "align_items": null,
            "bottom": null,
            "_model_module": "@jupyter-widgets/base",
            "top": null,
            "grid_column": null,
            "overflow_y": null,
            "overflow_x": null,
            "grid_auto_flow": null,
            "grid_area": null,
            "grid_template_columns": null,
            "flex": null,
            "_model_name": "LayoutModel",
            "justify_items": null,
            "grid_row": null,
            "max_height": null,
            "align_content": null,
            "visibility": null,
            "align_self": null,
            "height": null,
            "min_height": null,
            "padding": null,
            "grid_auto_rows": null,
            "grid_gap": null,
            "max_width": null,
            "order": null,
            "_view_module_version": "1.2.0",
            "grid_template_areas": null,
            "object_position": null,
            "object_fit": null,
            "grid_auto_columns": null,
            "margin": null,
            "display": null,
            "left": null
          }
        },
        "23b2bcac443948a9b2f697f525a05b9b": {
          "model_module": "@jupyter-widgets/controls",
          "model_name": "HBoxModel",
          "state": {
            "_view_name": "HBoxView",
            "_dom_classes": [],
            "_model_name": "HBoxModel",
            "_view_module": "@jupyter-widgets/controls",
            "_model_module_version": "1.5.0",
            "_view_count": null,
            "_view_module_version": "1.5.0",
            "box_style": "",
            "layout": "IPY_MODEL_3b24bb564c48423883257907bd716306",
            "_model_module": "@jupyter-widgets/controls",
            "children": [
              "IPY_MODEL_19aad9ce1ac04a8fb21627db29f8ff70",
              "IPY_MODEL_e0cc1d5e4aaa4ff1b291303a3487d6cf"
            ]
          }
        },
        "3b24bb564c48423883257907bd716306": {
          "model_module": "@jupyter-widgets/base",
          "model_name": "LayoutModel",
          "state": {
            "_view_name": "LayoutView",
            "grid_template_rows": null,
            "right": null,
            "justify_content": null,
            "_view_module": "@jupyter-widgets/base",
            "overflow": null,
            "_model_module_version": "1.2.0",
            "_view_count": null,
            "flex_flow": null,
            "width": null,
            "min_width": null,
            "border": null,
            "align_items": null,
            "bottom": null,
            "_model_module": "@jupyter-widgets/base",
            "top": null,
            "grid_column": null,
            "overflow_y": null,
            "overflow_x": null,
            "grid_auto_flow": null,
            "grid_area": null,
            "grid_template_columns": null,
            "flex": null,
            "_model_name": "LayoutModel",
            "justify_items": null,
            "grid_row": null,
            "max_height": null,
            "align_content": null,
            "visibility": null,
            "align_self": null,
            "height": null,
            "min_height": null,
            "padding": null,
            "grid_auto_rows": null,
            "grid_gap": null,
            "max_width": null,
            "order": null,
            "_view_module_version": "1.2.0",
            "grid_template_areas": null,
            "object_position": null,
            "object_fit": null,
            "grid_auto_columns": null,
            "margin": null,
            "display": null,
            "left": null
          }
        },
        "19aad9ce1ac04a8fb21627db29f8ff70": {
          "model_module": "@jupyter-widgets/controls",
          "model_name": "FloatProgressModel",
          "state": {
            "_view_name": "ProgressView",
            "style": "IPY_MODEL_839ef178a3ba470985181354d1f785ca",
            "_dom_classes": [],
            "description": "",
            "_model_name": "FloatProgressModel",
            "bar_style": "success",
            "max": 4542,
            "_view_module": "@jupyter-widgets/controls",
            "_model_module_version": "1.5.0",
            "value": 4542,
            "_view_count": null,
            "_view_module_version": "1.5.0",
            "orientation": "horizontal",
            "min": 0,
            "description_tooltip": null,
            "_model_module": "@jupyter-widgets/controls",
            "layout": "IPY_MODEL_c9e154e42bd24b76a46518d432f44307"
          }
        },
        "e0cc1d5e4aaa4ff1b291303a3487d6cf": {
          "model_module": "@jupyter-widgets/controls",
          "model_name": "HTMLModel",
          "state": {
            "_view_name": "HTMLView",
            "style": "IPY_MODEL_9cb676714b1f4fb484bb23536d6d33a9",
            "_dom_classes": [],
            "description": "",
            "_model_name": "HTMLModel",
            "placeholder": "​",
            "_view_module": "@jupyter-widgets/controls",
            "_model_module_version": "1.5.0",
            "value": " 5120/? [00:08&lt;00:00, 575.74it/s]",
            "_view_count": null,
            "_view_module_version": "1.5.0",
            "description_tooltip": null,
            "_model_module": "@jupyter-widgets/controls",
            "layout": "IPY_MODEL_1d91466af05b42caa094a5fe4e723f51"
          }
        },
        "839ef178a3ba470985181354d1f785ca": {
          "model_module": "@jupyter-widgets/controls",
          "model_name": "ProgressStyleModel",
          "state": {
            "_view_name": "StyleView",
            "_model_name": "ProgressStyleModel",
            "description_width": "initial",
            "_view_module": "@jupyter-widgets/base",
            "_model_module_version": "1.5.0",
            "_view_count": null,
            "_view_module_version": "1.2.0",
            "bar_color": null,
            "_model_module": "@jupyter-widgets/controls"
          }
        },
        "c9e154e42bd24b76a46518d432f44307": {
          "model_module": "@jupyter-widgets/base",
          "model_name": "LayoutModel",
          "state": {
            "_view_name": "LayoutView",
            "grid_template_rows": null,
            "right": null,
            "justify_content": null,
            "_view_module": "@jupyter-widgets/base",
            "overflow": null,
            "_model_module_version": "1.2.0",
            "_view_count": null,
            "flex_flow": null,
            "width": null,
            "min_width": null,
            "border": null,
            "align_items": null,
            "bottom": null,
            "_model_module": "@jupyter-widgets/base",
            "top": null,
            "grid_column": null,
            "overflow_y": null,
            "overflow_x": null,
            "grid_auto_flow": null,
            "grid_area": null,
            "grid_template_columns": null,
            "flex": null,
            "_model_name": "LayoutModel",
            "justify_items": null,
            "grid_row": null,
            "max_height": null,
            "align_content": null,
            "visibility": null,
            "align_self": null,
            "height": null,
            "min_height": null,
            "padding": null,
            "grid_auto_rows": null,
            "grid_gap": null,
            "max_width": null,
            "order": null,
            "_view_module_version": "1.2.0",
            "grid_template_areas": null,
            "object_position": null,
            "object_fit": null,
            "grid_auto_columns": null,
            "margin": null,
            "display": null,
            "left": null
          }
        },
        "9cb676714b1f4fb484bb23536d6d33a9": {
          "model_module": "@jupyter-widgets/controls",
          "model_name": "DescriptionStyleModel",
          "state": {
            "_view_name": "StyleView",
            "_model_name": "DescriptionStyleModel",
            "description_width": "",
            "_view_module": "@jupyter-widgets/base",
            "_model_module_version": "1.5.0",
            "_view_count": null,
            "_view_module_version": "1.2.0",
            "_model_module": "@jupyter-widgets/controls"
          }
        },
        "1d91466af05b42caa094a5fe4e723f51": {
          "model_module": "@jupyter-widgets/base",
          "model_name": "LayoutModel",
          "state": {
            "_view_name": "LayoutView",
            "grid_template_rows": null,
            "right": null,
            "justify_content": null,
            "_view_module": "@jupyter-widgets/base",
            "overflow": null,
            "_model_module_version": "1.2.0",
            "_view_count": null,
            "flex_flow": null,
            "width": null,
            "min_width": null,
            "border": null,
            "align_items": null,
            "bottom": null,
            "_model_module": "@jupyter-widgets/base",
            "top": null,
            "grid_column": null,
            "overflow_y": null,
            "overflow_x": null,
            "grid_auto_flow": null,
            "grid_area": null,
            "grid_template_columns": null,
            "flex": null,
            "_model_name": "LayoutModel",
            "justify_items": null,
            "grid_row": null,
            "max_height": null,
            "align_content": null,
            "visibility": null,
            "align_self": null,
            "height": null,
            "min_height": null,
            "padding": null,
            "grid_auto_rows": null,
            "grid_gap": null,
            "max_width": null,
            "order": null,
            "_view_module_version": "1.2.0",
            "grid_template_areas": null,
            "object_position": null,
            "object_fit": null,
            "grid_auto_columns": null,
            "margin": null,
            "display": null,
            "left": null
          }
        },
        "efdc8d94d76c4a63bd0469bfee222c0b": {
          "model_module": "@jupyter-widgets/controls",
          "model_name": "HBoxModel",
          "state": {
            "_view_name": "HBoxView",
            "_dom_classes": [],
            "_model_name": "HBoxModel",
            "_view_module": "@jupyter-widgets/controls",
            "_model_module_version": "1.5.0",
            "_view_count": null,
            "_view_module_version": "1.5.0",
            "box_style": "",
            "layout": "IPY_MODEL_2d7f7b317bf544809bdadd500411c004",
            "_model_module": "@jupyter-widgets/controls",
            "children": [
              "IPY_MODEL_0b2dbd65fd4840e4ae71b75d208d2f32",
              "IPY_MODEL_878a78bfd24e470dbc6e0e556dfc2fb2"
            ]
          }
        },
        "2d7f7b317bf544809bdadd500411c004": {
          "model_module": "@jupyter-widgets/base",
          "model_name": "LayoutModel",
          "state": {
            "_view_name": "LayoutView",
            "grid_template_rows": null,
            "right": null,
            "justify_content": null,
            "_view_module": "@jupyter-widgets/base",
            "overflow": null,
            "_model_module_version": "1.2.0",
            "_view_count": null,
            "flex_flow": null,
            "width": null,
            "min_width": null,
            "border": null,
            "align_items": null,
            "bottom": null,
            "_model_module": "@jupyter-widgets/base",
            "top": null,
            "grid_column": null,
            "overflow_y": null,
            "overflow_x": null,
            "grid_auto_flow": null,
            "grid_area": null,
            "grid_template_columns": null,
            "flex": null,
            "_model_name": "LayoutModel",
            "justify_items": null,
            "grid_row": null,
            "max_height": null,
            "align_content": null,
            "visibility": null,
            "align_self": null,
            "height": null,
            "min_height": null,
            "padding": null,
            "grid_auto_rows": null,
            "grid_gap": null,
            "max_width": null,
            "order": null,
            "_view_module_version": "1.2.0",
            "grid_template_areas": null,
            "object_position": null,
            "object_fit": null,
            "grid_auto_columns": null,
            "margin": null,
            "display": null,
            "left": null
          }
        },
        "0b2dbd65fd4840e4ae71b75d208d2f32": {
          "model_module": "@jupyter-widgets/controls",
          "model_name": "FloatProgressModel",
          "state": {
            "_view_name": "ProgressView",
            "style": "IPY_MODEL_092d033526b84e0d906fee455bc6cfbe",
            "_dom_classes": [],
            "description": "",
            "_model_name": "FloatProgressModel",
            "bar_style": "success",
            "max": 9912422,
            "_view_module": "@jupyter-widgets/controls",
            "_model_module_version": "1.5.0",
            "value": 9912422,
            "_view_count": null,
            "_view_module_version": "1.5.0",
            "orientation": "horizontal",
            "min": 0,
            "description_tooltip": null,
            "_model_module": "@jupyter-widgets/controls",
            "layout": "IPY_MODEL_ce092b0a355e4cbca817bdfaa4b58a73"
          }
        },
        "878a78bfd24e470dbc6e0e556dfc2fb2": {
          "model_module": "@jupyter-widgets/controls",
          "model_name": "HTMLModel",
          "state": {
            "_view_name": "HTMLView",
            "style": "IPY_MODEL_da90d95e2a28447c936b000c2025c47c",
            "_dom_classes": [],
            "description": "",
            "_model_name": "HTMLModel",
            "placeholder": "​",
            "_view_module": "@jupyter-widgets/controls",
            "_model_module_version": "1.5.0",
            "value": " 9913344/? [00:02&lt;00:00, 4119557.39it/s]",
            "_view_count": null,
            "_view_module_version": "1.5.0",
            "description_tooltip": null,
            "_model_module": "@jupyter-widgets/controls",
            "layout": "IPY_MODEL_25bfb4f874294699af20ad0293f0ccdf"
          }
        },
        "092d033526b84e0d906fee455bc6cfbe": {
          "model_module": "@jupyter-widgets/controls",
          "model_name": "ProgressStyleModel",
          "state": {
            "_view_name": "StyleView",
            "_model_name": "ProgressStyleModel",
            "description_width": "initial",
            "_view_module": "@jupyter-widgets/base",
            "_model_module_version": "1.5.0",
            "_view_count": null,
            "_view_module_version": "1.2.0",
            "bar_color": null,
            "_model_module": "@jupyter-widgets/controls"
          }
        },
        "ce092b0a355e4cbca817bdfaa4b58a73": {
          "model_module": "@jupyter-widgets/base",
          "model_name": "LayoutModel",
          "state": {
            "_view_name": "LayoutView",
            "grid_template_rows": null,
            "right": null,
            "justify_content": null,
            "_view_module": "@jupyter-widgets/base",
            "overflow": null,
            "_model_module_version": "1.2.0",
            "_view_count": null,
            "flex_flow": null,
            "width": null,
            "min_width": null,
            "border": null,
            "align_items": null,
            "bottom": null,
            "_model_module": "@jupyter-widgets/base",
            "top": null,
            "grid_column": null,
            "overflow_y": null,
            "overflow_x": null,
            "grid_auto_flow": null,
            "grid_area": null,
            "grid_template_columns": null,
            "flex": null,
            "_model_name": "LayoutModel",
            "justify_items": null,
            "grid_row": null,
            "max_height": null,
            "align_content": null,
            "visibility": null,
            "align_self": null,
            "height": null,
            "min_height": null,
            "padding": null,
            "grid_auto_rows": null,
            "grid_gap": null,
            "max_width": null,
            "order": null,
            "_view_module_version": "1.2.0",
            "grid_template_areas": null,
            "object_position": null,
            "object_fit": null,
            "grid_auto_columns": null,
            "margin": null,
            "display": null,
            "left": null
          }
        },
        "da90d95e2a28447c936b000c2025c47c": {
          "model_module": "@jupyter-widgets/controls",
          "model_name": "DescriptionStyleModel",
          "state": {
            "_view_name": "StyleView",
            "_model_name": "DescriptionStyleModel",
            "description_width": "",
            "_view_module": "@jupyter-widgets/base",
            "_model_module_version": "1.5.0",
            "_view_count": null,
            "_view_module_version": "1.2.0",
            "_model_module": "@jupyter-widgets/controls"
          }
        },
        "25bfb4f874294699af20ad0293f0ccdf": {
          "model_module": "@jupyter-widgets/base",
          "model_name": "LayoutModel",
          "state": {
            "_view_name": "LayoutView",
            "grid_template_rows": null,
            "right": null,
            "justify_content": null,
            "_view_module": "@jupyter-widgets/base",
            "overflow": null,
            "_model_module_version": "1.2.0",
            "_view_count": null,
            "flex_flow": null,
            "width": null,
            "min_width": null,
            "border": null,
            "align_items": null,
            "bottom": null,
            "_model_module": "@jupyter-widgets/base",
            "top": null,
            "grid_column": null,
            "overflow_y": null,
            "overflow_x": null,
            "grid_auto_flow": null,
            "grid_area": null,
            "grid_template_columns": null,
            "flex": null,
            "_model_name": "LayoutModel",
            "justify_items": null,
            "grid_row": null,
            "max_height": null,
            "align_content": null,
            "visibility": null,
            "align_self": null,
            "height": null,
            "min_height": null,
            "padding": null,
            "grid_auto_rows": null,
            "grid_gap": null,
            "max_width": null,
            "order": null,
            "_view_module_version": "1.2.0",
            "grid_template_areas": null,
            "object_position": null,
            "object_fit": null,
            "grid_auto_columns": null,
            "margin": null,
            "display": null,
            "left": null
          }
        },
        "338bfa9fa4c14cbbad6cb9b58f4da11b": {
          "model_module": "@jupyter-widgets/controls",
          "model_name": "HBoxModel",
          "state": {
            "_view_name": "HBoxView",
            "_dom_classes": [],
            "_model_name": "HBoxModel",
            "_view_module": "@jupyter-widgets/controls",
            "_model_module_version": "1.5.0",
            "_view_count": null,
            "_view_module_version": "1.5.0",
            "box_style": "",
            "layout": "IPY_MODEL_9425307f1cd8478a9ca89fbe470fbc52",
            "_model_module": "@jupyter-widgets/controls",
            "children": [
              "IPY_MODEL_2ca4bf573c734733b56b712ab8fd19a9",
              "IPY_MODEL_2982e2c3334844a4a3df861254fa8693"
            ]
          }
        },
        "9425307f1cd8478a9ca89fbe470fbc52": {
          "model_module": "@jupyter-widgets/base",
          "model_name": "LayoutModel",
          "state": {
            "_view_name": "LayoutView",
            "grid_template_rows": null,
            "right": null,
            "justify_content": null,
            "_view_module": "@jupyter-widgets/base",
            "overflow": null,
            "_model_module_version": "1.2.0",
            "_view_count": null,
            "flex_flow": null,
            "width": null,
            "min_width": null,
            "border": null,
            "align_items": null,
            "bottom": null,
            "_model_module": "@jupyter-widgets/base",
            "top": null,
            "grid_column": null,
            "overflow_y": null,
            "overflow_x": null,
            "grid_auto_flow": null,
            "grid_area": null,
            "grid_template_columns": null,
            "flex": null,
            "_model_name": "LayoutModel",
            "justify_items": null,
            "grid_row": null,
            "max_height": null,
            "align_content": null,
            "visibility": null,
            "align_self": null,
            "height": null,
            "min_height": null,
            "padding": null,
            "grid_auto_rows": null,
            "grid_gap": null,
            "max_width": null,
            "order": null,
            "_view_module_version": "1.2.0",
            "grid_template_areas": null,
            "object_position": null,
            "object_fit": null,
            "grid_auto_columns": null,
            "margin": null,
            "display": null,
            "left": null
          }
        },
        "2ca4bf573c734733b56b712ab8fd19a9": {
          "model_module": "@jupyter-widgets/controls",
          "model_name": "FloatProgressModel",
          "state": {
            "_view_name": "ProgressView",
            "style": "IPY_MODEL_d0b298420f884978b894b1ff2ff38b0e",
            "_dom_classes": [],
            "description": "",
            "_model_name": "FloatProgressModel",
            "bar_style": "success",
            "max": 28881,
            "_view_module": "@jupyter-widgets/controls",
            "_model_module_version": "1.5.0",
            "value": 28881,
            "_view_count": null,
            "_view_module_version": "1.5.0",
            "orientation": "horizontal",
            "min": 0,
            "description_tooltip": null,
            "_model_module": "@jupyter-widgets/controls",
            "layout": "IPY_MODEL_b1e7c6c4cbbe4b4ea24dfcd7f56e7c03"
          }
        },
        "2982e2c3334844a4a3df861254fa8693": {
          "model_module": "@jupyter-widgets/controls",
          "model_name": "HTMLModel",
          "state": {
            "_view_name": "HTMLView",
            "style": "IPY_MODEL_15d596dbfa2c4dbf805f629d99e3ce94",
            "_dom_classes": [],
            "description": "",
            "_model_name": "HTMLModel",
            "placeholder": "​",
            "_view_module": "@jupyter-widgets/controls",
            "_model_module_version": "1.5.0",
            "value": " 29696/? [00:01&lt;00:00, 28955.50it/s]",
            "_view_count": null,
            "_view_module_version": "1.5.0",
            "description_tooltip": null,
            "_model_module": "@jupyter-widgets/controls",
            "layout": "IPY_MODEL_1d08798e6a364d9187499e00345ceed0"
          }
        },
        "d0b298420f884978b894b1ff2ff38b0e": {
          "model_module": "@jupyter-widgets/controls",
          "model_name": "ProgressStyleModel",
          "state": {
            "_view_name": "StyleView",
            "_model_name": "ProgressStyleModel",
            "description_width": "initial",
            "_view_module": "@jupyter-widgets/base",
            "_model_module_version": "1.5.0",
            "_view_count": null,
            "_view_module_version": "1.2.0",
            "bar_color": null,
            "_model_module": "@jupyter-widgets/controls"
          }
        },
        "b1e7c6c4cbbe4b4ea24dfcd7f56e7c03": {
          "model_module": "@jupyter-widgets/base",
          "model_name": "LayoutModel",
          "state": {
            "_view_name": "LayoutView",
            "grid_template_rows": null,
            "right": null,
            "justify_content": null,
            "_view_module": "@jupyter-widgets/base",
            "overflow": null,
            "_model_module_version": "1.2.0",
            "_view_count": null,
            "flex_flow": null,
            "width": null,
            "min_width": null,
            "border": null,
            "align_items": null,
            "bottom": null,
            "_model_module": "@jupyter-widgets/base",
            "top": null,
            "grid_column": null,
            "overflow_y": null,
            "overflow_x": null,
            "grid_auto_flow": null,
            "grid_area": null,
            "grid_template_columns": null,
            "flex": null,
            "_model_name": "LayoutModel",
            "justify_items": null,
            "grid_row": null,
            "max_height": null,
            "align_content": null,
            "visibility": null,
            "align_self": null,
            "height": null,
            "min_height": null,
            "padding": null,
            "grid_auto_rows": null,
            "grid_gap": null,
            "max_width": null,
            "order": null,
            "_view_module_version": "1.2.0",
            "grid_template_areas": null,
            "object_position": null,
            "object_fit": null,
            "grid_auto_columns": null,
            "margin": null,
            "display": null,
            "left": null
          }
        },
        "15d596dbfa2c4dbf805f629d99e3ce94": {
          "model_module": "@jupyter-widgets/controls",
          "model_name": "DescriptionStyleModel",
          "state": {
            "_view_name": "StyleView",
            "_model_name": "DescriptionStyleModel",
            "description_width": "",
            "_view_module": "@jupyter-widgets/base",
            "_model_module_version": "1.5.0",
            "_view_count": null,
            "_view_module_version": "1.2.0",
            "_model_module": "@jupyter-widgets/controls"
          }
        },
        "1d08798e6a364d9187499e00345ceed0": {
          "model_module": "@jupyter-widgets/base",
          "model_name": "LayoutModel",
          "state": {
            "_view_name": "LayoutView",
            "grid_template_rows": null,
            "right": null,
            "justify_content": null,
            "_view_module": "@jupyter-widgets/base",
            "overflow": null,
            "_model_module_version": "1.2.0",
            "_view_count": null,
            "flex_flow": null,
            "width": null,
            "min_width": null,
            "border": null,
            "align_items": null,
            "bottom": null,
            "_model_module": "@jupyter-widgets/base",
            "top": null,
            "grid_column": null,
            "overflow_y": null,
            "overflow_x": null,
            "grid_auto_flow": null,
            "grid_area": null,
            "grid_template_columns": null,
            "flex": null,
            "_model_name": "LayoutModel",
            "justify_items": null,
            "grid_row": null,
            "max_height": null,
            "align_content": null,
            "visibility": null,
            "align_self": null,
            "height": null,
            "min_height": null,
            "padding": null,
            "grid_auto_rows": null,
            "grid_gap": null,
            "max_width": null,
            "order": null,
            "_view_module_version": "1.2.0",
            "grid_template_areas": null,
            "object_position": null,
            "object_fit": null,
            "grid_auto_columns": null,
            "margin": null,
            "display": null,
            "left": null
          }
        },
        "c96605c620a8400ebe24b9c8fa5d525c": {
          "model_module": "@jupyter-widgets/controls",
          "model_name": "HBoxModel",
          "state": {
            "_view_name": "HBoxView",
            "_dom_classes": [],
            "_model_name": "HBoxModel",
            "_view_module": "@jupyter-widgets/controls",
            "_model_module_version": "1.5.0",
            "_view_count": null,
            "_view_module_version": "1.5.0",
            "box_style": "",
            "layout": "IPY_MODEL_b4a3d119d0524c829b6d02c0c44ef480",
            "_model_module": "@jupyter-widgets/controls",
            "children": [
              "IPY_MODEL_492b6e671b5a48bcba79995eaa93b471",
              "IPY_MODEL_9fe2bd41a75a409cb3089546fb80d240"
            ]
          }
        },
        "b4a3d119d0524c829b6d02c0c44ef480": {
          "model_module": "@jupyter-widgets/base",
          "model_name": "LayoutModel",
          "state": {
            "_view_name": "LayoutView",
            "grid_template_rows": null,
            "right": null,
            "justify_content": null,
            "_view_module": "@jupyter-widgets/base",
            "overflow": null,
            "_model_module_version": "1.2.0",
            "_view_count": null,
            "flex_flow": null,
            "width": null,
            "min_width": null,
            "border": null,
            "align_items": null,
            "bottom": null,
            "_model_module": "@jupyter-widgets/base",
            "top": null,
            "grid_column": null,
            "overflow_y": null,
            "overflow_x": null,
            "grid_auto_flow": null,
            "grid_area": null,
            "grid_template_columns": null,
            "flex": null,
            "_model_name": "LayoutModel",
            "justify_items": null,
            "grid_row": null,
            "max_height": null,
            "align_content": null,
            "visibility": null,
            "align_self": null,
            "height": null,
            "min_height": null,
            "padding": null,
            "grid_auto_rows": null,
            "grid_gap": null,
            "max_width": null,
            "order": null,
            "_view_module_version": "1.2.0",
            "grid_template_areas": null,
            "object_position": null,
            "object_fit": null,
            "grid_auto_columns": null,
            "margin": null,
            "display": null,
            "left": null
          }
        },
        "492b6e671b5a48bcba79995eaa93b471": {
          "model_module": "@jupyter-widgets/controls",
          "model_name": "FloatProgressModel",
          "state": {
            "_view_name": "ProgressView",
            "style": "IPY_MODEL_7995213478c54ec49c8609c6c6542431",
            "_dom_classes": [],
            "description": "",
            "_model_name": "FloatProgressModel",
            "bar_style": "success",
            "max": 1648877,
            "_view_module": "@jupyter-widgets/controls",
            "_model_module_version": "1.5.0",
            "value": 1648877,
            "_view_count": null,
            "_view_module_version": "1.5.0",
            "orientation": "horizontal",
            "min": 0,
            "description_tooltip": null,
            "_model_module": "@jupyter-widgets/controls",
            "layout": "IPY_MODEL_50c677ead8c640ada92407b41cc1630f"
          }
        },
        "9fe2bd41a75a409cb3089546fb80d240": {
          "model_module": "@jupyter-widgets/controls",
          "model_name": "HTMLModel",
          "state": {
            "_view_name": "HTMLView",
            "style": "IPY_MODEL_3a863d92da0c4e6781731f3a3b6ad7d8",
            "_dom_classes": [],
            "description": "",
            "_model_name": "HTMLModel",
            "placeholder": "​",
            "_view_module": "@jupyter-widgets/controls",
            "_model_module_version": "1.5.0",
            "value": " 1649664/? [00:05&lt;00:00, 295000.44it/s]",
            "_view_count": null,
            "_view_module_version": "1.5.0",
            "description_tooltip": null,
            "_model_module": "@jupyter-widgets/controls",
            "layout": "IPY_MODEL_a1a05d249e69497d8f3adec49c101b97"
          }
        },
        "7995213478c54ec49c8609c6c6542431": {
          "model_module": "@jupyter-widgets/controls",
          "model_name": "ProgressStyleModel",
          "state": {
            "_view_name": "StyleView",
            "_model_name": "ProgressStyleModel",
            "description_width": "initial",
            "_view_module": "@jupyter-widgets/base",
            "_model_module_version": "1.5.0",
            "_view_count": null,
            "_view_module_version": "1.2.0",
            "bar_color": null,
            "_model_module": "@jupyter-widgets/controls"
          }
        },
        "50c677ead8c640ada92407b41cc1630f": {
          "model_module": "@jupyter-widgets/base",
          "model_name": "LayoutModel",
          "state": {
            "_view_name": "LayoutView",
            "grid_template_rows": null,
            "right": null,
            "justify_content": null,
            "_view_module": "@jupyter-widgets/base",
            "overflow": null,
            "_model_module_version": "1.2.0",
            "_view_count": null,
            "flex_flow": null,
            "width": null,
            "min_width": null,
            "border": null,
            "align_items": null,
            "bottom": null,
            "_model_module": "@jupyter-widgets/base",
            "top": null,
            "grid_column": null,
            "overflow_y": null,
            "overflow_x": null,
            "grid_auto_flow": null,
            "grid_area": null,
            "grid_template_columns": null,
            "flex": null,
            "_model_name": "LayoutModel",
            "justify_items": null,
            "grid_row": null,
            "max_height": null,
            "align_content": null,
            "visibility": null,
            "align_self": null,
            "height": null,
            "min_height": null,
            "padding": null,
            "grid_auto_rows": null,
            "grid_gap": null,
            "max_width": null,
            "order": null,
            "_view_module_version": "1.2.0",
            "grid_template_areas": null,
            "object_position": null,
            "object_fit": null,
            "grid_auto_columns": null,
            "margin": null,
            "display": null,
            "left": null
          }
        },
        "3a863d92da0c4e6781731f3a3b6ad7d8": {
          "model_module": "@jupyter-widgets/controls",
          "model_name": "DescriptionStyleModel",
          "state": {
            "_view_name": "StyleView",
            "_model_name": "DescriptionStyleModel",
            "description_width": "",
            "_view_module": "@jupyter-widgets/base",
            "_model_module_version": "1.5.0",
            "_view_count": null,
            "_view_module_version": "1.2.0",
            "_model_module": "@jupyter-widgets/controls"
          }
        },
        "a1a05d249e69497d8f3adec49c101b97": {
          "model_module": "@jupyter-widgets/base",
          "model_name": "LayoutModel",
          "state": {
            "_view_name": "LayoutView",
            "grid_template_rows": null,
            "right": null,
            "justify_content": null,
            "_view_module": "@jupyter-widgets/base",
            "overflow": null,
            "_model_module_version": "1.2.0",
            "_view_count": null,
            "flex_flow": null,
            "width": null,
            "min_width": null,
            "border": null,
            "align_items": null,
            "bottom": null,
            "_model_module": "@jupyter-widgets/base",
            "top": null,
            "grid_column": null,
            "overflow_y": null,
            "overflow_x": null,
            "grid_auto_flow": null,
            "grid_area": null,
            "grid_template_columns": null,
            "flex": null,
            "_model_name": "LayoutModel",
            "justify_items": null,
            "grid_row": null,
            "max_height": null,
            "align_content": null,
            "visibility": null,
            "align_self": null,
            "height": null,
            "min_height": null,
            "padding": null,
            "grid_auto_rows": null,
            "grid_gap": null,
            "max_width": null,
            "order": null,
            "_view_module_version": "1.2.0",
            "grid_template_areas": null,
            "object_position": null,
            "object_fit": null,
            "grid_auto_columns": null,
            "margin": null,
            "display": null,
            "left": null
          }
        },
        "e56a7f8999e64cc5a48f6daa03407699": {
          "model_module": "@jupyter-widgets/controls",
          "model_name": "HBoxModel",
          "state": {
            "_view_name": "HBoxView",
            "_dom_classes": [],
            "_model_name": "HBoxModel",
            "_view_module": "@jupyter-widgets/controls",
            "_model_module_version": "1.5.0",
            "_view_count": null,
            "_view_module_version": "1.5.0",
            "box_style": "",
            "layout": "IPY_MODEL_4b2dbaf2829141d18ef5f9c30b8a1c30",
            "_model_module": "@jupyter-widgets/controls",
            "children": [
              "IPY_MODEL_fc262ec774c14ea783ea12c7161ca9e8",
              "IPY_MODEL_9723dd9268c8474193cf14aaf5e7af93"
            ]
          }
        },
        "4b2dbaf2829141d18ef5f9c30b8a1c30": {
          "model_module": "@jupyter-widgets/base",
          "model_name": "LayoutModel",
          "state": {
            "_view_name": "LayoutView",
            "grid_template_rows": null,
            "right": null,
            "justify_content": null,
            "_view_module": "@jupyter-widgets/base",
            "overflow": null,
            "_model_module_version": "1.2.0",
            "_view_count": null,
            "flex_flow": null,
            "width": null,
            "min_width": null,
            "border": null,
            "align_items": null,
            "bottom": null,
            "_model_module": "@jupyter-widgets/base",
            "top": null,
            "grid_column": null,
            "overflow_y": null,
            "overflow_x": null,
            "grid_auto_flow": null,
            "grid_area": null,
            "grid_template_columns": null,
            "flex": null,
            "_model_name": "LayoutModel",
            "justify_items": null,
            "grid_row": null,
            "max_height": null,
            "align_content": null,
            "visibility": null,
            "align_self": null,
            "height": null,
            "min_height": null,
            "padding": null,
            "grid_auto_rows": null,
            "grid_gap": null,
            "max_width": null,
            "order": null,
            "_view_module_version": "1.2.0",
            "grid_template_areas": null,
            "object_position": null,
            "object_fit": null,
            "grid_auto_columns": null,
            "margin": null,
            "display": null,
            "left": null
          }
        },
        "fc262ec774c14ea783ea12c7161ca9e8": {
          "model_module": "@jupyter-widgets/controls",
          "model_name": "FloatProgressModel",
          "state": {
            "_view_name": "ProgressView",
            "style": "IPY_MODEL_6a4e3298adc243e5b2b8caa4779381d7",
            "_dom_classes": [],
            "description": "",
            "_model_name": "FloatProgressModel",
            "bar_style": "success",
            "max": 4542,
            "_view_module": "@jupyter-widgets/controls",
            "_model_module_version": "1.5.0",
            "value": 4542,
            "_view_count": null,
            "_view_module_version": "1.5.0",
            "orientation": "horizontal",
            "min": 0,
            "description_tooltip": null,
            "_model_module": "@jupyter-widgets/controls",
            "layout": "IPY_MODEL_a60abbcd51cb43db8c75336c3c27b66b"
          }
        },
        "9723dd9268c8474193cf14aaf5e7af93": {
          "model_module": "@jupyter-widgets/controls",
          "model_name": "HTMLModel",
          "state": {
            "_view_name": "HTMLView",
            "style": "IPY_MODEL_eeac1042fc294ee8a2c506f4cc270dbe",
            "_dom_classes": [],
            "description": "",
            "_model_name": "HTMLModel",
            "placeholder": "​",
            "_view_module": "@jupyter-widgets/controls",
            "_model_module_version": "1.5.0",
            "value": " 5120/? [00:00&lt;00:00, 19603.22it/s]",
            "_view_count": null,
            "_view_module_version": "1.5.0",
            "description_tooltip": null,
            "_model_module": "@jupyter-widgets/controls",
            "layout": "IPY_MODEL_cc2fee195a9842fd8cb7fe7ed1117dbe"
          }
        },
        "6a4e3298adc243e5b2b8caa4779381d7": {
          "model_module": "@jupyter-widgets/controls",
          "model_name": "ProgressStyleModel",
          "state": {
            "_view_name": "StyleView",
            "_model_name": "ProgressStyleModel",
            "description_width": "initial",
            "_view_module": "@jupyter-widgets/base",
            "_model_module_version": "1.5.0",
            "_view_count": null,
            "_view_module_version": "1.2.0",
            "bar_color": null,
            "_model_module": "@jupyter-widgets/controls"
          }
        },
        "a60abbcd51cb43db8c75336c3c27b66b": {
          "model_module": "@jupyter-widgets/base",
          "model_name": "LayoutModel",
          "state": {
            "_view_name": "LayoutView",
            "grid_template_rows": null,
            "right": null,
            "justify_content": null,
            "_view_module": "@jupyter-widgets/base",
            "overflow": null,
            "_model_module_version": "1.2.0",
            "_view_count": null,
            "flex_flow": null,
            "width": null,
            "min_width": null,
            "border": null,
            "align_items": null,
            "bottom": null,
            "_model_module": "@jupyter-widgets/base",
            "top": null,
            "grid_column": null,
            "overflow_y": null,
            "overflow_x": null,
            "grid_auto_flow": null,
            "grid_area": null,
            "grid_template_columns": null,
            "flex": null,
            "_model_name": "LayoutModel",
            "justify_items": null,
            "grid_row": null,
            "max_height": null,
            "align_content": null,
            "visibility": null,
            "align_self": null,
            "height": null,
            "min_height": null,
            "padding": null,
            "grid_auto_rows": null,
            "grid_gap": null,
            "max_width": null,
            "order": null,
            "_view_module_version": "1.2.0",
            "grid_template_areas": null,
            "object_position": null,
            "object_fit": null,
            "grid_auto_columns": null,
            "margin": null,
            "display": null,
            "left": null
          }
        },
        "eeac1042fc294ee8a2c506f4cc270dbe": {
          "model_module": "@jupyter-widgets/controls",
          "model_name": "DescriptionStyleModel",
          "state": {
            "_view_name": "StyleView",
            "_model_name": "DescriptionStyleModel",
            "description_width": "",
            "_view_module": "@jupyter-widgets/base",
            "_model_module_version": "1.5.0",
            "_view_count": null,
            "_view_module_version": "1.2.0",
            "_model_module": "@jupyter-widgets/controls"
          }
        },
        "cc2fee195a9842fd8cb7fe7ed1117dbe": {
          "model_module": "@jupyter-widgets/base",
          "model_name": "LayoutModel",
          "state": {
            "_view_name": "LayoutView",
            "grid_template_rows": null,
            "right": null,
            "justify_content": null,
            "_view_module": "@jupyter-widgets/base",
            "overflow": null,
            "_model_module_version": "1.2.0",
            "_view_count": null,
            "flex_flow": null,
            "width": null,
            "min_width": null,
            "border": null,
            "align_items": null,
            "bottom": null,
            "_model_module": "@jupyter-widgets/base",
            "top": null,
            "grid_column": null,
            "overflow_y": null,
            "overflow_x": null,
            "grid_auto_flow": null,
            "grid_area": null,
            "grid_template_columns": null,
            "flex": null,
            "_model_name": "LayoutModel",
            "justify_items": null,
            "grid_row": null,
            "max_height": null,
            "align_content": null,
            "visibility": null,
            "align_self": null,
            "height": null,
            "min_height": null,
            "padding": null,
            "grid_auto_rows": null,
            "grid_gap": null,
            "max_width": null,
            "order": null,
            "_view_module_version": "1.2.0",
            "grid_template_areas": null,
            "object_position": null,
            "object_fit": null,
            "grid_auto_columns": null,
            "margin": null,
            "display": null,
            "left": null
          }
        }
      }
    }
  },
  "cells": [
    {
      "cell_type": "markdown",
      "metadata": {
        "id": "view-in-github",
        "colab_type": "text"
      },
      "source": [
        "<a href=\"https://colab.research.google.com/github/martinpius/RNN-ALIENS/blob/main/RNN_from_scratch_with_the_bidirectional_LSTM_architecture_in_Pytorch.ipynb\" target=\"_parent\"><img src=\"https://colab.research.google.com/assets/colab-badge.svg\" alt=\"Open In Colab\"/></a>"
      ]
    },
    {
      "cell_type": "code",
      "metadata": {
        "colab": {
          "base_uri": "https://localhost:8080/"
        },
        "id": "P44GlvXs6F9O",
        "outputId": "754c542f-ef8b-473a-f45c-41743db9b3f8"
      },
      "source": [
        "from google.colab import drive\n",
        "drive.mount(\"/content/drive\", force_remount = True)\n",
        "try:\n",
        "  COLAB = True\n",
        "  import torch\n",
        "  print(f\">>>> You are on Google CoLaB with Pytorch version {torch.__version__}\")\n",
        "except Exception as e:\n",
        "  print(f\">>>> {type(e)} {e}\\n>>>> please correct {type(e)} and reload your drive\")\n",
        "  COLAB = False\n",
        "def __time__(t: float = 123.918)->float:\n",
        "  h = int(t / (60 * 60))\n",
        "  m = int(t % (60 * 60) / 60)\n",
        "  s = int(t % 60)\n",
        "  return f\"hrs: {h} min: {m:>02} sec: {s:>05.2f}\"\n",
        "if torch.cuda.is_available():\n",
        "  device = torch.device(\"cuda\")\n",
        "else: \n",
        "  device = torch.device(\"cpu\")\n",
        "print(f\">>>> time formating\\t.........................\\n>>>> time elapsed\\t{__time__()}\")\n"
      ],
      "execution_count": 1,
      "outputs": [
        {
          "output_type": "stream",
          "text": [
            "Mounted at /content/drive\n",
            ">>>> You are on Google CoLaB with Pytorch version 1.8.1+cu101\n",
            ">>>> time formating\t.........................\n",
            ">>>> time elapsed\thrs: 0 min: 02 sec: 03.00\n"
          ],
          "name": "stdout"
        }
      ]
    },
    {
      "cell_type": "code",
      "metadata": {
        "id": "tzXB6zUj8HIU"
      },
      "source": [
        "#In this notebook we are going to implimenting RNN with a Bi-directional LSTM architecture \n",
        "#Demonstration will be on MNIST dataset (batch, 1, 28, 28) by treating the width and length\n",
        "#pixels as sequence length and input dimension. The channel dimension will be squeezed"
      ],
      "execution_count": 2,
      "outputs": []
    },
    {
      "cell_type": "code",
      "metadata": {
        "id": "cAfxEM0n9AcA"
      },
      "source": [
        "import torch\n",
        "import torch.nn as nn\n",
        "import torch.optim as optim\n",
        "import torchvision.transforms as transforms\n",
        "import torchvision.datasets as datasets\n",
        "from torch.utils.data import DataLoader\n",
        "from torch.utils.tensorboard import SummaryWriter\n",
        "from tqdm import tqdm\n",
        "import time, sys, datetime"
      ],
      "execution_count": 3,
      "outputs": []
    },
    {
      "cell_type": "code",
      "metadata": {
        "id": "IuhNFbKp9dnf"
      },
      "source": [
        "#Hyperparameters to be used in this network"
      ],
      "execution_count": 4,
      "outputs": []
    },
    {
      "cell_type": "code",
      "metadata": {
        "id": "F8rxr90X9iqn"
      },
      "source": [
        "batch_size = 128\n",
        "hidden_dim = 512\n",
        "num_layers = 2\n",
        "num_classes = 10\n",
        "learning_rate = 1e-3\n",
        "seq_len = 28\n",
        "input_dim = 28\n",
        "EPOCHS = 10"
      ],
      "execution_count": 5,
      "outputs": []
    },
    {
      "cell_type": "code",
      "metadata": {
        "id": "jPAM9zF492Zr"
      },
      "source": [
        "#This class will build a bidirectional rnn with an lstm architecture:\n",
        "class BRNN(nn.Module):\n",
        "  def __init__(self, input_dim, hidden_dim, num_layers, num_classes):\n",
        "    super(BRNN, self).__init__()\n",
        "    self.hidden_dim = hidden_dim\n",
        "    self.num_layers = num_layers\n",
        "    self.blstm = nn.LSTM(input_size = input_dim,\n",
        "                         hidden_size = hidden_dim,\n",
        "                         num_layers = num_layers,\n",
        "                         batch_first = True,\n",
        "                         dropout = 0.5,\n",
        "                         bidirectional = True)\n",
        "    self.fc1 = nn.Linear(in_features = 2*hidden_dim, out_features = 512)\n",
        "    self.drp = nn.Dropout(p = 0.5)\n",
        "    self.fc2 = nn.Linear(in_features = 512, out_features = 256)\n",
        "    self.outputs = nn.Linear(in_features = 256, out_features = num_classes)\n",
        "  \n",
        "  def forward(self, input_tensor):\n",
        "    h0 = torch.zeros(2*self.num_layers, input_tensor.size(0), self.hidden_dim).to(device = device) #initialize the previous hidden state to 0\n",
        "    c0 = torch.zeros(2*self.num_layers, input_tensor.size(0), self.hidden_dim).to(device = device) #initialize previous cell state to 0\n",
        "    out, _ = self.blstm(input_tensor, (h0, c0))\n",
        "    out = out[:, -1, :] #select only the last layer hidden states\n",
        "    x = self.fc1(out)\n",
        "    x = self.drp(x)\n",
        "    x = self.fc2(x)\n",
        "    x = self.outputs(x)\n",
        "    return x\n"
      ],
      "execution_count": 6,
      "outputs": []
    },
    {
      "cell_type": "code",
      "metadata": {
        "colab": {
          "base_uri": "https://localhost:8080/"
        },
        "id": "hoZew86LBU5w",
        "outputId": "6e7306a8-2b03-493b-adbe-335b3887dd68"
      },
      "source": [
        "#instantiating the model class and test using random data to see if the model gives the desired outcomes\n",
        "rand_inputs = torch.rand(size = (64, 28, 28)).to(device = device)\n",
        "model = BRNN(input_dim = input_dim,\n",
        "             hidden_dim = hidden_dim,\n",
        "             num_layers = num_layers,\n",
        "             num_classes = num_classes).to(device = device)\n",
        "print(f\">>>> the output shape is: {model(rand_inputs).shape}\")"
      ],
      "execution_count": 7,
      "outputs": [
        {
          "output_type": "stream",
          "text": [
            ">>>> the output shape is: torch.Size([64, 10])\n"
          ],
          "name": "stdout"
        }
      ]
    },
    {
      "cell_type": "code",
      "metadata": {
        "colab": {
          "base_uri": "https://localhost:8080/",
          "height": 1000,
          "referenced_widgets": [
            "3a64bea6f48f46409637f097bc1a0729",
            "32678505e2a74184acec52e0d11d7f02",
            "cbed4fd66c1c4bfcb0a3ea332bcd2080",
            "250032bff7984f20901c69e43a844735",
            "9cbe7d0351d34003b3b769f40c407ffb",
            "cf377bc96b6e4017a397fd8bfad2b78f",
            "3582d69afc8b445bb3142d4c3fd3798a",
            "ae8df0941b934d0a96d82a4ca22e1ca9",
            "952fa89195fb42de8a01f6d836fb3b35",
            "f6bb58d48a694789a0c1c79bb84299f9",
            "3f83cdafc5e146038e11506b3179b827",
            "9c8d45321af2491c8ec9225918710ba9",
            "8db755796cda4880b23dde19dc70e99d",
            "970285cad1364436a7400021a4f3638d",
            "f7c7b0f2e40d45bf8a506e412cbb0406",
            "29df109f242746e49f500620057d82db",
            "e7ef056071bc488792540603c3b620b1",
            "17b4cdd3b06c4e0a9fb7038a0302399a",
            "b3b766a5ff9a4d1e8247baa0ee8e1225",
            "a6a0da4dad964fc7af21e1f352af5ebd",
            "8dd5ca8c925a477ab371736e92c5815c",
            "bf35133ba92b411daca12f53fb9a158c",
            "a2c2105926b042e6a4c745374d0d63a2",
            "19940c2eb1bd4f878e0a4315937c5d5a",
            "23b2bcac443948a9b2f697f525a05b9b",
            "3b24bb564c48423883257907bd716306",
            "19aad9ce1ac04a8fb21627db29f8ff70",
            "e0cc1d5e4aaa4ff1b291303a3487d6cf",
            "839ef178a3ba470985181354d1f785ca",
            "c9e154e42bd24b76a46518d432f44307",
            "9cb676714b1f4fb484bb23536d6d33a9",
            "1d91466af05b42caa094a5fe4e723f51",
            "efdc8d94d76c4a63bd0469bfee222c0b",
            "2d7f7b317bf544809bdadd500411c004",
            "0b2dbd65fd4840e4ae71b75d208d2f32",
            "878a78bfd24e470dbc6e0e556dfc2fb2",
            "092d033526b84e0d906fee455bc6cfbe",
            "ce092b0a355e4cbca817bdfaa4b58a73",
            "da90d95e2a28447c936b000c2025c47c",
            "25bfb4f874294699af20ad0293f0ccdf",
            "338bfa9fa4c14cbbad6cb9b58f4da11b",
            "9425307f1cd8478a9ca89fbe470fbc52",
            "2ca4bf573c734733b56b712ab8fd19a9",
            "2982e2c3334844a4a3df861254fa8693",
            "d0b298420f884978b894b1ff2ff38b0e",
            "b1e7c6c4cbbe4b4ea24dfcd7f56e7c03",
            "15d596dbfa2c4dbf805f629d99e3ce94",
            "1d08798e6a364d9187499e00345ceed0",
            "c96605c620a8400ebe24b9c8fa5d525c",
            "b4a3d119d0524c829b6d02c0c44ef480",
            "492b6e671b5a48bcba79995eaa93b471",
            "9fe2bd41a75a409cb3089546fb80d240",
            "7995213478c54ec49c8609c6c6542431",
            "50c677ead8c640ada92407b41cc1630f",
            "3a863d92da0c4e6781731f3a3b6ad7d8",
            "a1a05d249e69497d8f3adec49c101b97",
            "e56a7f8999e64cc5a48f6daa03407699",
            "4b2dbaf2829141d18ef5f9c30b8a1c30",
            "fc262ec774c14ea783ea12c7161ca9e8",
            "9723dd9268c8474193cf14aaf5e7af93",
            "6a4e3298adc243e5b2b8caa4779381d7",
            "a60abbcd51cb43db8c75336c3c27b66b",
            "eeac1042fc294ee8a2c506f4cc270dbe",
            "cc2fee195a9842fd8cb7fe7ed1117dbe"
          ]
        },
        "id": "zWTagbDbCNsG",
        "outputId": "72476b4c-11b0-4f19-b909-cf914b385f1d"
      },
      "source": [
        "#Get the data and pre-process it using the transform function, and splits into batches using the Loader method:\n",
        "train_data = datasets.MNIST(root = \"mnist_lstm_train/\", train = True, transform = transforms.ToTensor(), download = True)\n",
        "test_data = datasets.MNIST(root = \"mnist_lstm_test/\", train = False, transform = transforms.ToTensor(), download = True)\n",
        "train_loader = DataLoader(dataset = train_data, shuffle = True, batch_size = batch_size)\n",
        "test_loader = DataLoader(dataset = test_data, shuffle = False, batch_size = batch_size)\n",
        "x_train_batch, y_train_batch = next(iter(train_loader))\n",
        "print(f\"x_train_batch_shape: {x_train_batch.shape}\\ty_train_batch_shape: {y_train_batch.shape}\")"
      ],
      "execution_count": 8,
      "outputs": [
        {
          "output_type": "stream",
          "text": [
            "Downloading http://yann.lecun.com/exdb/mnist/train-images-idx3-ubyte.gz\n",
            "Failed to download (trying next):\n",
            "HTTP Error 503: Service Unavailable\n",
            "\n",
            "Downloading https://ossci-datasets.s3.amazonaws.com/mnist/train-images-idx3-ubyte.gz\n",
            "Downloading https://ossci-datasets.s3.amazonaws.com/mnist/train-images-idx3-ubyte.gz to mnist_lstm_train/MNIST/raw/train-images-idx3-ubyte.gz\n"
          ],
          "name": "stdout"
        },
        {
          "output_type": "display_data",
          "data": {
            "application/vnd.jupyter.widget-view+json": {
              "model_id": "3a64bea6f48f46409637f097bc1a0729",
              "version_minor": 0,
              "version_major": 2
            },
            "text/plain": [
              "HBox(children=(FloatProgress(value=0.0, max=9912422.0), HTML(value='')))"
            ]
          },
          "metadata": {
            "tags": []
          }
        },
        {
          "output_type": "stream",
          "text": [
            "\n",
            "Extracting mnist_lstm_train/MNIST/raw/train-images-idx3-ubyte.gz to mnist_lstm_train/MNIST/raw\n",
            "\n",
            "Downloading http://yann.lecun.com/exdb/mnist/train-labels-idx1-ubyte.gz\n",
            "Failed to download (trying next):\n",
            "HTTP Error 503: Service Unavailable\n",
            "\n",
            "Downloading https://ossci-datasets.s3.amazonaws.com/mnist/train-labels-idx1-ubyte.gz\n",
            "Downloading https://ossci-datasets.s3.amazonaws.com/mnist/train-labels-idx1-ubyte.gz to mnist_lstm_train/MNIST/raw/train-labels-idx1-ubyte.gz\n"
          ],
          "name": "stdout"
        },
        {
          "output_type": "display_data",
          "data": {
            "application/vnd.jupyter.widget-view+json": {
              "model_id": "952fa89195fb42de8a01f6d836fb3b35",
              "version_minor": 0,
              "version_major": 2
            },
            "text/plain": [
              "HBox(children=(FloatProgress(value=0.0, max=28881.0), HTML(value='')))"
            ]
          },
          "metadata": {
            "tags": []
          }
        },
        {
          "output_type": "stream",
          "text": [
            "\n",
            "Extracting mnist_lstm_train/MNIST/raw/train-labels-idx1-ubyte.gz to mnist_lstm_train/MNIST/raw\n",
            "\n",
            "Downloading http://yann.lecun.com/exdb/mnist/t10k-images-idx3-ubyte.gz\n",
            "Failed to download (trying next):\n",
            "HTTP Error 503: Service Unavailable\n",
            "\n",
            "Downloading https://ossci-datasets.s3.amazonaws.com/mnist/t10k-images-idx3-ubyte.gz\n",
            "Downloading https://ossci-datasets.s3.amazonaws.com/mnist/t10k-images-idx3-ubyte.gz to mnist_lstm_train/MNIST/raw/t10k-images-idx3-ubyte.gz\n"
          ],
          "name": "stdout"
        },
        {
          "output_type": "display_data",
          "data": {
            "application/vnd.jupyter.widget-view+json": {
              "model_id": "e7ef056071bc488792540603c3b620b1",
              "version_minor": 0,
              "version_major": 2
            },
            "text/plain": [
              "HBox(children=(FloatProgress(value=0.0, max=1648877.0), HTML(value='')))"
            ]
          },
          "metadata": {
            "tags": []
          }
        },
        {
          "output_type": "stream",
          "text": [
            "\n",
            "Extracting mnist_lstm_train/MNIST/raw/t10k-images-idx3-ubyte.gz to mnist_lstm_train/MNIST/raw\n",
            "\n",
            "Downloading http://yann.lecun.com/exdb/mnist/t10k-labels-idx1-ubyte.gz\n",
            "Failed to download (trying next):\n",
            "HTTP Error 503: Service Unavailable\n",
            "\n",
            "Downloading https://ossci-datasets.s3.amazonaws.com/mnist/t10k-labels-idx1-ubyte.gz\n",
            "Downloading https://ossci-datasets.s3.amazonaws.com/mnist/t10k-labels-idx1-ubyte.gz to mnist_lstm_train/MNIST/raw/t10k-labels-idx1-ubyte.gz\n"
          ],
          "name": "stdout"
        },
        {
          "output_type": "display_data",
          "data": {
            "application/vnd.jupyter.widget-view+json": {
              "model_id": "23b2bcac443948a9b2f697f525a05b9b",
              "version_minor": 0,
              "version_major": 2
            },
            "text/plain": [
              "HBox(children=(FloatProgress(value=0.0, max=4542.0), HTML(value='')))"
            ]
          },
          "metadata": {
            "tags": []
          }
        },
        {
          "output_type": "stream",
          "text": [
            "\n",
            "Extracting mnist_lstm_train/MNIST/raw/t10k-labels-idx1-ubyte.gz to mnist_lstm_train/MNIST/raw\n",
            "\n",
            "Processing...\n",
            "Done!\n",
            "Downloading http://yann.lecun.com/exdb/mnist/train-images-idx3-ubyte.gz\n"
          ],
          "name": "stdout"
        },
        {
          "output_type": "stream",
          "text": [
            "/usr/local/lib/python3.7/dist-packages/torchvision/datasets/mnist.py:502: UserWarning: The given NumPy array is not writeable, and PyTorch does not support non-writeable tensors. This means you can write to the underlying (supposedly non-writeable) NumPy array using the tensor. You may want to copy the array to protect its data or make it writeable before converting it to a tensor. This type of warning will be suppressed for the rest of this program. (Triggered internally at  /pytorch/torch/csrc/utils/tensor_numpy.cpp:143.)\n",
            "  return torch.from_numpy(parsed.astype(m[2], copy=False)).view(*s)\n"
          ],
          "name": "stderr"
        },
        {
          "output_type": "stream",
          "text": [
            "Failed to download (trying next):\n",
            "HTTP Error 503: Service Unavailable\n",
            "\n",
            "Downloading https://ossci-datasets.s3.amazonaws.com/mnist/train-images-idx3-ubyte.gz\n",
            "Downloading https://ossci-datasets.s3.amazonaws.com/mnist/train-images-idx3-ubyte.gz to mnist_lstm_test/MNIST/raw/train-images-idx3-ubyte.gz\n"
          ],
          "name": "stdout"
        },
        {
          "output_type": "display_data",
          "data": {
            "application/vnd.jupyter.widget-view+json": {
              "model_id": "efdc8d94d76c4a63bd0469bfee222c0b",
              "version_minor": 0,
              "version_major": 2
            },
            "text/plain": [
              "HBox(children=(FloatProgress(value=0.0, max=9912422.0), HTML(value='')))"
            ]
          },
          "metadata": {
            "tags": []
          }
        },
        {
          "output_type": "stream",
          "text": [
            "\n",
            "Extracting mnist_lstm_test/MNIST/raw/train-images-idx3-ubyte.gz to mnist_lstm_test/MNIST/raw\n",
            "\n",
            "Downloading http://yann.lecun.com/exdb/mnist/train-labels-idx1-ubyte.gz\n",
            "Downloading http://yann.lecun.com/exdb/mnist/train-labels-idx1-ubyte.gz to mnist_lstm_test/MNIST/raw/train-labels-idx1-ubyte.gz\n"
          ],
          "name": "stdout"
        },
        {
          "output_type": "display_data",
          "data": {
            "application/vnd.jupyter.widget-view+json": {
              "model_id": "338bfa9fa4c14cbbad6cb9b58f4da11b",
              "version_minor": 0,
              "version_major": 2
            },
            "text/plain": [
              "HBox(children=(FloatProgress(value=0.0, max=28881.0), HTML(value='')))"
            ]
          },
          "metadata": {
            "tags": []
          }
        },
        {
          "output_type": "stream",
          "text": [
            "\n",
            "Extracting mnist_lstm_test/MNIST/raw/train-labels-idx1-ubyte.gz to mnist_lstm_test/MNIST/raw\n",
            "\n",
            "Downloading http://yann.lecun.com/exdb/mnist/t10k-images-idx3-ubyte.gz\n",
            "Downloading http://yann.lecun.com/exdb/mnist/t10k-images-idx3-ubyte.gz to mnist_lstm_test/MNIST/raw/t10k-images-idx3-ubyte.gz\n",
            "Failed to download (trying next):\n",
            "HTTP Error 503: Service Unavailable\n",
            "\n",
            "Downloading https://ossci-datasets.s3.amazonaws.com/mnist/t10k-images-idx3-ubyte.gz\n",
            "Downloading https://ossci-datasets.s3.amazonaws.com/mnist/t10k-images-idx3-ubyte.gz to mnist_lstm_test/MNIST/raw/t10k-images-idx3-ubyte.gz\n"
          ],
          "name": "stdout"
        },
        {
          "output_type": "display_data",
          "data": {
            "application/vnd.jupyter.widget-view+json": {
              "model_id": "c96605c620a8400ebe24b9c8fa5d525c",
              "version_minor": 0,
              "version_major": 2
            },
            "text/plain": [
              "HBox(children=(FloatProgress(value=0.0, max=1648877.0), HTML(value='')))"
            ]
          },
          "metadata": {
            "tags": []
          }
        },
        {
          "output_type": "stream",
          "text": [
            "\n",
            "Extracting mnist_lstm_test/MNIST/raw/t10k-images-idx3-ubyte.gz to mnist_lstm_test/MNIST/raw\n",
            "\n",
            "Downloading http://yann.lecun.com/exdb/mnist/t10k-labels-idx1-ubyte.gz\n",
            "Downloading http://yann.lecun.com/exdb/mnist/t10k-labels-idx1-ubyte.gz to mnist_lstm_test/MNIST/raw/t10k-labels-idx1-ubyte.gz\n"
          ],
          "name": "stdout"
        },
        {
          "output_type": "display_data",
          "data": {
            "application/vnd.jupyter.widget-view+json": {
              "model_id": "e56a7f8999e64cc5a48f6daa03407699",
              "version_minor": 0,
              "version_major": 2
            },
            "text/plain": [
              "HBox(children=(FloatProgress(value=0.0, max=4542.0), HTML(value='')))"
            ]
          },
          "metadata": {
            "tags": []
          }
        },
        {
          "output_type": "stream",
          "text": [
            "\n",
            "Extracting mnist_lstm_test/MNIST/raw/t10k-labels-idx1-ubyte.gz to mnist_lstm_test/MNIST/raw\n",
            "\n",
            "Processing...\n",
            "Done!\n",
            "x_train_batch_shape: torch.Size([128, 1, 28, 28])\ty_train_batch_shape: torch.Size([128])\n"
          ],
          "name": "stdout"
        }
      ]
    },
    {
      "cell_type": "code",
      "metadata": {
        "id": "WF2wzMjMNRhz"
      },
      "source": [
        "#Getting the loss and an optimizer for the training loop:\n",
        "loss_fn = nn.CrossEntropyLoss()\n",
        "optimizer = optim.Adam(params = model.parameters(), lr = learning_rate)"
      ],
      "execution_count": 9,
      "outputs": []
    },
    {
      "cell_type": "code",
      "metadata": {
        "colab": {
          "base_uri": "https://localhost:8080/"
        },
        "id": "ITKH3efzNs1N",
        "outputId": "5a20c8d3-0c92-401d-a886-7ab86580d8a1"
      },
      "source": [
        "#The training loop from scratch:\n",
        "tic = time.time()\n",
        "for epoch in range(EPOCHS):\n",
        "  print(f\"\\n>>>> training begins for epoch {epoch + 1}.............\\n>>>> please wait while the model is training..............\")\n",
        "  for idx,(data, target) in enumerate(tqdm(train_loader)):\n",
        "    data = data.squeeze(1).to(device = device)\n",
        "    target = target.to(device = device)\n",
        "    preds = model(data)\n",
        "    train_loss = loss_fn(preds, target)\n",
        "    optimizer.zero_grad()\n",
        "    train_loss.backward()\n",
        "    optimizer.step()\n",
        "\n",
        "def __tracking__(loader, model):\n",
        "  if loader.dataset.train:\n",
        "    print(f\"\\n>>>> checking performance on the training dataset\\n>>>> please wait................\")\n",
        "  else:\n",
        "    print(f\"\\n>>>> checking the performance on the validation dataset/n>>>> please wait..........\")\n",
        "  num_examples = 0\n",
        "  num_correct = 0\n",
        "  model.eval()\n",
        "  with torch.no_grad():\n",
        "    for idx, (x, y) in enumerate(tqdm(loader)):\n",
        "      x = x.squeeze(1).to(device = device)\n",
        "      y = y.to(device = device)\n",
        "      preds = model(x)\n",
        "      _, predictions = preds.max(1)\n",
        "      num_correct+=(predictions == y).sum()\n",
        "      num_examples+= predictions.size(0)\n",
        "      acc = float((num_correct/num_examples) * 100)\n",
        "      print(f\"\\n>>>> model is training for epoch {epoch + 1} of batch {idx}.......\\n>>>> accuracy recorded: {acc:.4f}\")\n",
        "  model.train()\n",
        "print(f\">>>> Running with the training data: {__tracking__(train_loader, model)}\")\n",
        "print(f\"\\n>>>> Runnng with the validation data: {__tracking__(test_loader, model)}\")\n",
        "toc = time.time()\n",
        "print(f\"\\ntime elapsed: {__time__(toc - tic)}\")"
      ],
      "execution_count": 10,
      "outputs": [
        {
          "output_type": "stream",
          "text": [
            "  0%|          | 1/469 [00:00<00:59,  7.81it/s]"
          ],
          "name": "stderr"
        },
        {
          "output_type": "stream",
          "text": [
            "\n",
            ">>>> training begins for epoch 1.............\n",
            ">>>> please wait while the model is training..............\n"
          ],
          "name": "stdout"
        },
        {
          "output_type": "stream",
          "text": [
            "100%|██████████| 469/469 [00:27<00:00, 17.26it/s]\n",
            "  0%|          | 2/469 [00:00<00:23, 19.58it/s]"
          ],
          "name": "stderr"
        },
        {
          "output_type": "stream",
          "text": [
            "\n",
            ">>>> training begins for epoch 2.............\n",
            ">>>> please wait while the model is training..............\n"
          ],
          "name": "stdout"
        },
        {
          "output_type": "stream",
          "text": [
            "100%|██████████| 469/469 [00:28<00:00, 16.57it/s]\n",
            "  0%|          | 2/469 [00:00<00:24, 18.87it/s]"
          ],
          "name": "stderr"
        },
        {
          "output_type": "stream",
          "text": [
            "\n",
            ">>>> training begins for epoch 3.............\n",
            ">>>> please wait while the model is training..............\n"
          ],
          "name": "stdout"
        },
        {
          "output_type": "stream",
          "text": [
            "100%|██████████| 469/469 [00:28<00:00, 16.43it/s]\n",
            "  0%|          | 2/469 [00:00<00:25, 18.37it/s]"
          ],
          "name": "stderr"
        },
        {
          "output_type": "stream",
          "text": [
            "\n",
            ">>>> training begins for epoch 4.............\n",
            ">>>> please wait while the model is training..............\n"
          ],
          "name": "stdout"
        },
        {
          "output_type": "stream",
          "text": [
            "100%|██████████| 469/469 [00:28<00:00, 16.44it/s]\n",
            "  0%|          | 2/469 [00:00<00:24, 19.45it/s]"
          ],
          "name": "stderr"
        },
        {
          "output_type": "stream",
          "text": [
            "\n",
            ">>>> training begins for epoch 5.............\n",
            ">>>> please wait while the model is training..............\n"
          ],
          "name": "stdout"
        },
        {
          "output_type": "stream",
          "text": [
            "100%|██████████| 469/469 [00:28<00:00, 16.44it/s]\n",
            "  0%|          | 2/469 [00:00<00:24, 18.75it/s]"
          ],
          "name": "stderr"
        },
        {
          "output_type": "stream",
          "text": [
            "\n",
            ">>>> training begins for epoch 6.............\n",
            ">>>> please wait while the model is training..............\n"
          ],
          "name": "stdout"
        },
        {
          "output_type": "stream",
          "text": [
            "100%|██████████| 469/469 [00:28<00:00, 16.45it/s]\n",
            "  0%|          | 2/469 [00:00<00:25, 18.50it/s]"
          ],
          "name": "stderr"
        },
        {
          "output_type": "stream",
          "text": [
            "\n",
            ">>>> training begins for epoch 7.............\n",
            ">>>> please wait while the model is training..............\n"
          ],
          "name": "stdout"
        },
        {
          "output_type": "stream",
          "text": [
            "100%|██████████| 469/469 [00:28<00:00, 16.44it/s]\n",
            "  0%|          | 2/469 [00:00<00:24, 18.70it/s]"
          ],
          "name": "stderr"
        },
        {
          "output_type": "stream",
          "text": [
            "\n",
            ">>>> training begins for epoch 8.............\n",
            ">>>> please wait while the model is training..............\n"
          ],
          "name": "stdout"
        },
        {
          "output_type": "stream",
          "text": [
            "100%|██████████| 469/469 [00:28<00:00, 16.45it/s]\n",
            "  0%|          | 2/469 [00:00<00:24, 19.02it/s]"
          ],
          "name": "stderr"
        },
        {
          "output_type": "stream",
          "text": [
            "\n",
            ">>>> training begins for epoch 9.............\n",
            ">>>> please wait while the model is training..............\n"
          ],
          "name": "stdout"
        },
        {
          "output_type": "stream",
          "text": [
            "100%|██████████| 469/469 [00:28<00:00, 16.45it/s]\n",
            "  0%|          | 2/469 [00:00<00:24, 18.77it/s]"
          ],
          "name": "stderr"
        },
        {
          "output_type": "stream",
          "text": [
            "\n",
            ">>>> training begins for epoch 10.............\n",
            ">>>> please wait while the model is training..............\n"
          ],
          "name": "stdout"
        },
        {
          "output_type": "stream",
          "text": [
            "100%|██████████| 469/469 [00:28<00:00, 16.43it/s]\n",
            "  1%|          | 3/469 [00:00<00:16, 27.73it/s]"
          ],
          "name": "stderr"
        },
        {
          "output_type": "stream",
          "text": [
            "\n",
            ">>>> checking performance on the training dataset\n",
            ">>>> please wait................\n",
            "\n",
            ">>>> model is training for epoch 10 of batch 0.......\n",
            ">>>> accuracy recorded: 100.0000\n",
            "\n",
            ">>>> model is training for epoch 10 of batch 1.......\n",
            ">>>> accuracy recorded: 99.6094\n",
            "\n",
            ">>>> model is training for epoch 10 of batch 2.......\n",
            ">>>> accuracy recorded: 99.2188\n",
            "\n",
            ">>>> model is training for epoch 10 of batch 3.......\n",
            ">>>> accuracy recorded: 99.2188\n",
            "\n",
            ">>>> model is training for epoch 10 of batch 4.......\n",
            ">>>> accuracy recorded: 99.3750\n",
            "\n",
            ">>>> model is training for epoch 10 of batch 5.......\n",
            ">>>> accuracy recorded: 99.3490\n"
          ],
          "name": "stdout"
        },
        {
          "output_type": "stream",
          "text": [
            "  3%|▎         | 13/469 [00:00<00:13, 33.36it/s]"
          ],
          "name": "stderr"
        },
        {
          "output_type": "stream",
          "text": [
            "\n",
            ">>>> model is training for epoch 10 of batch 6.......\n",
            ">>>> accuracy recorded: 99.2188\n",
            "\n",
            ">>>> model is training for epoch 10 of batch 7.......\n",
            ">>>> accuracy recorded: 99.3164\n",
            "\n",
            ">>>> model is training for epoch 10 of batch 8.......\n",
            ">>>> accuracy recorded: 99.3056\n",
            "\n",
            ">>>> model is training for epoch 10 of batch 9.......\n",
            ">>>> accuracy recorded: 98.9062\n",
            "\n",
            ">>>> model is training for epoch 10 of batch 10.......\n",
            ">>>> accuracy recorded: 99.0057\n",
            "\n",
            ">>>> model is training for epoch 10 of batch 11.......\n",
            ">>>> accuracy recorded: 99.0234\n",
            "\n",
            ">>>> model is training for epoch 10 of batch 12.......\n",
            ">>>> accuracy recorded: 99.0986\n",
            "\n",
            ">>>> model is training for epoch 10 of batch 13.......\n",
            ">>>> accuracy recorded: 99.1071\n",
            "\n",
            ">>>> model is training for epoch 10 of batch 14.......\n",
            ">>>> accuracy recorded: 99.0104\n"
          ],
          "name": "stdout"
        },
        {
          "output_type": "stream",
          "text": [
            "  5%|▍         | 22/469 [00:00<00:12, 36.63it/s]"
          ],
          "name": "stderr"
        },
        {
          "output_type": "stream",
          "text": [
            "\n",
            ">>>> model is training for epoch 10 of batch 15.......\n",
            ">>>> accuracy recorded: 99.0723\n",
            "\n",
            ">>>> model is training for epoch 10 of batch 16.......\n",
            ">>>> accuracy recorded: 98.9890\n",
            "\n",
            ">>>> model is training for epoch 10 of batch 17.......\n",
            ">>>> accuracy recorded: 99.0451\n",
            "\n",
            ">>>> model is training for epoch 10 of batch 18.......\n",
            ">>>> accuracy recorded: 99.0954\n",
            "\n",
            ">>>> model is training for epoch 10 of batch 19.......\n",
            ">>>> accuracy recorded: 99.1016\n",
            "\n",
            ">>>> model is training for epoch 10 of batch 20.......\n",
            ">>>> accuracy recorded: 99.1443\n",
            "\n",
            ">>>> model is training for epoch 10 of batch 21.......\n",
            ">>>> accuracy recorded: 99.1832\n",
            "\n",
            ">>>> model is training for epoch 10 of batch 22.......\n",
            ">>>> accuracy recorded: 99.2188\n",
            "\n",
            ">>>> model is training for epoch 10 of batch 23.......\n",
            ">>>> accuracy recorded: 99.0885\n"
          ],
          "name": "stdout"
        },
        {
          "output_type": "stream",
          "text": [
            "  7%|▋         | 31/469 [00:00<00:11, 38.50it/s]"
          ],
          "name": "stderr"
        },
        {
          "output_type": "stream",
          "text": [
            "\n",
            ">>>> model is training for epoch 10 of batch 24.......\n",
            ">>>> accuracy recorded: 99.0938\n",
            "\n",
            ">>>> model is training for epoch 10 of batch 25.......\n",
            ">>>> accuracy recorded: 99.0685\n",
            "\n",
            ">>>> model is training for epoch 10 of batch 26.......\n",
            ">>>> accuracy recorded: 99.0741\n",
            "\n",
            ">>>> model is training for epoch 10 of batch 27.......\n",
            ">>>> accuracy recorded: 99.1071\n",
            "\n",
            ">>>> model is training for epoch 10 of batch 28.......\n",
            ">>>> accuracy recorded: 99.1110\n",
            "\n",
            ">>>> model is training for epoch 10 of batch 29.......\n",
            ">>>> accuracy recorded: 99.0365\n",
            "\n",
            ">>>> model is training for epoch 10 of batch 30.......\n",
            ">>>> accuracy recorded: 99.0423\n",
            "\n",
            ">>>> model is training for epoch 10 of batch 31.......\n",
            ">>>> accuracy recorded: 98.9746\n",
            "\n",
            ">>>> model is training for epoch 10 of batch 32.......\n",
            ">>>> accuracy recorded: 98.9820\n"
          ],
          "name": "stdout"
        },
        {
          "output_type": "stream",
          "text": [
            "  9%|▊         | 40/469 [00:01<00:10, 39.08it/s]"
          ],
          "name": "stderr"
        },
        {
          "output_type": "stream",
          "text": [
            "\n",
            ">>>> model is training for epoch 10 of batch 33.......\n",
            ">>>> accuracy recorded: 99.0120\n",
            "\n",
            ">>>> model is training for epoch 10 of batch 34.......\n",
            ">>>> accuracy recorded: 99.0402\n",
            "\n",
            ">>>> model is training for epoch 10 of batch 35.......\n",
            ">>>> accuracy recorded: 99.0451\n",
            "\n",
            ">>>> model is training for epoch 10 of batch 36.......\n",
            ">>>> accuracy recorded: 98.9865\n",
            "\n",
            ">>>> model is training for epoch 10 of batch 37.......\n",
            ">>>> accuracy recorded: 98.9720\n",
            "\n",
            ">>>> model is training for epoch 10 of batch 38.......\n",
            ">>>> accuracy recorded: 98.9583\n",
            "\n",
            ">>>> model is training for epoch 10 of batch 39.......\n",
            ">>>> accuracy recorded: 98.9844\n",
            "\n",
            ">>>> model is training for epoch 10 of batch 40.......\n",
            ">>>> accuracy recorded: 98.9901\n",
            "\n",
            ">>>> model is training for epoch 10 of batch 41.......\n",
            ">>>> accuracy recorded: 98.9769\n"
          ],
          "name": "stdout"
        },
        {
          "output_type": "stream",
          "text": [
            " 10%|█         | 49/469 [00:01<00:10, 39.91it/s]"
          ],
          "name": "stderr"
        },
        {
          "output_type": "stream",
          "text": [
            "\n",
            ">>>> model is training for epoch 10 of batch 42.......\n",
            ">>>> accuracy recorded: 98.9644\n",
            "\n",
            ">>>> model is training for epoch 10 of batch 43.......\n",
            ">>>> accuracy recorded: 98.9879\n",
            "\n",
            ">>>> model is training for epoch 10 of batch 44.......\n",
            ">>>> accuracy recorded: 99.0104\n",
            "\n",
            ">>>> model is training for epoch 10 of batch 45.......\n",
            ">>>> accuracy recorded: 99.0319\n",
            "\n",
            ">>>> model is training for epoch 10 of batch 46.......\n",
            ">>>> accuracy recorded: 99.0525\n",
            "\n",
            ">>>> model is training for epoch 10 of batch 47.......\n",
            ">>>> accuracy recorded: 99.0723\n",
            "\n",
            ">>>> model is training for epoch 10 of batch 48.......\n",
            ">>>> accuracy recorded: 99.0752\n",
            "\n",
            ">>>> model is training for epoch 10 of batch 49.......\n",
            ">>>> accuracy recorded: 99.0781\n",
            "\n",
            ">>>> model is training for epoch 10 of batch 50.......\n",
            ">>>> accuracy recorded: 99.0809\n"
          ],
          "name": "stdout"
        },
        {
          "output_type": "stream",
          "text": [
            " 12%|█▏        | 58/469 [00:01<00:10, 40.22it/s]"
          ],
          "name": "stderr"
        },
        {
          "output_type": "stream",
          "text": [
            "\n",
            ">>>> model is training for epoch 10 of batch 51.......\n",
            ">>>> accuracy recorded: 99.0986\n",
            "\n",
            ">>>> model is training for epoch 10 of batch 52.......\n",
            ">>>> accuracy recorded: 99.0714\n",
            "\n",
            ">>>> model is training for epoch 10 of batch 53.......\n",
            ">>>> accuracy recorded: 99.0741\n",
            "\n",
            ">>>> model is training for epoch 10 of batch 54.......\n",
            ">>>> accuracy recorded: 99.0909\n",
            "\n",
            ">>>> model is training for epoch 10 of batch 55.......\n",
            ">>>> accuracy recorded: 99.0792\n",
            "\n",
            ">>>> model is training for epoch 10 of batch 56.......\n",
            ">>>> accuracy recorded: 99.0817\n",
            "\n",
            ">>>> model is training for epoch 10 of batch 57.......\n",
            ">>>> accuracy recorded: 99.0841\n",
            "\n",
            ">>>> model is training for epoch 10 of batch 58.......\n",
            ">>>> accuracy recorded: 99.0466\n",
            "\n",
            ">>>> model is training for epoch 10 of batch 59.......\n",
            ">>>> accuracy recorded: 99.0365\n"
          ],
          "name": "stdout"
        },
        {
          "output_type": "stream",
          "text": [
            " 14%|█▍        | 68/469 [00:01<00:09, 40.43it/s]"
          ],
          "name": "stderr"
        },
        {
          "output_type": "stream",
          "text": [
            "\n",
            ">>>> model is training for epoch 10 of batch 60.......\n",
            ">>>> accuracy recorded: 99.0523\n",
            "\n",
            ">>>> model is training for epoch 10 of batch 61.......\n",
            ">>>> accuracy recorded: 99.0297\n",
            "\n",
            ">>>> model is training for epoch 10 of batch 62.......\n",
            ">>>> accuracy recorded: 98.9955\n",
            "\n",
            ">>>> model is training for epoch 10 of batch 63.......\n",
            ">>>> accuracy recorded: 98.9990\n",
            "\n",
            ">>>> model is training for epoch 10 of batch 64.......\n",
            ">>>> accuracy recorded: 99.0144\n",
            "\n",
            ">>>> model is training for epoch 10 of batch 65.......\n",
            ">>>> accuracy recorded: 99.0294\n",
            "\n",
            ">>>> model is training for epoch 10 of batch 66.......\n",
            ">>>> accuracy recorded: 99.0205\n",
            "\n",
            ">>>> model is training for epoch 10 of batch 67.......\n",
            ">>>> accuracy recorded: 99.0349\n",
            "\n",
            ">>>> model is training for epoch 10 of batch 68.......\n",
            ">>>> accuracy recorded: 99.0263\n"
          ],
          "name": "stdout"
        },
        {
          "output_type": "stream",
          "text": [
            " 17%|█▋        | 78/469 [00:01<00:09, 40.66it/s]"
          ],
          "name": "stderr"
        },
        {
          "output_type": "stream",
          "text": [
            "\n",
            ">>>> model is training for epoch 10 of batch 69.......\n",
            ">>>> accuracy recorded: 99.0179\n",
            "\n",
            ">>>> model is training for epoch 10 of batch 70.......\n",
            ">>>> accuracy recorded: 99.0317\n",
            "\n",
            ">>>> model is training for epoch 10 of batch 71.......\n",
            ">>>> accuracy recorded: 99.0343\n",
            "\n",
            ">>>> model is training for epoch 10 of batch 72.......\n",
            ">>>> accuracy recorded: 99.0475\n",
            "\n",
            ">>>> model is training for epoch 10 of batch 73.......\n",
            ">>>> accuracy recorded: 99.0393\n",
            "\n",
            ">>>> model is training for epoch 10 of batch 74.......\n",
            ">>>> accuracy recorded: 99.0417\n",
            "\n",
            ">>>> model is training for epoch 10 of batch 75.......\n",
            ">>>> accuracy recorded: 99.0543\n",
            "\n",
            ">>>> model is training for epoch 10 of batch 76.......\n",
            ">>>> accuracy recorded: 99.0666\n",
            "\n",
            ">>>> model is training for epoch 10 of batch 77.......\n",
            ">>>> accuracy recorded: 99.0685\n"
          ],
          "name": "stdout"
        },
        {
          "output_type": "stream",
          "text": [
            "\r 18%|█▊        | 83/469 [00:02<00:09, 41.16it/s]"
          ],
          "name": "stderr"
        },
        {
          "output_type": "stream",
          "text": [
            "\n",
            ">>>> model is training for epoch 10 of batch 78.......\n",
            ">>>> accuracy recorded: 99.0803\n",
            "\n",
            ">>>> model is training for epoch 10 of batch 79.......\n",
            ">>>> accuracy recorded: 99.0723\n",
            "\n",
            ">>>> model is training for epoch 10 of batch 80.......\n",
            ">>>> accuracy recorded: 99.0741\n",
            "\n",
            ">>>> model is training for epoch 10 of batch 81.......\n",
            ">>>> accuracy recorded: 99.0854\n",
            "\n",
            ">>>> model is training for epoch 10 of batch 82.......\n",
            ">>>> accuracy recorded: 99.0776\n",
            "\n",
            ">>>> model is training for epoch 10 of batch 83.......\n",
            ">>>> accuracy recorded: 99.0792\n",
            "\n",
            ">>>> model is training for epoch 10 of batch 84.......\n",
            ">>>> accuracy recorded: 99.0901\n",
            "\n",
            ">>>> model is training for epoch 10 of batch 85.......\n",
            ">>>> accuracy recorded: 99.0825\n",
            "\n",
            ">>>> model is training for epoch 10 of batch 86.......\n",
            ">>>> accuracy recorded: 99.0841\n"
          ],
          "name": "stdout"
        },
        {
          "output_type": "stream",
          "text": [
            " 20%|█▉        | 93/469 [00:02<00:09, 41.17it/s]"
          ],
          "name": "stderr"
        },
        {
          "output_type": "stream",
          "text": [
            "\n",
            ">>>> model is training for epoch 10 of batch 87.......\n",
            ">>>> accuracy recorded: 99.0856\n",
            "\n",
            ">>>> model is training for epoch 10 of batch 88.......\n",
            ">>>> accuracy recorded: 99.0871\n",
            "\n",
            ">>>> model is training for epoch 10 of batch 89.......\n",
            ">>>> accuracy recorded: 99.0885\n",
            "\n",
            ">>>> model is training for epoch 10 of batch 90.......\n",
            ">>>> accuracy recorded: 99.0900\n",
            "\n",
            ">>>> model is training for epoch 10 of batch 91.......\n",
            ">>>> accuracy recorded: 99.0829\n",
            "\n",
            ">>>> model is training for epoch 10 of batch 92.......\n",
            ">>>> accuracy recorded: 99.0759\n",
            "\n",
            ">>>> model is training for epoch 10 of batch 93.......\n",
            ">>>> accuracy recorded: 99.0775\n",
            "\n",
            ">>>> model is training for epoch 10 of batch 94.......\n",
            ">>>> accuracy recorded: 99.0872\n",
            "\n",
            ">>>> model is training for epoch 10 of batch 95.......\n",
            ">>>> accuracy recorded: 99.0804\n"
          ],
          "name": "stdout"
        },
        {
          "output_type": "stream",
          "text": [
            " 22%|██▏       | 103/469 [00:02<00:08, 40.81it/s]"
          ],
          "name": "stderr"
        },
        {
          "output_type": "stream",
          "text": [
            "\n",
            ">>>> model is training for epoch 10 of batch 96.......\n",
            ">>>> accuracy recorded: 99.0899\n",
            "\n",
            ">>>> model is training for epoch 10 of batch 97.......\n",
            ">>>> accuracy recorded: 99.0912\n",
            "\n",
            ">>>> model is training for epoch 10 of batch 98.......\n",
            ">>>> accuracy recorded: 99.1004\n",
            "\n",
            ">>>> model is training for epoch 10 of batch 99.......\n",
            ">>>> accuracy recorded: 99.0938\n",
            "\n",
            ">>>> model is training for epoch 10 of batch 100.......\n",
            ">>>> accuracy recorded: 99.0950\n",
            "\n",
            ">>>> model is training for epoch 10 of batch 101.......\n",
            ">>>> accuracy recorded: 99.0962\n",
            "\n",
            ">>>> model is training for epoch 10 of batch 102.......\n",
            ">>>> accuracy recorded: 99.0974\n",
            "\n",
            ">>>> model is training for epoch 10 of batch 103.......\n",
            ">>>> accuracy recorded: 99.1061\n",
            "\n",
            ">>>> model is training for epoch 10 of batch 104.......\n",
            ">>>> accuracy recorded: 99.1146\n"
          ],
          "name": "stdout"
        },
        {
          "output_type": "stream",
          "text": [
            " 24%|██▍       | 113/469 [00:02<00:08, 40.63it/s]"
          ],
          "name": "stderr"
        },
        {
          "output_type": "stream",
          "text": [
            "\n",
            ">>>> model is training for epoch 10 of batch 105.......\n",
            ">>>> accuracy recorded: 99.1229\n",
            "\n",
            ">>>> model is training for epoch 10 of batch 106.......\n",
            ">>>> accuracy recorded: 99.1238\n",
            "\n",
            ">>>> model is training for epoch 10 of batch 107.......\n",
            ">>>> accuracy recorded: 99.1320\n",
            "\n",
            ">>>> model is training for epoch 10 of batch 108.......\n",
            ">>>> accuracy recorded: 99.1327\n",
            "\n",
            ">>>> model is training for epoch 10 of batch 109.......\n",
            ">>>> accuracy recorded: 99.1335\n",
            "\n",
            ">>>> model is training for epoch 10 of batch 110.......\n",
            ">>>> accuracy recorded: 99.1343\n",
            "\n",
            ">>>> model is training for epoch 10 of batch 111.......\n",
            ">>>> accuracy recorded: 99.1420\n",
            "\n",
            ">>>> model is training for epoch 10 of batch 112.......\n",
            ">>>> accuracy recorded: 99.1427\n",
            "\n",
            ">>>> model is training for epoch 10 of batch 113.......\n",
            ">>>> accuracy recorded: 99.1434\n"
          ],
          "name": "stdout"
        },
        {
          "output_type": "stream",
          "text": [
            " 26%|██▌       | 123/469 [00:03<00:08, 40.18it/s]"
          ],
          "name": "stderr"
        },
        {
          "output_type": "stream",
          "text": [
            "\n",
            ">>>> model is training for epoch 10 of batch 114.......\n",
            ">>>> accuracy recorded: 99.1372\n",
            "\n",
            ">>>> model is training for epoch 10 of batch 115.......\n",
            ">>>> accuracy recorded: 99.1379\n",
            "\n",
            ">>>> model is training for epoch 10 of batch 116.......\n",
            ">>>> accuracy recorded: 99.1386\n",
            "\n",
            ">>>> model is training for epoch 10 of batch 117.......\n",
            ">>>> accuracy recorded: 99.1393\n",
            "\n",
            ">>>> model is training for epoch 10 of batch 118.......\n",
            ">>>> accuracy recorded: 99.1465\n",
            "\n",
            ">>>> model is training for epoch 10 of batch 119.......\n",
            ">>>> accuracy recorded: 99.1471\n",
            "\n",
            ">>>> model is training for epoch 10 of batch 120.......\n",
            ">>>> accuracy recorded: 99.1542\n",
            "\n",
            ">>>> model is training for epoch 10 of batch 121.......\n",
            ">>>> accuracy recorded: 99.1547\n",
            "\n",
            ">>>> model is training for epoch 10 of batch 122.......\n",
            ">>>> accuracy recorded: 99.1489\n"
          ],
          "name": "stdout"
        },
        {
          "output_type": "stream",
          "text": [
            "\r 27%|██▋       | 128/469 [00:03<00:08, 40.48it/s]"
          ],
          "name": "stderr"
        },
        {
          "output_type": "stream",
          "text": [
            "\n",
            ">>>> model is training for epoch 10 of batch 123.......\n",
            ">>>> accuracy recorded: 99.1557\n",
            "\n",
            ">>>> model is training for epoch 10 of batch 124.......\n",
            ">>>> accuracy recorded: 99.1500\n",
            "\n",
            ">>>> model is training for epoch 10 of batch 125.......\n",
            ">>>> accuracy recorded: 99.1567\n",
            "\n",
            ">>>> model is training for epoch 10 of batch 126.......\n",
            ">>>> accuracy recorded: 99.1449\n",
            "\n",
            ">>>> model is training for epoch 10 of batch 127.......\n",
            ">>>> accuracy recorded: 99.1394\n",
            "\n",
            ">>>> model is training for epoch 10 of batch 128.......\n",
            ">>>> accuracy recorded: 99.1461\n",
            "\n",
            ">>>> model is training for epoch 10 of batch 129.......\n",
            ">>>> accuracy recorded: 99.1346\n",
            "\n",
            ">>>> model is training for epoch 10 of batch 130.......\n",
            ">>>> accuracy recorded: 99.1293\n",
            "\n",
            ">>>> model is training for epoch 10 of batch 131.......\n",
            ">>>> accuracy recorded: 99.1300\n"
          ],
          "name": "stdout"
        },
        {
          "output_type": "stream",
          "text": [
            " 29%|██▉       | 137/469 [00:03<00:08, 39.32it/s]"
          ],
          "name": "stderr"
        },
        {
          "output_type": "stream",
          "text": [
            "\n",
            ">>>> model is training for epoch 10 of batch 132.......\n",
            ">>>> accuracy recorded: 99.1306\n",
            "\n",
            ">>>> model is training for epoch 10 of batch 133.......\n",
            ">>>> accuracy recorded: 99.1371\n",
            "\n",
            ">>>> model is training for epoch 10 of batch 134.......\n",
            ">>>> accuracy recorded: 99.1435\n",
            "\n",
            ">>>> model is training for epoch 10 of batch 135.......\n",
            ">>>> accuracy recorded: 99.1498\n",
            "\n",
            ">>>> model is training for epoch 10 of batch 136.......\n",
            ">>>> accuracy recorded: 99.1503\n",
            "\n",
            ">>>> model is training for epoch 10 of batch 137.......\n",
            ">>>> accuracy recorded: 99.1565\n",
            "\n",
            ">>>> model is training for epoch 10 of batch 138.......\n",
            ">>>> accuracy recorded: 99.1513\n",
            "\n",
            ">>>> model is training for epoch 10 of batch 139.......\n",
            ">>>> accuracy recorded: 99.1518\n"
          ],
          "name": "stdout"
        },
        {
          "output_type": "stream",
          "text": [
            " 31%|███       | 146/469 [00:03<00:08, 39.48it/s]"
          ],
          "name": "stderr"
        },
        {
          "output_type": "stream",
          "text": [
            "\n",
            ">>>> model is training for epoch 10 of batch 140.......\n",
            ">>>> accuracy recorded: 99.1467\n",
            "\n",
            ">>>> model is training for epoch 10 of batch 141.......\n",
            ">>>> accuracy recorded: 99.1417\n",
            "\n",
            ">>>> model is training for epoch 10 of batch 142.......\n",
            ">>>> accuracy recorded: 99.1423\n",
            "\n",
            ">>>> model is training for epoch 10 of batch 143.......\n",
            ">>>> accuracy recorded: 99.1482\n",
            "\n",
            ">>>> model is training for epoch 10 of batch 144.......\n",
            ">>>> accuracy recorded: 99.1487\n",
            "\n",
            ">>>> model is training for epoch 10 of batch 145.......\n",
            ">>>> accuracy recorded: 99.1492\n",
            "\n",
            ">>>> model is training for epoch 10 of batch 146.......\n",
            ">>>> accuracy recorded: 99.1550\n",
            "\n",
            ">>>> model is training for epoch 10 of batch 147.......\n",
            ">>>> accuracy recorded: 99.1554\n"
          ],
          "name": "stdout"
        },
        {
          "output_type": "stream",
          "text": [
            " 33%|███▎      | 154/469 [00:03<00:08, 39.14it/s]"
          ],
          "name": "stderr"
        },
        {
          "output_type": "stream",
          "text": [
            "\n",
            ">>>> model is training for epoch 10 of batch 148.......\n",
            ">>>> accuracy recorded: 99.1611\n",
            "\n",
            ">>>> model is training for epoch 10 of batch 149.......\n",
            ">>>> accuracy recorded: 99.1667\n",
            "\n",
            ">>>> model is training for epoch 10 of batch 150.......\n",
            ">>>> accuracy recorded: 99.1618\n",
            "\n",
            ">>>> model is training for epoch 10 of batch 151.......\n",
            ">>>> accuracy recorded: 99.1622\n",
            "\n",
            ">>>> model is training for epoch 10 of batch 152.......\n",
            ">>>> accuracy recorded: 99.1677\n",
            "\n",
            ">>>> model is training for epoch 10 of batch 153.......\n",
            ">>>> accuracy recorded: 99.1680\n",
            "\n",
            ">>>> model is training for epoch 10 of batch 154.......\n",
            ">>>> accuracy recorded: 99.1734\n",
            "\n",
            ">>>> model is training for epoch 10 of batch 155.......\n",
            ">>>> accuracy recorded: 99.1737\n"
          ],
          "name": "stdout"
        },
        {
          "output_type": "stream",
          "text": [
            " 35%|███▍      | 163/469 [00:04<00:07, 39.59it/s]"
          ],
          "name": "stderr"
        },
        {
          "output_type": "stream",
          "text": [
            "\n",
            ">>>> model is training for epoch 10 of batch 156.......\n",
            ">>>> accuracy recorded: 99.1690\n",
            "\n",
            ">>>> model is training for epoch 10 of batch 157.......\n",
            ">>>> accuracy recorded: 99.1693\n",
            "\n",
            ">>>> model is training for epoch 10 of batch 158.......\n",
            ">>>> accuracy recorded: 99.1549\n",
            "\n",
            ">>>> model is training for epoch 10 of batch 159.......\n",
            ">>>> accuracy recorded: 99.1455\n",
            "\n",
            ">>>> model is training for epoch 10 of batch 160.......\n",
            ">>>> accuracy recorded: 99.1460\n",
            "\n",
            ">>>> model is training for epoch 10 of batch 161.......\n",
            ">>>> accuracy recorded: 99.1368\n",
            "\n",
            ">>>> model is training for epoch 10 of batch 162.......\n",
            ">>>> accuracy recorded: 99.1421\n",
            "\n",
            ">>>> model is training for epoch 10 of batch 163.......\n",
            ">>>> accuracy recorded: 99.1425\n",
            "\n",
            ">>>> model is training for epoch 10 of batch 164.......\n",
            ">>>> accuracy recorded: 99.1430\n"
          ],
          "name": "stdout"
        },
        {
          "output_type": "stream",
          "text": [
            " 37%|███▋      | 172/469 [00:04<00:07, 39.85it/s]"
          ],
          "name": "stderr"
        },
        {
          "output_type": "stream",
          "text": [
            "\n",
            ">>>> model is training for epoch 10 of batch 165.......\n",
            ">>>> accuracy recorded: 99.1482\n",
            "\n",
            ">>>> model is training for epoch 10 of batch 166.......\n",
            ">>>> accuracy recorded: 99.1486\n",
            "\n",
            ">>>> model is training for epoch 10 of batch 167.......\n",
            ">>>> accuracy recorded: 99.1443\n",
            "\n",
            ">>>> model is training for epoch 10 of batch 168.......\n",
            ">>>> accuracy recorded: 99.1448\n",
            "\n",
            ">>>> model is training for epoch 10 of batch 169.......\n",
            ">>>> accuracy recorded: 99.1406\n",
            "\n",
            ">>>> model is training for epoch 10 of batch 170.......\n",
            ">>>> accuracy recorded: 99.1365\n",
            "\n",
            ">>>> model is training for epoch 10 of batch 171.......\n",
            ">>>> accuracy recorded: 99.1279\n",
            "\n",
            ">>>> model is training for epoch 10 of batch 172.......\n",
            ">>>> accuracy recorded: 99.1329\n",
            "\n",
            ">>>> model is training for epoch 10 of batch 173.......\n",
            ">>>> accuracy recorded: 99.1334\n"
          ],
          "name": "stdout"
        },
        {
          "output_type": "stream",
          "text": [
            " 39%|███▊      | 181/469 [00:04<00:07, 40.38it/s]"
          ],
          "name": "stderr"
        },
        {
          "output_type": "stream",
          "text": [
            "\n",
            ">>>> model is training for epoch 10 of batch 174.......\n",
            ">>>> accuracy recorded: 99.1339\n",
            "\n",
            ">>>> model is training for epoch 10 of batch 175.......\n",
            ">>>> accuracy recorded: 99.1388\n",
            "\n",
            ">>>> model is training for epoch 10 of batch 176.......\n",
            ">>>> accuracy recorded: 99.1437\n",
            "\n",
            ">>>> model is training for epoch 10 of batch 177.......\n",
            ">>>> accuracy recorded: 99.1397\n",
            "\n",
            ">>>> model is training for epoch 10 of batch 178.......\n",
            ">>>> accuracy recorded: 99.1358\n",
            "\n",
            ">>>> model is training for epoch 10 of batch 179.......\n",
            ">>>> accuracy recorded: 99.1363\n",
            "\n",
            ">>>> model is training for epoch 10 of batch 180.......\n",
            ">>>> accuracy recorded: 99.1324\n",
            "\n",
            ">>>> model is training for epoch 10 of batch 181.......\n",
            ">>>> accuracy recorded: 99.1329\n",
            "\n",
            ">>>> model is training for epoch 10 of batch 182.......\n",
            ">>>> accuracy recorded: 99.1248\n"
          ],
          "name": "stdout"
        },
        {
          "output_type": "stream",
          "text": [
            " 41%|████      | 191/469 [00:04<00:06, 40.39it/s]"
          ],
          "name": "stderr"
        },
        {
          "output_type": "stream",
          "text": [
            "\n",
            ">>>> model is training for epoch 10 of batch 183.......\n",
            ">>>> accuracy recorded: 99.1296\n",
            "\n",
            ">>>> model is training for epoch 10 of batch 184.......\n",
            ">>>> accuracy recorded: 99.1301\n",
            "\n",
            ">>>> model is training for epoch 10 of batch 185.......\n",
            ">>>> accuracy recorded: 99.1263\n",
            "\n",
            ">>>> model is training for epoch 10 of batch 186.......\n",
            ">>>> accuracy recorded: 99.1268\n",
            "\n",
            ">>>> model is training for epoch 10 of batch 187.......\n",
            ">>>> accuracy recorded: 99.1273\n",
            "\n",
            ">>>> model is training for epoch 10 of batch 188.......\n",
            ">>>> accuracy recorded: 99.1195\n",
            "\n",
            ">>>> model is training for epoch 10 of batch 189.......\n",
            ">>>> accuracy recorded: 99.1242\n",
            "\n",
            ">>>> model is training for epoch 10 of batch 190.......\n",
            ">>>> accuracy recorded: 99.1288\n",
            "\n",
            ">>>> model is training for epoch 10 of batch 191.......\n",
            ">>>> accuracy recorded: 99.1292\n"
          ],
          "name": "stdout"
        },
        {
          "output_type": "stream",
          "text": [
            " 43%|████▎     | 200/469 [00:05<00:06, 39.64it/s]"
          ],
          "name": "stderr"
        },
        {
          "output_type": "stream",
          "text": [
            "\n",
            ">>>> model is training for epoch 10 of batch 192.......\n",
            ">>>> accuracy recorded: 99.1216\n",
            "\n",
            ">>>> model is training for epoch 10 of batch 193.......\n",
            ">>>> accuracy recorded: 99.1261\n",
            "\n",
            ">>>> model is training for epoch 10 of batch 194.......\n",
            ">>>> accuracy recorded: 99.1266\n",
            "\n",
            ">>>> model is training for epoch 10 of batch 195.......\n",
            ">>>> accuracy recorded: 99.1231\n",
            "\n",
            ">>>> model is training for epoch 10 of batch 196.......\n",
            ">>>> accuracy recorded: 99.1236\n",
            "\n",
            ">>>> model is training for epoch 10 of batch 197.......\n",
            ">>>> accuracy recorded: 99.1241\n",
            "\n",
            ">>>> model is training for epoch 10 of batch 198.......\n",
            ">>>> accuracy recorded: 99.1167\n",
            "\n",
            ">>>> model is training for epoch 10 of batch 199.......\n",
            ">>>> accuracy recorded: 99.1211\n"
          ],
          "name": "stdout"
        },
        {
          "output_type": "stream",
          "text": [
            " 44%|████▍     | 208/469 [00:05<00:06, 39.01it/s]"
          ],
          "name": "stderr"
        },
        {
          "output_type": "stream",
          "text": [
            "\n",
            ">>>> model is training for epoch 10 of batch 200.......\n",
            ">>>> accuracy recorded: 99.1177\n",
            "\n",
            ">>>> model is training for epoch 10 of batch 201.......\n",
            ">>>> accuracy recorded: 99.1143\n",
            "\n",
            ">>>> model is training for epoch 10 of batch 202.......\n",
            ">>>> accuracy recorded: 99.1148\n",
            "\n",
            ">>>> model is training for epoch 10 of batch 203.......\n",
            ">>>> accuracy recorded: 99.1192\n",
            "\n",
            ">>>> model is training for epoch 10 of batch 204.......\n",
            ">>>> accuracy recorded: 99.1235\n",
            "\n",
            ">>>> model is training for epoch 10 of batch 205.......\n",
            ">>>> accuracy recorded: 99.1164\n",
            "\n",
            ">>>> model is training for epoch 10 of batch 206.......\n",
            ">>>> accuracy recorded: 99.1131\n",
            "\n",
            ">>>> model is training for epoch 10 of batch 207.......\n",
            ">>>> accuracy recorded: 99.1061\n"
          ],
          "name": "stdout"
        },
        {
          "output_type": "stream",
          "text": [
            " 46%|████▌     | 216/469 [00:05<00:06, 39.31it/s]"
          ],
          "name": "stderr"
        },
        {
          "output_type": "stream",
          "text": [
            "\n",
            ">>>> model is training for epoch 10 of batch 208.......\n",
            ">>>> accuracy recorded: 99.1103\n",
            "\n",
            ">>>> model is training for epoch 10 of batch 209.......\n",
            ">>>> accuracy recorded: 99.1109\n",
            "\n",
            ">>>> model is training for epoch 10 of batch 210.......\n",
            ">>>> accuracy recorded: 99.1151\n",
            "\n",
            ">>>> model is training for epoch 10 of batch 211.......\n",
            ">>>> accuracy recorded: 99.1156\n",
            "\n",
            ">>>> model is training for epoch 10 of batch 212.......\n",
            ">>>> accuracy recorded: 99.1161\n",
            "\n",
            ">>>> model is training for epoch 10 of batch 213.......\n",
            ">>>> accuracy recorded: 99.1056\n",
            "\n",
            ">>>> model is training for epoch 10 of batch 214.......\n",
            ">>>> accuracy recorded: 99.1025\n",
            "\n",
            ">>>> model is training for epoch 10 of batch 215.......\n",
            ">>>> accuracy recorded: 99.1030\n"
          ],
          "name": "stdout"
        },
        {
          "output_type": "stream",
          "text": [
            " 48%|████▊     | 224/469 [00:05<00:06, 39.17it/s]"
          ],
          "name": "stderr"
        },
        {
          "output_type": "stream",
          "text": [
            "\n",
            ">>>> model is training for epoch 10 of batch 216.......\n",
            ">>>> accuracy recorded: 99.0963\n",
            "\n",
            ">>>> model is training for epoch 10 of batch 217.......\n",
            ">>>> accuracy recorded: 99.0969\n",
            "\n",
            ">>>> model is training for epoch 10 of batch 218.......\n",
            ">>>> accuracy recorded: 99.1010\n",
            "\n",
            ">>>> model is training for epoch 10 of batch 219.......\n",
            ">>>> accuracy recorded: 99.1016\n",
            "\n",
            ">>>> model is training for epoch 10 of batch 220.......\n",
            ">>>> accuracy recorded: 99.0950\n",
            "\n",
            ">>>> model is training for epoch 10 of batch 221.......\n",
            ">>>> accuracy recorded: 99.0956\n",
            "\n",
            ">>>> model is training for epoch 10 of batch 222.......\n",
            ">>>> accuracy recorded: 99.0926\n",
            "\n",
            ">>>> model is training for epoch 10 of batch 223.......\n",
            ">>>> accuracy recorded: 99.0862\n"
          ],
          "name": "stdout"
        },
        {
          "output_type": "stream",
          "text": [
            " 49%|████▉     | 232/469 [00:05<00:06, 39.42it/s]"
          ],
          "name": "stderr"
        },
        {
          "output_type": "stream",
          "text": [
            "\n",
            ">>>> model is training for epoch 10 of batch 224.......\n",
            ">>>> accuracy recorded: 99.0868\n",
            "\n",
            ">>>> model is training for epoch 10 of batch 225.......\n",
            ">>>> accuracy recorded: 99.0908\n",
            "\n",
            ">>>> model is training for epoch 10 of batch 226.......\n",
            ">>>> accuracy recorded: 99.0948\n",
            "\n",
            ">>>> model is training for epoch 10 of batch 227.......\n",
            ">>>> accuracy recorded: 99.0954\n",
            "\n",
            ">>>> model is training for epoch 10 of batch 228.......\n",
            ">>>> accuracy recorded: 99.0959\n",
            "\n",
            ">>>> model is training for epoch 10 of batch 229.......\n",
            ">>>> accuracy recorded: 99.0965\n",
            "\n",
            ">>>> model is training for epoch 10 of batch 230.......\n",
            ">>>> accuracy recorded: 99.0936\n",
            "\n",
            ">>>> model is training for epoch 10 of batch 231.......\n",
            ">>>> accuracy recorded: 99.0975\n"
          ],
          "name": "stdout"
        },
        {
          "output_type": "stream",
          "text": [
            " 51%|█████▏    | 241/469 [00:06<00:05, 39.75it/s]"
          ],
          "name": "stderr"
        },
        {
          "output_type": "stream",
          "text": [
            "\n",
            ">>>> model is training for epoch 10 of batch 232.......\n",
            ">>>> accuracy recorded: 99.0980\n",
            "\n",
            ">>>> model is training for epoch 10 of batch 233.......\n",
            ">>>> accuracy recorded: 99.1019\n",
            "\n",
            ">>>> model is training for epoch 10 of batch 234.......\n",
            ">>>> accuracy recorded: 99.1057\n",
            "\n",
            ">>>> model is training for epoch 10 of batch 235.......\n",
            ">>>> accuracy recorded: 99.1062\n",
            "\n",
            ">>>> model is training for epoch 10 of batch 236.......\n",
            ">>>> accuracy recorded: 99.1067\n",
            "\n",
            ">>>> model is training for epoch 10 of batch 237.......\n",
            ">>>> accuracy recorded: 99.1071\n",
            "\n",
            ">>>> model is training for epoch 10 of batch 238.......\n",
            ">>>> accuracy recorded: 99.1109\n",
            "\n",
            ">>>> model is training for epoch 10 of batch 239.......\n",
            ">>>> accuracy recorded: 99.1146\n",
            "\n",
            ">>>> model is training for epoch 10 of batch 240.......\n",
            ">>>> accuracy recorded: 99.1150\n"
          ],
          "name": "stdout"
        },
        {
          "output_type": "stream",
          "text": [
            "\r 52%|█████▏    | 246/469 [00:06<00:05, 40.35it/s]"
          ],
          "name": "stderr"
        },
        {
          "output_type": "stream",
          "text": [
            "\n",
            ">>>> model is training for epoch 10 of batch 241.......\n",
            ">>>> accuracy recorded: 99.1187\n",
            "\n",
            ">>>> model is training for epoch 10 of batch 242.......\n",
            ">>>> accuracy recorded: 99.1159\n",
            "\n",
            ">>>> model is training for epoch 10 of batch 243.......\n",
            ">>>> accuracy recorded: 99.1163\n",
            "\n",
            ">>>> model is training for epoch 10 of batch 244.......\n",
            ">>>> accuracy recorded: 99.1199\n",
            "\n",
            ">>>> model is training for epoch 10 of batch 245.......\n",
            ">>>> accuracy recorded: 99.1171\n",
            "\n",
            ">>>> model is training for epoch 10 of batch 246.......\n",
            ">>>> accuracy recorded: 99.1175\n",
            "\n",
            ">>>> model is training for epoch 10 of batch 247.......\n",
            ">>>> accuracy recorded: 99.1211\n",
            "\n",
            ">>>> model is training for epoch 10 of batch 248.......\n",
            ">>>> accuracy recorded: 99.1215\n",
            "\n",
            ">>>> model is training for epoch 10 of batch 249.......\n",
            ">>>> accuracy recorded: 99.1156\n"
          ],
          "name": "stdout"
        },
        {
          "output_type": "stream",
          "text": [
            " 55%|█████▍    | 256/469 [00:06<00:05, 40.42it/s]"
          ],
          "name": "stderr"
        },
        {
          "output_type": "stream",
          "text": [
            "\n",
            ">>>> model is training for epoch 10 of batch 250.......\n",
            ">>>> accuracy recorded: 99.1129\n",
            "\n",
            ">>>> model is training for epoch 10 of batch 251.......\n",
            ">>>> accuracy recorded: 99.1133\n",
            "\n",
            ">>>> model is training for epoch 10 of batch 252.......\n",
            ">>>> accuracy recorded: 99.1138\n",
            "\n",
            ">>>> model is training for epoch 10 of batch 253.......\n",
            ">>>> accuracy recorded: 99.1111\n",
            "\n",
            ">>>> model is training for epoch 10 of batch 254.......\n",
            ">>>> accuracy recorded: 99.1085\n",
            "\n",
            ">>>> model is training for epoch 10 of batch 255.......\n",
            ">>>> accuracy recorded: 99.1028\n",
            "\n",
            ">>>> model is training for epoch 10 of batch 256.......\n",
            ">>>> accuracy recorded: 99.1063\n",
            "\n",
            ">>>> model is training for epoch 10 of batch 257.......\n",
            ">>>> accuracy recorded: 99.0976\n",
            "\n",
            ">>>> model is training for epoch 10 of batch 258.......\n",
            ">>>> accuracy recorded: 99.0981\n"
          ],
          "name": "stdout"
        },
        {
          "output_type": "stream",
          "text": [
            " 57%|█████▋    | 266/469 [00:06<00:05, 40.38it/s]"
          ],
          "name": "stderr"
        },
        {
          "output_type": "stream",
          "text": [
            "\n",
            ">>>> model is training for epoch 10 of batch 259.......\n",
            ">>>> accuracy recorded: 99.0956\n",
            "\n",
            ">>>> model is training for epoch 10 of batch 260.......\n",
            ">>>> accuracy recorded: 99.0960\n",
            "\n",
            ">>>> model is training for epoch 10 of batch 261.......\n",
            ">>>> accuracy recorded: 99.0995\n",
            "\n",
            ">>>> model is training for epoch 10 of batch 262.......\n",
            ">>>> accuracy recorded: 99.1029\n",
            "\n",
            ">>>> model is training for epoch 10 of batch 263.......\n",
            ">>>> accuracy recorded: 99.1063\n",
            "\n",
            ">>>> model is training for epoch 10 of batch 264.......\n",
            ">>>> accuracy recorded: 99.1097\n",
            "\n",
            ">>>> model is training for epoch 10 of batch 265.......\n",
            ">>>> accuracy recorded: 99.1101\n",
            "\n",
            ">>>> model is training for epoch 10 of batch 266.......\n",
            ">>>> accuracy recorded: 99.1105\n",
            "\n",
            ">>>> model is training for epoch 10 of batch 267.......\n",
            ">>>> accuracy recorded: 99.1109\n"
          ],
          "name": "stdout"
        },
        {
          "output_type": "stream",
          "text": [
            " 59%|█████▊    | 275/469 [00:06<00:04, 39.73it/s]"
          ],
          "name": "stderr"
        },
        {
          "output_type": "stream",
          "text": [
            "\n",
            ">>>> model is training for epoch 10 of batch 268.......\n",
            ">>>> accuracy recorded: 99.1142\n",
            "\n",
            ">>>> model is training for epoch 10 of batch 269.......\n",
            ">>>> accuracy recorded: 99.1146\n",
            "\n",
            ">>>> model is training for epoch 10 of batch 270.......\n",
            ">>>> accuracy recorded: 99.1150\n",
            "\n",
            ">>>> model is training for epoch 10 of batch 271.......\n",
            ">>>> accuracy recorded: 99.1153\n",
            "\n",
            ">>>> model is training for epoch 10 of batch 272.......\n",
            ">>>> accuracy recorded: 99.1157\n",
            "\n",
            ">>>> model is training for epoch 10 of batch 273.......\n",
            ">>>> accuracy recorded: 99.1161\n",
            "\n",
            ">>>> model is training for epoch 10 of batch 274.......\n",
            ">>>> accuracy recorded: 99.1165\n",
            "\n",
            ">>>> model is training for epoch 10 of batch 275.......\n",
            ">>>> accuracy recorded: 99.1197\n",
            "\n",
            ">>>> model is training for epoch 10 of batch 276.......\n",
            ">>>> accuracy recorded: 99.1229\n"
          ],
          "name": "stdout"
        },
        {
          "output_type": "stream",
          "text": [
            " 61%|██████    | 284/469 [00:07<00:04, 39.86it/s]"
          ],
          "name": "stderr"
        },
        {
          "output_type": "stream",
          "text": [
            "\n",
            ">>>> model is training for epoch 10 of batch 277.......\n",
            ">>>> accuracy recorded: 99.1260\n",
            "\n",
            ">>>> model is training for epoch 10 of batch 278.......\n",
            ">>>> accuracy recorded: 99.1235\n",
            "\n",
            ">>>> model is training for epoch 10 of batch 279.......\n",
            ">>>> accuracy recorded: 99.1211\n",
            "\n",
            ">>>> model is training for epoch 10 of batch 280.......\n",
            ">>>> accuracy recorded: 99.1159\n",
            "\n",
            ">>>> model is training for epoch 10 of batch 281.......\n",
            ">>>> accuracy recorded: 99.1135\n",
            "\n",
            ">>>> model is training for epoch 10 of batch 282.......\n",
            ">>>> accuracy recorded: 99.1138\n",
            "\n",
            ">>>> model is training for epoch 10 of batch 283.......\n",
            ">>>> accuracy recorded: 99.1115\n",
            "\n",
            ">>>> model is training for epoch 10 of batch 284.......\n",
            ">>>> accuracy recorded: 99.1091\n",
            "\n",
            ">>>> model is training for epoch 10 of batch 285.......\n",
            ">>>> accuracy recorded: 99.1095\n"
          ],
          "name": "stdout"
        },
        {
          "output_type": "stream",
          "text": [
            " 62%|██████▏   | 293/469 [00:07<00:04, 40.04it/s]"
          ],
          "name": "stderr"
        },
        {
          "output_type": "stream",
          "text": [
            "\n",
            ">>>> model is training for epoch 10 of batch 286.......\n",
            ">>>> accuracy recorded: 99.1099\n",
            "\n",
            ">>>> model is training for epoch 10 of batch 287.......\n",
            ">>>> accuracy recorded: 99.1102\n",
            "\n",
            ">>>> model is training for epoch 10 of batch 288.......\n",
            ">>>> accuracy recorded: 99.1133\n",
            "\n",
            ">>>> model is training for epoch 10 of batch 289.......\n",
            ">>>> accuracy recorded: 99.1164\n",
            "\n",
            ">>>> model is training for epoch 10 of batch 290.......\n",
            ">>>> accuracy recorded: 99.1167\n",
            "\n",
            ">>>> model is training for epoch 10 of batch 291.......\n",
            ">>>> accuracy recorded: 99.1144\n",
            "\n",
            ">>>> model is training for epoch 10 of batch 292.......\n",
            ">>>> accuracy recorded: 99.1148\n",
            "\n",
            ">>>> model is training for epoch 10 of batch 293.......\n",
            ">>>> accuracy recorded: 99.1178\n",
            "\n",
            ">>>> model is training for epoch 10 of batch 294.......\n",
            ">>>> accuracy recorded: 99.1181\n"
          ],
          "name": "stdout"
        },
        {
          "output_type": "stream",
          "text": [
            " 65%|██████▍   | 303/469 [00:07<00:04, 40.54it/s]"
          ],
          "name": "stderr"
        },
        {
          "output_type": "stream",
          "text": [
            "\n",
            ">>>> model is training for epoch 10 of batch 295.......\n",
            ">>>> accuracy recorded: 99.1158\n",
            "\n",
            ">>>> model is training for epoch 10 of batch 296.......\n",
            ">>>> accuracy recorded: 99.1162\n",
            "\n",
            ">>>> model is training for epoch 10 of batch 297.......\n",
            ">>>> accuracy recorded: 99.1191\n",
            "\n",
            ">>>> model is training for epoch 10 of batch 298.......\n",
            ">>>> accuracy recorded: 99.1221\n",
            "\n",
            ">>>> model is training for epoch 10 of batch 299.......\n",
            ">>>> accuracy recorded: 99.1250\n",
            "\n",
            ">>>> model is training for epoch 10 of batch 300.......\n",
            ">>>> accuracy recorded: 99.1227\n",
            "\n",
            ">>>> model is training for epoch 10 of batch 301.......\n",
            ">>>> accuracy recorded: 99.1230\n",
            "\n",
            ">>>> model is training for epoch 10 of batch 302.......\n",
            ">>>> accuracy recorded: 99.1208\n",
            "\n",
            ">>>> model is training for epoch 10 of batch 303.......\n",
            ">>>> accuracy recorded: 99.1237\n"
          ],
          "name": "stdout"
        },
        {
          "output_type": "stream",
          "text": [
            " 67%|██████▋   | 313/469 [00:07<00:03, 41.04it/s]"
          ],
          "name": "stderr"
        },
        {
          "output_type": "stream",
          "text": [
            "\n",
            ">>>> model is training for epoch 10 of batch 304.......\n",
            ">>>> accuracy recorded: 99.1240\n",
            "\n",
            ">>>> model is training for epoch 10 of batch 305.......\n",
            ">>>> accuracy recorded: 99.1217\n",
            "\n",
            ">>>> model is training for epoch 10 of batch 306.......\n",
            ">>>> accuracy recorded: 99.1220\n",
            "\n",
            ">>>> model is training for epoch 10 of batch 307.......\n",
            ">>>> accuracy recorded: 99.1224\n",
            "\n",
            ">>>> model is training for epoch 10 of batch 308.......\n",
            ">>>> accuracy recorded: 99.1252\n",
            "\n",
            ">>>> model is training for epoch 10 of batch 309.......\n",
            ">>>> accuracy recorded: 99.1255\n",
            "\n",
            ">>>> model is training for epoch 10 of batch 310.......\n",
            ">>>> accuracy recorded: 99.1283\n",
            "\n",
            ">>>> model is training for epoch 10 of batch 311.......\n",
            ">>>> accuracy recorded: 99.1311\n",
            "\n",
            ">>>> model is training for epoch 10 of batch 312.......\n",
            ">>>> accuracy recorded: 99.1339\n"
          ],
          "name": "stdout"
        },
        {
          "output_type": "stream",
          "text": [
            "\r 68%|██████▊   | 318/469 [00:07<00:03, 40.91it/s]"
          ],
          "name": "stderr"
        },
        {
          "output_type": "stream",
          "text": [
            "\n",
            ">>>> model is training for epoch 10 of batch 313.......\n",
            ">>>> accuracy recorded: 99.1292\n",
            "\n",
            ">>>> model is training for epoch 10 of batch 314.......\n",
            ">>>> accuracy recorded: 99.1320\n",
            "\n",
            ">>>> model is training for epoch 10 of batch 315.......\n",
            ">>>> accuracy recorded: 99.1273\n",
            "\n",
            ">>>> model is training for epoch 10 of batch 316.......\n",
            ">>>> accuracy recorded: 99.1226\n",
            "\n",
            ">>>> model is training for epoch 10 of batch 317.......\n",
            ">>>> accuracy recorded: 99.1229\n",
            "\n",
            ">>>> model is training for epoch 10 of batch 318.......\n",
            ">>>> accuracy recorded: 99.1183\n",
            "\n",
            ">>>> model is training for epoch 10 of batch 319.......\n",
            ">>>> accuracy recorded: 99.1211\n",
            "\n",
            ">>>> model is training for epoch 10 of batch 320.......\n",
            ">>>> accuracy recorded: 99.1214\n",
            "\n",
            ">>>> model is training for epoch 10 of batch 321.......\n",
            ">>>> accuracy recorded: 99.1241\n"
          ],
          "name": "stdout"
        },
        {
          "output_type": "stream",
          "text": [
            " 70%|██████▉   | 328/469 [00:08<00:03, 39.94it/s]"
          ],
          "name": "stderr"
        },
        {
          "output_type": "stream",
          "text": [
            "\n",
            ">>>> model is training for epoch 10 of batch 322.......\n",
            ">>>> accuracy recorded: 99.1268\n",
            "\n",
            ">>>> model is training for epoch 10 of batch 323.......\n",
            ">>>> accuracy recorded: 99.1295\n",
            "\n",
            ">>>> model is training for epoch 10 of batch 324.......\n",
            ">>>> accuracy recorded: 99.1274\n",
            "\n",
            ">>>> model is training for epoch 10 of batch 325.......\n",
            ">>>> accuracy recorded: 99.1253\n",
            "\n",
            ">>>> model is training for epoch 10 of batch 326.......\n",
            ">>>> accuracy recorded: 99.1280\n",
            "\n",
            ">>>> model is training for epoch 10 of batch 327.......\n",
            ">>>> accuracy recorded: 99.1282\n",
            "\n",
            ">>>> model is training for epoch 10 of batch 328.......\n",
            ">>>> accuracy recorded: 99.1285\n",
            "\n",
            ">>>> model is training for epoch 10 of batch 329.......\n",
            ">>>> accuracy recorded: 99.1241\n"
          ],
          "name": "stdout"
        },
        {
          "output_type": "stream",
          "text": [
            " 72%|███████▏  | 336/469 [00:08<00:03, 39.43it/s]"
          ],
          "name": "stderr"
        },
        {
          "output_type": "stream",
          "text": [
            "\n",
            ">>>> model is training for epoch 10 of batch 330.......\n",
            ">>>> accuracy recorded: 99.1267\n",
            "\n",
            ">>>> model is training for epoch 10 of batch 331.......\n",
            ">>>> accuracy recorded: 99.1293\n",
            "\n",
            ">>>> model is training for epoch 10 of batch 332.......\n",
            ">>>> accuracy recorded: 99.1273\n",
            "\n",
            ">>>> model is training for epoch 10 of batch 333.......\n",
            ">>>> accuracy recorded: 99.1252\n",
            "\n",
            ">>>> model is training for epoch 10 of batch 334.......\n",
            ">>>> accuracy recorded: 99.1278\n",
            "\n",
            ">>>> model is training for epoch 10 of batch 335.......\n",
            ">>>> accuracy recorded: 99.1304\n",
            "\n",
            ">>>> model is training for epoch 10 of batch 336.......\n",
            ">>>> accuracy recorded: 99.1330\n",
            "\n",
            ">>>> model is training for epoch 10 of batch 337.......\n",
            ">>>> accuracy recorded: 99.1332\n"
          ],
          "name": "stdout"
        },
        {
          "output_type": "stream",
          "text": [
            " 73%|███████▎  | 344/469 [00:08<00:03, 39.49it/s]"
          ],
          "name": "stderr"
        },
        {
          "output_type": "stream",
          "text": [
            "\n",
            ">>>> model is training for epoch 10 of batch 338.......\n",
            ">>>> accuracy recorded: 99.1358\n",
            "\n",
            ">>>> model is training for epoch 10 of batch 339.......\n",
            ">>>> accuracy recorded: 99.1360\n",
            "\n",
            ">>>> model is training for epoch 10 of batch 340.......\n",
            ">>>> accuracy recorded: 99.1363\n",
            "\n",
            ">>>> model is training for epoch 10 of batch 341.......\n",
            ">>>> accuracy recorded: 99.1320\n",
            "\n",
            ">>>> model is training for epoch 10 of batch 342.......\n",
            ">>>> accuracy recorded: 99.1299\n",
            "\n",
            ">>>> model is training for epoch 10 of batch 343.......\n",
            ">>>> accuracy recorded: 99.1324\n",
            "\n",
            ">>>> model is training for epoch 10 of batch 344.......\n",
            ">>>> accuracy recorded: 99.1327\n",
            "\n",
            ">>>> model is training for epoch 10 of batch 345.......\n",
            ">>>> accuracy recorded: 99.1352\n"
          ],
          "name": "stdout"
        },
        {
          "output_type": "stream",
          "text": [
            " 75%|███████▌  | 353/469 [00:08<00:02, 39.60it/s]"
          ],
          "name": "stderr"
        },
        {
          "output_type": "stream",
          "text": [
            "\n",
            ">>>> model is training for epoch 10 of batch 346.......\n",
            ">>>> accuracy recorded: 99.1377\n",
            "\n",
            ">>>> model is training for epoch 10 of batch 347.......\n",
            ">>>> accuracy recorded: 99.1379\n",
            "\n",
            ">>>> model is training for epoch 10 of batch 348.......\n",
            ">>>> accuracy recorded: 99.1359\n",
            "\n",
            ">>>> model is training for epoch 10 of batch 349.......\n",
            ">>>> accuracy recorded: 99.1339\n",
            "\n",
            ">>>> model is training for epoch 10 of batch 350.......\n",
            ">>>> accuracy recorded: 99.1342\n",
            "\n",
            ">>>> model is training for epoch 10 of batch 351.......\n",
            ">>>> accuracy recorded: 99.1366\n",
            "\n",
            ">>>> model is training for epoch 10 of batch 352.......\n",
            ">>>> accuracy recorded: 99.1369\n",
            "\n",
            ">>>> model is training for epoch 10 of batch 353.......\n",
            ">>>> accuracy recorded: 99.1371\n",
            "\n",
            ">>>> model is training for epoch 10 of batch 354.......\n",
            ">>>> accuracy recorded: 99.1351\n"
          ],
          "name": "stdout"
        },
        {
          "output_type": "stream",
          "text": [
            " 77%|███████▋  | 362/469 [00:09<00:02, 40.01it/s]"
          ],
          "name": "stderr"
        },
        {
          "output_type": "stream",
          "text": [
            "\n",
            ">>>> model is training for epoch 10 of batch 355.......\n",
            ">>>> accuracy recorded: 99.1376\n",
            "\n",
            ">>>> model is training for epoch 10 of batch 356.......\n",
            ">>>> accuracy recorded: 99.1400\n",
            "\n",
            ">>>> model is training for epoch 10 of batch 357.......\n",
            ">>>> accuracy recorded: 99.1358\n",
            "\n",
            ">>>> model is training for epoch 10 of batch 358.......\n",
            ">>>> accuracy recorded: 99.1339\n",
            "\n",
            ">>>> model is training for epoch 10 of batch 359.......\n",
            ">>>> accuracy recorded: 99.1320\n",
            "\n",
            ">>>> model is training for epoch 10 of batch 360.......\n",
            ">>>> accuracy recorded: 99.1322\n",
            "\n",
            ">>>> model is training for epoch 10 of batch 361.......\n",
            ">>>> accuracy recorded: 99.1324\n",
            "\n",
            ">>>> model is training for epoch 10 of batch 362.......\n",
            ">>>> accuracy recorded: 99.1327\n",
            "\n",
            ">>>> model is training for epoch 10 of batch 363.......\n",
            ">>>> accuracy recorded: 99.1308\n"
          ],
          "name": "stdout"
        },
        {
          "output_type": "stream",
          "text": [
            " 79%|███████▉  | 372/469 [00:09<00:02, 40.68it/s]"
          ],
          "name": "stderr"
        },
        {
          "output_type": "stream",
          "text": [
            "\n",
            ">>>> model is training for epoch 10 of batch 364.......\n",
            ">>>> accuracy recorded: 99.1310\n",
            "\n",
            ">>>> model is training for epoch 10 of batch 365.......\n",
            ">>>> accuracy recorded: 99.1334\n",
            "\n",
            ">>>> model is training for epoch 10 of batch 366.......\n",
            ">>>> accuracy recorded: 99.1357\n",
            "\n",
            ">>>> model is training for epoch 10 of batch 367.......\n",
            ">>>> accuracy recorded: 99.1381\n",
            "\n",
            ">>>> model is training for epoch 10 of batch 368.......\n",
            ">>>> accuracy recorded: 99.1383\n",
            "\n",
            ">>>> model is training for epoch 10 of batch 369.......\n",
            ">>>> accuracy recorded: 99.1364\n",
            "\n",
            ">>>> model is training for epoch 10 of batch 370.......\n",
            ">>>> accuracy recorded: 99.1345\n",
            "\n",
            ">>>> model is training for epoch 10 of batch 371.......\n",
            ">>>> accuracy recorded: 99.1305\n",
            "\n",
            ">>>> model is training for epoch 10 of batch 372.......\n",
            ">>>> accuracy recorded: 99.1308\n"
          ],
          "name": "stdout"
        },
        {
          "output_type": "stream",
          "text": [
            " 81%|████████▏ | 382/469 [00:09<00:02, 41.00it/s]"
          ],
          "name": "stderr"
        },
        {
          "output_type": "stream",
          "text": [
            "\n",
            ">>>> model is training for epoch 10 of batch 373.......\n",
            ">>>> accuracy recorded: 99.1289\n",
            "\n",
            ">>>> model is training for epoch 10 of batch 374.......\n",
            ">>>> accuracy recorded: 99.1292\n",
            "\n",
            ">>>> model is training for epoch 10 of batch 375.......\n",
            ">>>> accuracy recorded: 99.1294\n",
            "\n",
            ">>>> model is training for epoch 10 of batch 376.......\n",
            ">>>> accuracy recorded: 99.1317\n",
            "\n",
            ">>>> model is training for epoch 10 of batch 377.......\n",
            ">>>> accuracy recorded: 99.1319\n",
            "\n",
            ">>>> model is training for epoch 10 of batch 378.......\n",
            ">>>> accuracy recorded: 99.1342\n",
            "\n",
            ">>>> model is training for epoch 10 of batch 379.......\n",
            ">>>> accuracy recorded: 99.1324\n",
            "\n",
            ">>>> model is training for epoch 10 of batch 380.......\n",
            ">>>> accuracy recorded: 99.1285\n",
            "\n",
            ">>>> model is training for epoch 10 of batch 381.......\n",
            ">>>> accuracy recorded: 99.1308\n"
          ],
          "name": "stdout"
        },
        {
          "output_type": "stream",
          "text": [
            "\r 83%|████████▎ | 387/469 [00:09<00:02, 40.76it/s]"
          ],
          "name": "stderr"
        },
        {
          "output_type": "stream",
          "text": [
            "\n",
            ">>>> model is training for epoch 10 of batch 382.......\n",
            ">>>> accuracy recorded: 99.1331\n",
            "\n",
            ">>>> model is training for epoch 10 of batch 383.......\n",
            ">>>> accuracy recorded: 99.1292\n",
            "\n",
            ">>>> model is training for epoch 10 of batch 384.......\n",
            ">>>> accuracy recorded: 99.1315\n",
            "\n",
            ">>>> model is training for epoch 10 of batch 385.......\n",
            ">>>> accuracy recorded: 99.1337\n",
            "\n",
            ">>>> model is training for epoch 10 of batch 386.......\n",
            ">>>> accuracy recorded: 99.1360\n",
            "\n",
            ">>>> model is training for epoch 10 of batch 387.......\n",
            ">>>> accuracy recorded: 99.1382\n",
            "\n",
            ">>>> model is training for epoch 10 of batch 388.......\n",
            ">>>> accuracy recorded: 99.1404\n",
            "\n",
            ">>>> model is training for epoch 10 of batch 389.......\n",
            ">>>> accuracy recorded: 99.1426\n",
            "\n",
            ">>>> model is training for epoch 10 of batch 390.......\n",
            ">>>> accuracy recorded: 99.1408\n"
          ],
          "name": "stdout"
        },
        {
          "output_type": "stream",
          "text": [
            " 85%|████████▍ | 397/469 [00:09<00:01, 40.68it/s]"
          ],
          "name": "stderr"
        },
        {
          "output_type": "stream",
          "text": [
            "\n",
            ">>>> model is training for epoch 10 of batch 391.......\n",
            ">>>> accuracy recorded: 99.1410\n",
            "\n",
            ">>>> model is training for epoch 10 of batch 392.......\n",
            ">>>> accuracy recorded: 99.1392\n",
            "\n",
            ">>>> model is training for epoch 10 of batch 393.......\n",
            ">>>> accuracy recorded: 99.1375\n",
            "\n",
            ">>>> model is training for epoch 10 of batch 394.......\n",
            ">>>> accuracy recorded: 99.1377\n",
            "\n",
            ">>>> model is training for epoch 10 of batch 395.......\n",
            ">>>> accuracy recorded: 99.1359\n",
            "\n",
            ">>>> model is training for epoch 10 of batch 396.......\n",
            ">>>> accuracy recorded: 99.1381\n",
            "\n",
            ">>>> model is training for epoch 10 of batch 397.......\n",
            ">>>> accuracy recorded: 99.1383\n",
            "\n",
            ">>>> model is training for epoch 10 of batch 398.......\n",
            ">>>> accuracy recorded: 99.1385\n",
            "\n",
            ">>>> model is training for epoch 10 of batch 399.......\n",
            ">>>> accuracy recorded: 99.1406\n"
          ],
          "name": "stdout"
        },
        {
          "output_type": "stream",
          "text": [
            " 87%|████████▋ | 407/469 [00:10<00:01, 40.49it/s]"
          ],
          "name": "stderr"
        },
        {
          "output_type": "stream",
          "text": [
            "\n",
            ">>>> model is training for epoch 10 of batch 400.......\n",
            ">>>> accuracy recorded: 99.1428\n",
            "\n",
            ">>>> model is training for epoch 10 of batch 401.......\n",
            ">>>> accuracy recorded: 99.1391\n",
            "\n",
            ">>>> model is training for epoch 10 of batch 402.......\n",
            ">>>> accuracy recorded: 99.1412\n",
            "\n",
            ">>>> model is training for epoch 10 of batch 403.......\n",
            ">>>> accuracy recorded: 99.1433\n",
            "\n",
            ">>>> model is training for epoch 10 of batch 404.......\n",
            ">>>> accuracy recorded: 99.1435\n",
            "\n",
            ">>>> model is training for epoch 10 of batch 405.......\n",
            ">>>> accuracy recorded: 99.1437\n",
            "\n",
            ">>>> model is training for epoch 10 of batch 406.......\n",
            ">>>> accuracy recorded: 99.1458\n",
            "\n",
            ">>>> model is training for epoch 10 of batch 407.......\n",
            ">>>> accuracy recorded: 99.1460\n",
            "\n",
            ">>>> model is training for epoch 10 of batch 408.......\n",
            ">>>> accuracy recorded: 99.1481\n"
          ],
          "name": "stdout"
        },
        {
          "output_type": "stream",
          "text": [
            " 89%|████████▉ | 417/469 [00:10<00:01, 40.03it/s]"
          ],
          "name": "stderr"
        },
        {
          "output_type": "stream",
          "text": [
            "\n",
            ">>>> model is training for epoch 10 of batch 409.......\n",
            ">>>> accuracy recorded: 99.1482\n",
            "\n",
            ">>>> model is training for epoch 10 of batch 410.......\n",
            ">>>> accuracy recorded: 99.1484\n",
            "\n",
            ">>>> model is training for epoch 10 of batch 411.......\n",
            ">>>> accuracy recorded: 99.1486\n",
            "\n",
            ">>>> model is training for epoch 10 of batch 412.......\n",
            ">>>> accuracy recorded: 99.1488\n",
            "\n",
            ">>>> model is training for epoch 10 of batch 413.......\n",
            ">>>> accuracy recorded: 99.1489\n",
            "\n",
            ">>>> model is training for epoch 10 of batch 414.......\n",
            ">>>> accuracy recorded: 99.1491\n",
            "\n",
            ">>>> model is training for epoch 10 of batch 415.......\n",
            ">>>> accuracy recorded: 99.1474\n",
            "\n",
            ">>>> model is training for epoch 10 of batch 416.......\n",
            ">>>> accuracy recorded: 99.1476\n"
          ],
          "name": "stdout"
        },
        {
          "output_type": "stream",
          "text": [
            "\r 90%|████████▉ | 422/469 [00:10<00:01, 40.32it/s]"
          ],
          "name": "stderr"
        },
        {
          "output_type": "stream",
          "text": [
            "\n",
            ">>>> model is training for epoch 10 of batch 417.......\n",
            ">>>> accuracy recorded: 99.1459\n",
            "\n",
            ">>>> model is training for epoch 10 of batch 418.......\n",
            ">>>> accuracy recorded: 99.1460\n",
            "\n",
            ">>>> model is training for epoch 10 of batch 419.......\n",
            ">>>> accuracy recorded: 99.1481\n",
            "\n",
            ">>>> model is training for epoch 10 of batch 420.......\n",
            ">>>> accuracy recorded: 99.1501\n",
            "\n",
            ">>>> model is training for epoch 10 of batch 421.......\n",
            ">>>> accuracy recorded: 99.1484\n",
            "\n",
            ">>>> model is training for epoch 10 of batch 422.......\n",
            ">>>> accuracy recorded: 99.1486\n",
            "\n",
            ">>>> model is training for epoch 10 of batch 423.......\n",
            ">>>> accuracy recorded: 99.1506\n",
            "\n",
            ">>>> model is training for epoch 10 of batch 424.......\n",
            ">>>> accuracy recorded: 99.1507\n",
            "\n",
            ">>>> model is training for epoch 10 of batch 425.......\n",
            ">>>> accuracy recorded: 99.1509\n"
          ],
          "name": "stdout"
        },
        {
          "output_type": "stream",
          "text": [
            " 92%|█████████▏| 432/469 [00:10<00:00, 40.09it/s]"
          ],
          "name": "stderr"
        },
        {
          "output_type": "stream",
          "text": [
            "\n",
            ">>>> model is training for epoch 10 of batch 426.......\n",
            ">>>> accuracy recorded: 99.1529\n",
            "\n",
            ">>>> model is training for epoch 10 of batch 427.......\n",
            ">>>> accuracy recorded: 99.1549\n",
            "\n",
            ">>>> model is training for epoch 10 of batch 428.......\n",
            ">>>> accuracy recorded: 99.1532\n",
            "\n",
            ">>>> model is training for epoch 10 of batch 429.......\n",
            ">>>> accuracy recorded: 99.1533\n",
            "\n",
            ">>>> model is training for epoch 10 of batch 430.......\n",
            ">>>> accuracy recorded: 99.1535\n",
            "\n",
            ">>>> model is training for epoch 10 of batch 431.......\n",
            ">>>> accuracy recorded: 99.1536\n",
            "\n",
            ">>>> model is training for epoch 10 of batch 432.......\n",
            ">>>> accuracy recorded: 99.1556\n",
            "\n",
            ">>>> model is training for epoch 10 of batch 433.......\n",
            ">>>> accuracy recorded: 99.1575\n"
          ],
          "name": "stdout"
        },
        {
          "output_type": "stream",
          "text": [
            " 94%|█████████▍| 441/469 [00:11<00:00, 39.45it/s]"
          ],
          "name": "stderr"
        },
        {
          "output_type": "stream",
          "text": [
            "\n",
            ">>>> model is training for epoch 10 of batch 434.......\n",
            ">>>> accuracy recorded: 99.1595\n",
            "\n",
            ">>>> model is training for epoch 10 of batch 435.......\n",
            ">>>> accuracy recorded: 99.1578\n",
            "\n",
            ">>>> model is training for epoch 10 of batch 436.......\n",
            ">>>> accuracy recorded: 99.1597\n",
            "\n",
            ">>>> model is training for epoch 10 of batch 437.......\n",
            ">>>> accuracy recorded: 99.1599\n",
            "\n",
            ">>>> model is training for epoch 10 of batch 438.......\n",
            ">>>> accuracy recorded: 99.1582\n",
            "\n",
            ">>>> model is training for epoch 10 of batch 439.......\n",
            ">>>> accuracy recorded: 99.1566\n",
            "\n",
            ">>>> model is training for epoch 10 of batch 440.......\n",
            ">>>> accuracy recorded: 99.1585\n",
            "\n",
            ">>>> model is training for epoch 10 of batch 441.......\n",
            ">>>> accuracy recorded: 99.1604\n"
          ],
          "name": "stdout"
        },
        {
          "output_type": "stream",
          "text": [
            " 96%|█████████▌| 449/469 [00:11<00:00, 39.21it/s]"
          ],
          "name": "stderr"
        },
        {
          "output_type": "stream",
          "text": [
            "\n",
            ">>>> model is training for epoch 10 of batch 442.......\n",
            ">>>> accuracy recorded: 99.1623\n",
            "\n",
            ">>>> model is training for epoch 10 of batch 443.......\n",
            ">>>> accuracy recorded: 99.1624\n",
            "\n",
            ">>>> model is training for epoch 10 of batch 444.......\n",
            ">>>> accuracy recorded: 99.1643\n",
            "\n",
            ">>>> model is training for epoch 10 of batch 445.......\n",
            ">>>> accuracy recorded: 99.1645\n",
            "\n",
            ">>>> model is training for epoch 10 of batch 446.......\n",
            ">>>> accuracy recorded: 99.1663\n",
            "\n",
            ">>>> model is training for epoch 10 of batch 447.......\n",
            ">>>> accuracy recorded: 99.1595\n",
            "\n",
            ">>>> model is training for epoch 10 of batch 448.......\n",
            ">>>> accuracy recorded: 99.1613\n",
            "\n",
            ">>>> model is training for epoch 10 of batch 449.......\n",
            ">>>> accuracy recorded: 99.1580\n"
          ],
          "name": "stdout"
        },
        {
          "output_type": "stream",
          "text": [
            " 97%|█████████▋| 457/469 [00:11<00:00, 39.11it/s]"
          ],
          "name": "stderr"
        },
        {
          "output_type": "stream",
          "text": [
            "\n",
            ">>>> model is training for epoch 10 of batch 450.......\n",
            ">>>> accuracy recorded: 99.1581\n",
            "\n",
            ">>>> model is training for epoch 10 of batch 451.......\n",
            ">>>> accuracy recorded: 99.1583\n",
            "\n",
            ">>>> model is training for epoch 10 of batch 452.......\n",
            ">>>> accuracy recorded: 99.1532\n",
            "\n",
            ">>>> model is training for epoch 10 of batch 453.......\n",
            ">>>> accuracy recorded: 99.1551\n",
            "\n",
            ">>>> model is training for epoch 10 of batch 454.......\n",
            ">>>> accuracy recorded: 99.1552\n",
            "\n",
            ">>>> model is training for epoch 10 of batch 455.......\n",
            ">>>> accuracy recorded: 99.1536\n",
            "\n",
            ">>>> model is training for epoch 10 of batch 456.......\n",
            ">>>> accuracy recorded: 99.1538\n",
            "\n",
            ">>>> model is training for epoch 10 of batch 457.......\n",
            ">>>> accuracy recorded: 99.1522\n"
          ],
          "name": "stdout"
        },
        {
          "output_type": "stream",
          "text": [
            " 99%|█████████▉| 465/469 [00:11<00:00, 39.34it/s]"
          ],
          "name": "stderr"
        },
        {
          "output_type": "stream",
          "text": [
            "\n",
            ">>>> model is training for epoch 10 of batch 458.......\n",
            ">>>> accuracy recorded: 99.1473\n",
            "\n",
            ">>>> model is training for epoch 10 of batch 459.......\n",
            ">>>> accuracy recorded: 99.1474\n",
            "\n",
            ">>>> model is training for epoch 10 of batch 460.......\n",
            ">>>> accuracy recorded: 99.1459\n",
            "\n",
            ">>>> model is training for epoch 10 of batch 461.......\n",
            ">>>> accuracy recorded: 99.1460\n",
            "\n",
            ">>>> model is training for epoch 10 of batch 462.......\n",
            ">>>> accuracy recorded: 99.1445\n",
            "\n",
            ">>>> model is training for epoch 10 of batch 463.......\n",
            ">>>> accuracy recorded: 99.1463\n",
            "\n",
            ">>>> model is training for epoch 10 of batch 464.......\n",
            ">>>> accuracy recorded: 99.1465\n",
            "\n",
            ">>>> model is training for epoch 10 of batch 465.......\n",
            ">>>> accuracy recorded: 99.1483\n"
          ],
          "name": "stdout"
        },
        {
          "output_type": "stream",
          "text": [
            "100%|██████████| 469/469 [00:11<00:00, 39.91it/s]\n",
            "  6%|▋         | 5/79 [00:00<00:01, 44.36it/s]"
          ],
          "name": "stderr"
        },
        {
          "output_type": "stream",
          "text": [
            "\n",
            ">>>> model is training for epoch 10 of batch 466.......\n",
            ">>>> accuracy recorded: 99.1485\n",
            "\n",
            ">>>> model is training for epoch 10 of batch 467.......\n",
            ">>>> accuracy recorded: 99.1503\n",
            "\n",
            ">>>> model is training for epoch 10 of batch 468.......\n",
            ">>>> accuracy recorded: 99.1517\n",
            ">>>> Running with the training data: None\n",
            "\n",
            ">>>> checking the performance on the validation dataset/n>>>> please wait..........\n",
            "\n",
            ">>>> model is training for epoch 10 of batch 0.......\n",
            ">>>> accuracy recorded: 98.4375\n",
            "\n",
            ">>>> model is training for epoch 10 of batch 1.......\n",
            ">>>> accuracy recorded: 98.0469\n",
            "\n",
            ">>>> model is training for epoch 10 of batch 2.......\n",
            ">>>> accuracy recorded: 98.6979\n",
            "\n",
            ">>>> model is training for epoch 10 of batch 3.......\n",
            ">>>> accuracy recorded: 98.4375\n",
            "\n",
            ">>>> model is training for epoch 10 of batch 4.......\n",
            ">>>> accuracy recorded: 98.5938\n"
          ],
          "name": "stdout"
        },
        {
          "output_type": "stream",
          "text": [
            " 16%|█▋        | 13/79 [00:00<00:01, 40.32it/s]"
          ],
          "name": "stderr"
        },
        {
          "output_type": "stream",
          "text": [
            "\n",
            ">>>> model is training for epoch 10 of batch 5.......\n",
            ">>>> accuracy recorded: 98.1771\n",
            "\n",
            ">>>> model is training for epoch 10 of batch 6.......\n",
            ">>>> accuracy recorded: 98.4375\n",
            "\n",
            ">>>> model is training for epoch 10 of batch 7.......\n",
            ">>>> accuracy recorded: 98.3398\n",
            "\n",
            ">>>> model is training for epoch 10 of batch 8.......\n",
            ">>>> accuracy recorded: 98.5243\n",
            "\n",
            ">>>> model is training for epoch 10 of batch 9.......\n",
            ">>>> accuracy recorded: 98.2812\n",
            "\n",
            ">>>> model is training for epoch 10 of batch 10.......\n",
            ">>>> accuracy recorded: 98.0824\n",
            "\n",
            ">>>> model is training for epoch 10 of batch 11.......\n",
            ">>>> accuracy recorded: 98.1120\n",
            "\n",
            ">>>> model is training for epoch 10 of batch 12.......\n",
            ">>>> accuracy recorded: 98.1370\n"
          ],
          "name": "stdout"
        },
        {
          "output_type": "stream",
          "text": [
            " 27%|██▋       | 21/79 [00:00<00:01, 39.89it/s]"
          ],
          "name": "stderr"
        },
        {
          "output_type": "stream",
          "text": [
            "\n",
            ">>>> model is training for epoch 10 of batch 13.......\n",
            ">>>> accuracy recorded: 98.0469\n",
            "\n",
            ">>>> model is training for epoch 10 of batch 14.......\n",
            ">>>> accuracy recorded: 98.0208\n",
            "\n",
            ">>>> model is training for epoch 10 of batch 15.......\n",
            ">>>> accuracy recorded: 98.0469\n",
            "\n",
            ">>>> model is training for epoch 10 of batch 16.......\n",
            ">>>> accuracy recorded: 97.9779\n",
            "\n",
            ">>>> model is training for epoch 10 of batch 17.......\n",
            ">>>> accuracy recorded: 98.0469\n",
            "\n",
            ">>>> model is training for epoch 10 of batch 18.......\n",
            ">>>> accuracy recorded: 98.1086\n",
            "\n",
            ">>>> model is training for epoch 10 of batch 19.......\n",
            ">>>> accuracy recorded: 98.1250\n",
            "\n",
            ">>>> model is training for epoch 10 of batch 20.......\n",
            ">>>> accuracy recorded: 97.9911\n"
          ],
          "name": "stdout"
        },
        {
          "output_type": "stream",
          "text": [
            " 38%|███▊      | 30/79 [00:00<00:01, 39.90it/s]"
          ],
          "name": "stderr"
        },
        {
          "output_type": "stream",
          "text": [
            "\n",
            ">>>> model is training for epoch 10 of batch 21.......\n",
            ">>>> accuracy recorded: 98.0824\n",
            "\n",
            ">>>> model is training for epoch 10 of batch 22.......\n",
            ">>>> accuracy recorded: 98.0639\n",
            "\n",
            ">>>> model is training for epoch 10 of batch 23.......\n",
            ">>>> accuracy recorded: 98.0469\n",
            "\n",
            ">>>> model is training for epoch 10 of batch 24.......\n",
            ">>>> accuracy recorded: 98.0938\n",
            "\n",
            ">>>> model is training for epoch 10 of batch 25.......\n",
            ">>>> accuracy recorded: 98.1370\n",
            "\n",
            ">>>> model is training for epoch 10 of batch 26.......\n",
            ">>>> accuracy recorded: 98.1771\n",
            "\n",
            ">>>> model is training for epoch 10 of batch 27.......\n",
            ">>>> accuracy recorded: 98.1864\n",
            "\n",
            ">>>> model is training for epoch 10 of batch 28.......\n",
            ">>>> accuracy recorded: 98.1950\n",
            "\n",
            ">>>> model is training for epoch 10 of batch 29.......\n",
            ">>>> accuracy recorded: 98.0729\n"
          ],
          "name": "stdout"
        },
        {
          "output_type": "stream",
          "text": [
            " 48%|████▊     | 38/79 [00:00<00:01, 39.80it/s]"
          ],
          "name": "stderr"
        },
        {
          "output_type": "stream",
          "text": [
            "\n",
            ">>>> model is training for epoch 10 of batch 30.......\n",
            ">>>> accuracy recorded: 98.0847\n",
            "\n",
            ">>>> model is training for epoch 10 of batch 31.......\n",
            ">>>> accuracy recorded: 98.0225\n",
            "\n",
            ">>>> model is training for epoch 10 of batch 32.......\n",
            ">>>> accuracy recorded: 98.0350\n",
            "\n",
            ">>>> model is training for epoch 10 of batch 33.......\n",
            ">>>> accuracy recorded: 98.0928\n",
            "\n",
            ">>>> model is training for epoch 10 of batch 34.......\n",
            ">>>> accuracy recorded: 98.1250\n",
            "\n",
            ">>>> model is training for epoch 10 of batch 35.......\n",
            ">>>> accuracy recorded: 98.1337\n",
            "\n",
            ">>>> model is training for epoch 10 of batch 36.......\n",
            ">>>> accuracy recorded: 98.1419\n",
            "\n",
            ">>>> model is training for epoch 10 of batch 37.......\n",
            ">>>> accuracy recorded: 98.1497\n",
            "\n",
            ">>>> model is training for epoch 10 of batch 38.......\n",
            ">>>> accuracy recorded: 98.1771\n"
          ],
          "name": "stdout"
        },
        {
          "output_type": "stream",
          "text": [
            " 58%|█████▊    | 46/79 [00:01<00:00, 39.56it/s]"
          ],
          "name": "stderr"
        },
        {
          "output_type": "stream",
          "text": [
            "\n",
            ">>>> model is training for epoch 10 of batch 39.......\n",
            ">>>> accuracy recorded: 98.2227\n",
            "\n",
            ">>>> model is training for epoch 10 of batch 40.......\n",
            ">>>> accuracy recorded: 98.2660\n",
            "\n",
            ">>>> model is training for epoch 10 of batch 41.......\n",
            ">>>> accuracy recorded: 98.2887\n",
            "\n",
            ">>>> model is training for epoch 10 of batch 42.......\n",
            ">>>> accuracy recorded: 98.3285\n",
            "\n",
            ">>>> model is training for epoch 10 of batch 43.......\n",
            ">>>> accuracy recorded: 98.3665\n",
            "\n",
            ">>>> model is training for epoch 10 of batch 44.......\n",
            ">>>> accuracy recorded: 98.3681\n",
            "\n",
            ">>>> model is training for epoch 10 of batch 45.......\n",
            ">>>> accuracy recorded: 98.4035\n",
            "\n",
            ">>>> model is training for epoch 10 of batch 46.......\n",
            ">>>> accuracy recorded: 98.3876\n"
          ],
          "name": "stdout"
        },
        {
          "output_type": "stream",
          "text": [
            " 70%|██████▉   | 55/79 [00:01<00:00, 39.58it/s]"
          ],
          "name": "stderr"
        },
        {
          "output_type": "stream",
          "text": [
            "\n",
            ">>>> model is training for epoch 10 of batch 47.......\n",
            ">>>> accuracy recorded: 98.3724\n",
            "\n",
            ">>>> model is training for epoch 10 of batch 48.......\n",
            ">>>> accuracy recorded: 98.3418\n",
            "\n",
            ">>>> model is training for epoch 10 of batch 49.......\n",
            ">>>> accuracy recorded: 98.3750\n",
            "\n",
            ">>>> model is training for epoch 10 of batch 50.......\n",
            ">>>> accuracy recorded: 98.4069\n",
            "\n",
            ">>>> model is training for epoch 10 of batch 51.......\n",
            ">>>> accuracy recorded: 98.3474\n",
            "\n",
            ">>>> model is training for epoch 10 of batch 52.......\n",
            ">>>> accuracy recorded: 98.3785\n",
            "\n",
            ">>>> model is training for epoch 10 of batch 53.......\n",
            ">>>> accuracy recorded: 98.4086\n",
            "\n",
            ">>>> model is training for epoch 10 of batch 54.......\n",
            ">>>> accuracy recorded: 98.4375\n",
            "\n",
            ">>>> model is training for epoch 10 of batch 55.......\n",
            ">>>> accuracy recorded: 98.4654\n"
          ],
          "name": "stdout"
        },
        {
          "output_type": "stream",
          "text": [
            " 82%|████████▏ | 65/79 [00:01<00:00, 40.54it/s]"
          ],
          "name": "stderr"
        },
        {
          "output_type": "stream",
          "text": [
            "\n",
            ">>>> model is training for epoch 10 of batch 56.......\n",
            ">>>> accuracy recorded: 98.4923\n",
            "\n",
            ">>>> model is training for epoch 10 of batch 57.......\n",
            ">>>> accuracy recorded: 98.5183\n",
            "\n",
            ">>>> model is training for epoch 10 of batch 58.......\n",
            ">>>> accuracy recorded: 98.5302\n",
            "\n",
            ">>>> model is training for epoch 10 of batch 59.......\n",
            ">>>> accuracy recorded: 98.5547\n",
            "\n",
            ">>>> model is training for epoch 10 of batch 60.......\n",
            ">>>> accuracy recorded: 98.5784\n",
            "\n",
            ">>>> model is training for epoch 10 of batch 61.......\n",
            ">>>> accuracy recorded: 98.5887\n",
            "\n",
            ">>>> model is training for epoch 10 of batch 62.......\n",
            ">>>> accuracy recorded: 98.6111\n",
            "\n",
            ">>>> model is training for epoch 10 of batch 63.......\n",
            ">>>> accuracy recorded: 98.6084\n",
            "\n",
            ">>>> model is training for epoch 10 of batch 64.......\n",
            ">>>> accuracy recorded: 98.6058\n"
          ],
          "name": "stdout"
        },
        {
          "output_type": "stream",
          "text": [
            "\r 89%|████████▊ | 70/79 [00:01<00:00, 40.68it/s]"
          ],
          "name": "stderr"
        },
        {
          "output_type": "stream",
          "text": [
            "\n",
            ">>>> model is training for epoch 10 of batch 65.......\n",
            ">>>> accuracy recorded: 98.6151\n",
            "\n",
            ">>>> model is training for epoch 10 of batch 66.......\n",
            ">>>> accuracy recorded: 98.6357\n",
            "\n",
            ">>>> model is training for epoch 10 of batch 67.......\n",
            ">>>> accuracy recorded: 98.6558\n",
            "\n",
            ">>>> model is training for epoch 10 of batch 68.......\n",
            ">>>> accuracy recorded: 98.6753\n",
            "\n",
            ">>>> model is training for epoch 10 of batch 69.......\n",
            ">>>> accuracy recorded: 98.6830\n",
            "\n",
            ">>>> model is training for epoch 10 of batch 70.......\n",
            ">>>> accuracy recorded: 98.6576\n",
            "\n",
            ">>>> model is training for epoch 10 of batch 71.......\n",
            ">>>> accuracy recorded: 98.6654\n",
            "\n",
            ">>>> model is training for epoch 10 of batch 72.......\n",
            ">>>> accuracy recorded: 98.6836\n",
            "\n",
            ">>>> model is training for epoch 10 of batch 73.......\n",
            ">>>> accuracy recorded: 98.7014\n"
          ],
          "name": "stdout"
        },
        {
          "output_type": "stream",
          "text": [
            "100%|██████████| 79/79 [00:01<00:00, 40.33it/s]"
          ],
          "name": "stderr"
        },
        {
          "output_type": "stream",
          "text": [
            "\n",
            ">>>> model is training for epoch 10 of batch 74.......\n",
            ">>>> accuracy recorded: 98.6979\n",
            "\n",
            ">>>> model is training for epoch 10 of batch 75.......\n",
            ">>>> accuracy recorded: 98.7048\n",
            "\n",
            ">>>> model is training for epoch 10 of batch 76.......\n",
            ">>>> accuracy recorded: 98.6810\n",
            "\n",
            ">>>> model is training for epoch 10 of batch 77.......\n",
            ">>>> accuracy recorded: 98.6979\n",
            "\n",
            ">>>> model is training for epoch 10 of batch 78.......\n",
            ">>>> accuracy recorded: 98.7000\n",
            "\n",
            ">>>> Runnng with the validation data: None\n",
            "\n",
            "time elapsed: hrs: 0 min: 04 sec: 57.00\n"
          ],
          "name": "stdout"
        },
        {
          "output_type": "stream",
          "text": [
            "\n"
          ],
          "name": "stderr"
        }
      ]
    },
    {
      "cell_type": "code",
      "metadata": {
        "id": "fIUfPKV6SH18"
      },
      "source": [
        ""
      ],
      "execution_count": 10,
      "outputs": []
    }
  ]
}