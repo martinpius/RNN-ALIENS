{
  "nbformat": 4,
  "nbformat_minor": 0,
  "metadata": {
    "colab": {
      "name": "RNN from Scratch in Pytorch",
      "provenance": [],
      "authorship_tag": "ABX9TyNzPQi0sb36pyFqSxwIh1w4",
      "include_colab_link": true
    },
    "kernelspec": {
      "name": "python3",
      "display_name": "Python 3"
    },
    "language_info": {
      "name": "python"
    },
    "accelerator": "GPU",
    "widgets": {
      "application/vnd.jupyter.widget-state+json": {
        "c710ad5eb89b42d5888ea7ee245b98be": {
          "model_module": "@jupyter-widgets/controls",
          "model_name": "HBoxModel",
          "state": {
            "_view_name": "HBoxView",
            "_dom_classes": [],
            "_model_name": "HBoxModel",
            "_view_module": "@jupyter-widgets/controls",
            "_model_module_version": "1.5.0",
            "_view_count": null,
            "_view_module_version": "1.5.0",
            "box_style": "",
            "layout": "IPY_MODEL_00ee9c7ccf34413fb432b12c6c7bdfdc",
            "_model_module": "@jupyter-widgets/controls",
            "children": [
              "IPY_MODEL_6641750baeb543e58a97be04771b6f74",
              "IPY_MODEL_3217167df7924cb2af2530604d6373b7"
            ]
          }
        },
        "00ee9c7ccf34413fb432b12c6c7bdfdc": {
          "model_module": "@jupyter-widgets/base",
          "model_name": "LayoutModel",
          "state": {
            "_view_name": "LayoutView",
            "grid_template_rows": null,
            "right": null,
            "justify_content": null,
            "_view_module": "@jupyter-widgets/base",
            "overflow": null,
            "_model_module_version": "1.2.0",
            "_view_count": null,
            "flex_flow": null,
            "width": null,
            "min_width": null,
            "border": null,
            "align_items": null,
            "bottom": null,
            "_model_module": "@jupyter-widgets/base",
            "top": null,
            "grid_column": null,
            "overflow_y": null,
            "overflow_x": null,
            "grid_auto_flow": null,
            "grid_area": null,
            "grid_template_columns": null,
            "flex": null,
            "_model_name": "LayoutModel",
            "justify_items": null,
            "grid_row": null,
            "max_height": null,
            "align_content": null,
            "visibility": null,
            "align_self": null,
            "height": null,
            "min_height": null,
            "padding": null,
            "grid_auto_rows": null,
            "grid_gap": null,
            "max_width": null,
            "order": null,
            "_view_module_version": "1.2.0",
            "grid_template_areas": null,
            "object_position": null,
            "object_fit": null,
            "grid_auto_columns": null,
            "margin": null,
            "display": null,
            "left": null
          }
        },
        "6641750baeb543e58a97be04771b6f74": {
          "model_module": "@jupyter-widgets/controls",
          "model_name": "FloatProgressModel",
          "state": {
            "_view_name": "ProgressView",
            "style": "IPY_MODEL_6b8aab5fca5e431c99f1a48e6341bc00",
            "_dom_classes": [],
            "description": "",
            "_model_name": "FloatProgressModel",
            "bar_style": "success",
            "max": 9912422,
            "_view_module": "@jupyter-widgets/controls",
            "_model_module_version": "1.5.0",
            "value": 9912422,
            "_view_count": null,
            "_view_module_version": "1.5.0",
            "orientation": "horizontal",
            "min": 0,
            "description_tooltip": null,
            "_model_module": "@jupyter-widgets/controls",
            "layout": "IPY_MODEL_22deb7563fd94bfe8f84cd498169eaeb"
          }
        },
        "3217167df7924cb2af2530604d6373b7": {
          "model_module": "@jupyter-widgets/controls",
          "model_name": "HTMLModel",
          "state": {
            "_view_name": "HTMLView",
            "style": "IPY_MODEL_4731781b6acd46c59eff27737d7b5ed3",
            "_dom_classes": [],
            "description": "",
            "_model_name": "HTMLModel",
            "placeholder": "​",
            "_view_module": "@jupyter-widgets/controls",
            "_model_module_version": "1.5.0",
            "value": " 9913344/? [11:51&lt;00:00, 13932.47it/s]",
            "_view_count": null,
            "_view_module_version": "1.5.0",
            "description_tooltip": null,
            "_model_module": "@jupyter-widgets/controls",
            "layout": "IPY_MODEL_fb20e5c596af4438ba4921b7ef7b7cea"
          }
        },
        "6b8aab5fca5e431c99f1a48e6341bc00": {
          "model_module": "@jupyter-widgets/controls",
          "model_name": "ProgressStyleModel",
          "state": {
            "_view_name": "StyleView",
            "_model_name": "ProgressStyleModel",
            "description_width": "initial",
            "_view_module": "@jupyter-widgets/base",
            "_model_module_version": "1.5.0",
            "_view_count": null,
            "_view_module_version": "1.2.0",
            "bar_color": null,
            "_model_module": "@jupyter-widgets/controls"
          }
        },
        "22deb7563fd94bfe8f84cd498169eaeb": {
          "model_module": "@jupyter-widgets/base",
          "model_name": "LayoutModel",
          "state": {
            "_view_name": "LayoutView",
            "grid_template_rows": null,
            "right": null,
            "justify_content": null,
            "_view_module": "@jupyter-widgets/base",
            "overflow": null,
            "_model_module_version": "1.2.0",
            "_view_count": null,
            "flex_flow": null,
            "width": null,
            "min_width": null,
            "border": null,
            "align_items": null,
            "bottom": null,
            "_model_module": "@jupyter-widgets/base",
            "top": null,
            "grid_column": null,
            "overflow_y": null,
            "overflow_x": null,
            "grid_auto_flow": null,
            "grid_area": null,
            "grid_template_columns": null,
            "flex": null,
            "_model_name": "LayoutModel",
            "justify_items": null,
            "grid_row": null,
            "max_height": null,
            "align_content": null,
            "visibility": null,
            "align_self": null,
            "height": null,
            "min_height": null,
            "padding": null,
            "grid_auto_rows": null,
            "grid_gap": null,
            "max_width": null,
            "order": null,
            "_view_module_version": "1.2.0",
            "grid_template_areas": null,
            "object_position": null,
            "object_fit": null,
            "grid_auto_columns": null,
            "margin": null,
            "display": null,
            "left": null
          }
        },
        "4731781b6acd46c59eff27737d7b5ed3": {
          "model_module": "@jupyter-widgets/controls",
          "model_name": "DescriptionStyleModel",
          "state": {
            "_view_name": "StyleView",
            "_model_name": "DescriptionStyleModel",
            "description_width": "",
            "_view_module": "@jupyter-widgets/base",
            "_model_module_version": "1.5.0",
            "_view_count": null,
            "_view_module_version": "1.2.0",
            "_model_module": "@jupyter-widgets/controls"
          }
        },
        "fb20e5c596af4438ba4921b7ef7b7cea": {
          "model_module": "@jupyter-widgets/base",
          "model_name": "LayoutModel",
          "state": {
            "_view_name": "LayoutView",
            "grid_template_rows": null,
            "right": null,
            "justify_content": null,
            "_view_module": "@jupyter-widgets/base",
            "overflow": null,
            "_model_module_version": "1.2.0",
            "_view_count": null,
            "flex_flow": null,
            "width": null,
            "min_width": null,
            "border": null,
            "align_items": null,
            "bottom": null,
            "_model_module": "@jupyter-widgets/base",
            "top": null,
            "grid_column": null,
            "overflow_y": null,
            "overflow_x": null,
            "grid_auto_flow": null,
            "grid_area": null,
            "grid_template_columns": null,
            "flex": null,
            "_model_name": "LayoutModel",
            "justify_items": null,
            "grid_row": null,
            "max_height": null,
            "align_content": null,
            "visibility": null,
            "align_self": null,
            "height": null,
            "min_height": null,
            "padding": null,
            "grid_auto_rows": null,
            "grid_gap": null,
            "max_width": null,
            "order": null,
            "_view_module_version": "1.2.0",
            "grid_template_areas": null,
            "object_position": null,
            "object_fit": null,
            "grid_auto_columns": null,
            "margin": null,
            "display": null,
            "left": null
          }
        },
        "24a726136c2a49339f1f9e3d4c408e09": {
          "model_module": "@jupyter-widgets/controls",
          "model_name": "HBoxModel",
          "state": {
            "_view_name": "HBoxView",
            "_dom_classes": [],
            "_model_name": "HBoxModel",
            "_view_module": "@jupyter-widgets/controls",
            "_model_module_version": "1.5.0",
            "_view_count": null,
            "_view_module_version": "1.5.0",
            "box_style": "",
            "layout": "IPY_MODEL_b255df0d145740d29fb149bfd8a38376",
            "_model_module": "@jupyter-widgets/controls",
            "children": [
              "IPY_MODEL_21e3202e023c479583c77e4cafae149b",
              "IPY_MODEL_61bdb9ef3fd146fdbf6095d38b375701"
            ]
          }
        },
        "b255df0d145740d29fb149bfd8a38376": {
          "model_module": "@jupyter-widgets/base",
          "model_name": "LayoutModel",
          "state": {
            "_view_name": "LayoutView",
            "grid_template_rows": null,
            "right": null,
            "justify_content": null,
            "_view_module": "@jupyter-widgets/base",
            "overflow": null,
            "_model_module_version": "1.2.0",
            "_view_count": null,
            "flex_flow": null,
            "width": null,
            "min_width": null,
            "border": null,
            "align_items": null,
            "bottom": null,
            "_model_module": "@jupyter-widgets/base",
            "top": null,
            "grid_column": null,
            "overflow_y": null,
            "overflow_x": null,
            "grid_auto_flow": null,
            "grid_area": null,
            "grid_template_columns": null,
            "flex": null,
            "_model_name": "LayoutModel",
            "justify_items": null,
            "grid_row": null,
            "max_height": null,
            "align_content": null,
            "visibility": null,
            "align_self": null,
            "height": null,
            "min_height": null,
            "padding": null,
            "grid_auto_rows": null,
            "grid_gap": null,
            "max_width": null,
            "order": null,
            "_view_module_version": "1.2.0",
            "grid_template_areas": null,
            "object_position": null,
            "object_fit": null,
            "grid_auto_columns": null,
            "margin": null,
            "display": null,
            "left": null
          }
        },
        "21e3202e023c479583c77e4cafae149b": {
          "model_module": "@jupyter-widgets/controls",
          "model_name": "FloatProgressModel",
          "state": {
            "_view_name": "ProgressView",
            "style": "IPY_MODEL_51f960763a1046f2950f71715120ef10",
            "_dom_classes": [],
            "description": "",
            "_model_name": "FloatProgressModel",
            "bar_style": "success",
            "max": 28881,
            "_view_module": "@jupyter-widgets/controls",
            "_model_module_version": "1.5.0",
            "value": 28881,
            "_view_count": null,
            "_view_module_version": "1.5.0",
            "orientation": "horizontal",
            "min": 0,
            "description_tooltip": null,
            "_model_module": "@jupyter-widgets/controls",
            "layout": "IPY_MODEL_7bc0aa78c8834407a4866180f64129d4"
          }
        },
        "61bdb9ef3fd146fdbf6095d38b375701": {
          "model_module": "@jupyter-widgets/controls",
          "model_name": "HTMLModel",
          "state": {
            "_view_name": "HTMLView",
            "style": "IPY_MODEL_acbf3c90dca14c588fc0e55457bcfc65",
            "_dom_classes": [],
            "description": "",
            "_model_name": "HTMLModel",
            "placeholder": "​",
            "_view_module": "@jupyter-widgets/controls",
            "_model_module_version": "1.5.0",
            "value": " 29696/? [07:19&lt;00:00, 67.60it/s]",
            "_view_count": null,
            "_view_module_version": "1.5.0",
            "description_tooltip": null,
            "_model_module": "@jupyter-widgets/controls",
            "layout": "IPY_MODEL_e7114a22085a49e0a37307876aac4aad"
          }
        },
        "51f960763a1046f2950f71715120ef10": {
          "model_module": "@jupyter-widgets/controls",
          "model_name": "ProgressStyleModel",
          "state": {
            "_view_name": "StyleView",
            "_model_name": "ProgressStyleModel",
            "description_width": "initial",
            "_view_module": "@jupyter-widgets/base",
            "_model_module_version": "1.5.0",
            "_view_count": null,
            "_view_module_version": "1.2.0",
            "bar_color": null,
            "_model_module": "@jupyter-widgets/controls"
          }
        },
        "7bc0aa78c8834407a4866180f64129d4": {
          "model_module": "@jupyter-widgets/base",
          "model_name": "LayoutModel",
          "state": {
            "_view_name": "LayoutView",
            "grid_template_rows": null,
            "right": null,
            "justify_content": null,
            "_view_module": "@jupyter-widgets/base",
            "overflow": null,
            "_model_module_version": "1.2.0",
            "_view_count": null,
            "flex_flow": null,
            "width": null,
            "min_width": null,
            "border": null,
            "align_items": null,
            "bottom": null,
            "_model_module": "@jupyter-widgets/base",
            "top": null,
            "grid_column": null,
            "overflow_y": null,
            "overflow_x": null,
            "grid_auto_flow": null,
            "grid_area": null,
            "grid_template_columns": null,
            "flex": null,
            "_model_name": "LayoutModel",
            "justify_items": null,
            "grid_row": null,
            "max_height": null,
            "align_content": null,
            "visibility": null,
            "align_self": null,
            "height": null,
            "min_height": null,
            "padding": null,
            "grid_auto_rows": null,
            "grid_gap": null,
            "max_width": null,
            "order": null,
            "_view_module_version": "1.2.0",
            "grid_template_areas": null,
            "object_position": null,
            "object_fit": null,
            "grid_auto_columns": null,
            "margin": null,
            "display": null,
            "left": null
          }
        },
        "acbf3c90dca14c588fc0e55457bcfc65": {
          "model_module": "@jupyter-widgets/controls",
          "model_name": "DescriptionStyleModel",
          "state": {
            "_view_name": "StyleView",
            "_model_name": "DescriptionStyleModel",
            "description_width": "",
            "_view_module": "@jupyter-widgets/base",
            "_model_module_version": "1.5.0",
            "_view_count": null,
            "_view_module_version": "1.2.0",
            "_model_module": "@jupyter-widgets/controls"
          }
        },
        "e7114a22085a49e0a37307876aac4aad": {
          "model_module": "@jupyter-widgets/base",
          "model_name": "LayoutModel",
          "state": {
            "_view_name": "LayoutView",
            "grid_template_rows": null,
            "right": null,
            "justify_content": null,
            "_view_module": "@jupyter-widgets/base",
            "overflow": null,
            "_model_module_version": "1.2.0",
            "_view_count": null,
            "flex_flow": null,
            "width": null,
            "min_width": null,
            "border": null,
            "align_items": null,
            "bottom": null,
            "_model_module": "@jupyter-widgets/base",
            "top": null,
            "grid_column": null,
            "overflow_y": null,
            "overflow_x": null,
            "grid_auto_flow": null,
            "grid_area": null,
            "grid_template_columns": null,
            "flex": null,
            "_model_name": "LayoutModel",
            "justify_items": null,
            "grid_row": null,
            "max_height": null,
            "align_content": null,
            "visibility": null,
            "align_self": null,
            "height": null,
            "min_height": null,
            "padding": null,
            "grid_auto_rows": null,
            "grid_gap": null,
            "max_width": null,
            "order": null,
            "_view_module_version": "1.2.0",
            "grid_template_areas": null,
            "object_position": null,
            "object_fit": null,
            "grid_auto_columns": null,
            "margin": null,
            "display": null,
            "left": null
          }
        },
        "966798e62da440d4b405adc0b7d26e8a": {
          "model_module": "@jupyter-widgets/controls",
          "model_name": "HBoxModel",
          "state": {
            "_view_name": "HBoxView",
            "_dom_classes": [],
            "_model_name": "HBoxModel",
            "_view_module": "@jupyter-widgets/controls",
            "_model_module_version": "1.5.0",
            "_view_count": null,
            "_view_module_version": "1.5.0",
            "box_style": "",
            "layout": "IPY_MODEL_f6a9dcc944f94974b9af749503e33c25",
            "_model_module": "@jupyter-widgets/controls",
            "children": [
              "IPY_MODEL_eb4c0166061045fc938cefa2b962a42d",
              "IPY_MODEL_13387f60427f4ce8bde0a61c4b3c859a"
            ]
          }
        },
        "f6a9dcc944f94974b9af749503e33c25": {
          "model_module": "@jupyter-widgets/base",
          "model_name": "LayoutModel",
          "state": {
            "_view_name": "LayoutView",
            "grid_template_rows": null,
            "right": null,
            "justify_content": null,
            "_view_module": "@jupyter-widgets/base",
            "overflow": null,
            "_model_module_version": "1.2.0",
            "_view_count": null,
            "flex_flow": null,
            "width": null,
            "min_width": null,
            "border": null,
            "align_items": null,
            "bottom": null,
            "_model_module": "@jupyter-widgets/base",
            "top": null,
            "grid_column": null,
            "overflow_y": null,
            "overflow_x": null,
            "grid_auto_flow": null,
            "grid_area": null,
            "grid_template_columns": null,
            "flex": null,
            "_model_name": "LayoutModel",
            "justify_items": null,
            "grid_row": null,
            "max_height": null,
            "align_content": null,
            "visibility": null,
            "align_self": null,
            "height": null,
            "min_height": null,
            "padding": null,
            "grid_auto_rows": null,
            "grid_gap": null,
            "max_width": null,
            "order": null,
            "_view_module_version": "1.2.0",
            "grid_template_areas": null,
            "object_position": null,
            "object_fit": null,
            "grid_auto_columns": null,
            "margin": null,
            "display": null,
            "left": null
          }
        },
        "eb4c0166061045fc938cefa2b962a42d": {
          "model_module": "@jupyter-widgets/controls",
          "model_name": "FloatProgressModel",
          "state": {
            "_view_name": "ProgressView",
            "style": "IPY_MODEL_27daa846ec6e43518d434bbc5cc5efc4",
            "_dom_classes": [],
            "description": "",
            "_model_name": "FloatProgressModel",
            "bar_style": "success",
            "max": 1648877,
            "_view_module": "@jupyter-widgets/controls",
            "_model_module_version": "1.5.0",
            "value": 1648877,
            "_view_count": null,
            "_view_module_version": "1.5.0",
            "orientation": "horizontal",
            "min": 0,
            "description_tooltip": null,
            "_model_module": "@jupyter-widgets/controls",
            "layout": "IPY_MODEL_c049467f79234b5cb2c097ff682e155b"
          }
        },
        "13387f60427f4ce8bde0a61c4b3c859a": {
          "model_module": "@jupyter-widgets/controls",
          "model_name": "HTMLModel",
          "state": {
            "_view_name": "HTMLView",
            "style": "IPY_MODEL_8a08fdf29ccb42cfa68fb945e5b612e3",
            "_dom_classes": [],
            "description": "",
            "_model_name": "HTMLModel",
            "placeholder": "​",
            "_view_module": "@jupyter-widgets/controls",
            "_model_module_version": "1.5.0",
            "value": " 1649664/? [00:48&lt;00:00, 34294.73it/s]",
            "_view_count": null,
            "_view_module_version": "1.5.0",
            "description_tooltip": null,
            "_model_module": "@jupyter-widgets/controls",
            "layout": "IPY_MODEL_a05ddcb815da4e26900e5cea06b33b27"
          }
        },
        "27daa846ec6e43518d434bbc5cc5efc4": {
          "model_module": "@jupyter-widgets/controls",
          "model_name": "ProgressStyleModel",
          "state": {
            "_view_name": "StyleView",
            "_model_name": "ProgressStyleModel",
            "description_width": "initial",
            "_view_module": "@jupyter-widgets/base",
            "_model_module_version": "1.5.0",
            "_view_count": null,
            "_view_module_version": "1.2.0",
            "bar_color": null,
            "_model_module": "@jupyter-widgets/controls"
          }
        },
        "c049467f79234b5cb2c097ff682e155b": {
          "model_module": "@jupyter-widgets/base",
          "model_name": "LayoutModel",
          "state": {
            "_view_name": "LayoutView",
            "grid_template_rows": null,
            "right": null,
            "justify_content": null,
            "_view_module": "@jupyter-widgets/base",
            "overflow": null,
            "_model_module_version": "1.2.0",
            "_view_count": null,
            "flex_flow": null,
            "width": null,
            "min_width": null,
            "border": null,
            "align_items": null,
            "bottom": null,
            "_model_module": "@jupyter-widgets/base",
            "top": null,
            "grid_column": null,
            "overflow_y": null,
            "overflow_x": null,
            "grid_auto_flow": null,
            "grid_area": null,
            "grid_template_columns": null,
            "flex": null,
            "_model_name": "LayoutModel",
            "justify_items": null,
            "grid_row": null,
            "max_height": null,
            "align_content": null,
            "visibility": null,
            "align_self": null,
            "height": null,
            "min_height": null,
            "padding": null,
            "grid_auto_rows": null,
            "grid_gap": null,
            "max_width": null,
            "order": null,
            "_view_module_version": "1.2.0",
            "grid_template_areas": null,
            "object_position": null,
            "object_fit": null,
            "grid_auto_columns": null,
            "margin": null,
            "display": null,
            "left": null
          }
        },
        "8a08fdf29ccb42cfa68fb945e5b612e3": {
          "model_module": "@jupyter-widgets/controls",
          "model_name": "DescriptionStyleModel",
          "state": {
            "_view_name": "StyleView",
            "_model_name": "DescriptionStyleModel",
            "description_width": "",
            "_view_module": "@jupyter-widgets/base",
            "_model_module_version": "1.5.0",
            "_view_count": null,
            "_view_module_version": "1.2.0",
            "_model_module": "@jupyter-widgets/controls"
          }
        },
        "a05ddcb815da4e26900e5cea06b33b27": {
          "model_module": "@jupyter-widgets/base",
          "model_name": "LayoutModel",
          "state": {
            "_view_name": "LayoutView",
            "grid_template_rows": null,
            "right": null,
            "justify_content": null,
            "_view_module": "@jupyter-widgets/base",
            "overflow": null,
            "_model_module_version": "1.2.0",
            "_view_count": null,
            "flex_flow": null,
            "width": null,
            "min_width": null,
            "border": null,
            "align_items": null,
            "bottom": null,
            "_model_module": "@jupyter-widgets/base",
            "top": null,
            "grid_column": null,
            "overflow_y": null,
            "overflow_x": null,
            "grid_auto_flow": null,
            "grid_area": null,
            "grid_template_columns": null,
            "flex": null,
            "_model_name": "LayoutModel",
            "justify_items": null,
            "grid_row": null,
            "max_height": null,
            "align_content": null,
            "visibility": null,
            "align_self": null,
            "height": null,
            "min_height": null,
            "padding": null,
            "grid_auto_rows": null,
            "grid_gap": null,
            "max_width": null,
            "order": null,
            "_view_module_version": "1.2.0",
            "grid_template_areas": null,
            "object_position": null,
            "object_fit": null,
            "grid_auto_columns": null,
            "margin": null,
            "display": null,
            "left": null
          }
        },
        "a3e65eddc73e403bb7a8651447ee840f": {
          "model_module": "@jupyter-widgets/controls",
          "model_name": "HBoxModel",
          "state": {
            "_view_name": "HBoxView",
            "_dom_classes": [],
            "_model_name": "HBoxModel",
            "_view_module": "@jupyter-widgets/controls",
            "_model_module_version": "1.5.0",
            "_view_count": null,
            "_view_module_version": "1.5.0",
            "box_style": "",
            "layout": "IPY_MODEL_fd495bb9ae7749a291e82f82bc204b91",
            "_model_module": "@jupyter-widgets/controls",
            "children": [
              "IPY_MODEL_582140a34cf541528946e745ad3c7944",
              "IPY_MODEL_0557996d8ae04384ad37b98ed9e8dd7d"
            ]
          }
        },
        "fd495bb9ae7749a291e82f82bc204b91": {
          "model_module": "@jupyter-widgets/base",
          "model_name": "LayoutModel",
          "state": {
            "_view_name": "LayoutView",
            "grid_template_rows": null,
            "right": null,
            "justify_content": null,
            "_view_module": "@jupyter-widgets/base",
            "overflow": null,
            "_model_module_version": "1.2.0",
            "_view_count": null,
            "flex_flow": null,
            "width": null,
            "min_width": null,
            "border": null,
            "align_items": null,
            "bottom": null,
            "_model_module": "@jupyter-widgets/base",
            "top": null,
            "grid_column": null,
            "overflow_y": null,
            "overflow_x": null,
            "grid_auto_flow": null,
            "grid_area": null,
            "grid_template_columns": null,
            "flex": null,
            "_model_name": "LayoutModel",
            "justify_items": null,
            "grid_row": null,
            "max_height": null,
            "align_content": null,
            "visibility": null,
            "align_self": null,
            "height": null,
            "min_height": null,
            "padding": null,
            "grid_auto_rows": null,
            "grid_gap": null,
            "max_width": null,
            "order": null,
            "_view_module_version": "1.2.0",
            "grid_template_areas": null,
            "object_position": null,
            "object_fit": null,
            "grid_auto_columns": null,
            "margin": null,
            "display": null,
            "left": null
          }
        },
        "582140a34cf541528946e745ad3c7944": {
          "model_module": "@jupyter-widgets/controls",
          "model_name": "FloatProgressModel",
          "state": {
            "_view_name": "ProgressView",
            "style": "IPY_MODEL_0129438b17d74a32bd1e0071785f49df",
            "_dom_classes": [],
            "description": "",
            "_model_name": "FloatProgressModel",
            "bar_style": "success",
            "max": 4542,
            "_view_module": "@jupyter-widgets/controls",
            "_model_module_version": "1.5.0",
            "value": 4542,
            "_view_count": null,
            "_view_module_version": "1.5.0",
            "orientation": "horizontal",
            "min": 0,
            "description_tooltip": null,
            "_model_module": "@jupyter-widgets/controls",
            "layout": "IPY_MODEL_db11225e148d4ee197b3ea7b5adb0445"
          }
        },
        "0557996d8ae04384ad37b98ed9e8dd7d": {
          "model_module": "@jupyter-widgets/controls",
          "model_name": "HTMLModel",
          "state": {
            "_view_name": "HTMLView",
            "style": "IPY_MODEL_cc282b4dded44a538ab941f62ebee6c8",
            "_dom_classes": [],
            "description": "",
            "_model_name": "HTMLModel",
            "placeholder": "​",
            "_view_module": "@jupyter-widgets/controls",
            "_model_module_version": "1.5.0",
            "value": " 5120/? [00:00&lt;00:00, 11353.77it/s]",
            "_view_count": null,
            "_view_module_version": "1.5.0",
            "description_tooltip": null,
            "_model_module": "@jupyter-widgets/controls",
            "layout": "IPY_MODEL_f1f0ee8416a14027bf5a2388136ecfa9"
          }
        },
        "0129438b17d74a32bd1e0071785f49df": {
          "model_module": "@jupyter-widgets/controls",
          "model_name": "ProgressStyleModel",
          "state": {
            "_view_name": "StyleView",
            "_model_name": "ProgressStyleModel",
            "description_width": "initial",
            "_view_module": "@jupyter-widgets/base",
            "_model_module_version": "1.5.0",
            "_view_count": null,
            "_view_module_version": "1.2.0",
            "bar_color": null,
            "_model_module": "@jupyter-widgets/controls"
          }
        },
        "db11225e148d4ee197b3ea7b5adb0445": {
          "model_module": "@jupyter-widgets/base",
          "model_name": "LayoutModel",
          "state": {
            "_view_name": "LayoutView",
            "grid_template_rows": null,
            "right": null,
            "justify_content": null,
            "_view_module": "@jupyter-widgets/base",
            "overflow": null,
            "_model_module_version": "1.2.0",
            "_view_count": null,
            "flex_flow": null,
            "width": null,
            "min_width": null,
            "border": null,
            "align_items": null,
            "bottom": null,
            "_model_module": "@jupyter-widgets/base",
            "top": null,
            "grid_column": null,
            "overflow_y": null,
            "overflow_x": null,
            "grid_auto_flow": null,
            "grid_area": null,
            "grid_template_columns": null,
            "flex": null,
            "_model_name": "LayoutModel",
            "justify_items": null,
            "grid_row": null,
            "max_height": null,
            "align_content": null,
            "visibility": null,
            "align_self": null,
            "height": null,
            "min_height": null,
            "padding": null,
            "grid_auto_rows": null,
            "grid_gap": null,
            "max_width": null,
            "order": null,
            "_view_module_version": "1.2.0",
            "grid_template_areas": null,
            "object_position": null,
            "object_fit": null,
            "grid_auto_columns": null,
            "margin": null,
            "display": null,
            "left": null
          }
        },
        "cc282b4dded44a538ab941f62ebee6c8": {
          "model_module": "@jupyter-widgets/controls",
          "model_name": "DescriptionStyleModel",
          "state": {
            "_view_name": "StyleView",
            "_model_name": "DescriptionStyleModel",
            "description_width": "",
            "_view_module": "@jupyter-widgets/base",
            "_model_module_version": "1.5.0",
            "_view_count": null,
            "_view_module_version": "1.2.0",
            "_model_module": "@jupyter-widgets/controls"
          }
        },
        "f1f0ee8416a14027bf5a2388136ecfa9": {
          "model_module": "@jupyter-widgets/base",
          "model_name": "LayoutModel",
          "state": {
            "_view_name": "LayoutView",
            "grid_template_rows": null,
            "right": null,
            "justify_content": null,
            "_view_module": "@jupyter-widgets/base",
            "overflow": null,
            "_model_module_version": "1.2.0",
            "_view_count": null,
            "flex_flow": null,
            "width": null,
            "min_width": null,
            "border": null,
            "align_items": null,
            "bottom": null,
            "_model_module": "@jupyter-widgets/base",
            "top": null,
            "grid_column": null,
            "overflow_y": null,
            "overflow_x": null,
            "grid_auto_flow": null,
            "grid_area": null,
            "grid_template_columns": null,
            "flex": null,
            "_model_name": "LayoutModel",
            "justify_items": null,
            "grid_row": null,
            "max_height": null,
            "align_content": null,
            "visibility": null,
            "align_self": null,
            "height": null,
            "min_height": null,
            "padding": null,
            "grid_auto_rows": null,
            "grid_gap": null,
            "max_width": null,
            "order": null,
            "_view_module_version": "1.2.0",
            "grid_template_areas": null,
            "object_position": null,
            "object_fit": null,
            "grid_auto_columns": null,
            "margin": null,
            "display": null,
            "left": null
          }
        },
        "0f4035c304af48538d190727a6c4c0f5": {
          "model_module": "@jupyter-widgets/controls",
          "model_name": "HBoxModel",
          "state": {
            "_view_name": "HBoxView",
            "_dom_classes": [],
            "_model_name": "HBoxModel",
            "_view_module": "@jupyter-widgets/controls",
            "_model_module_version": "1.5.0",
            "_view_count": null,
            "_view_module_version": "1.5.0",
            "box_style": "",
            "layout": "IPY_MODEL_5db961cfc4db4bd4a2e65a015c78bb0f",
            "_model_module": "@jupyter-widgets/controls",
            "children": [
              "IPY_MODEL_5f3b42456737496986eadf2fa989cc19",
              "IPY_MODEL_cc5da5f3713c4174a1583915ba84250d"
            ]
          }
        },
        "5db961cfc4db4bd4a2e65a015c78bb0f": {
          "model_module": "@jupyter-widgets/base",
          "model_name": "LayoutModel",
          "state": {
            "_view_name": "LayoutView",
            "grid_template_rows": null,
            "right": null,
            "justify_content": null,
            "_view_module": "@jupyter-widgets/base",
            "overflow": null,
            "_model_module_version": "1.2.0",
            "_view_count": null,
            "flex_flow": null,
            "width": null,
            "min_width": null,
            "border": null,
            "align_items": null,
            "bottom": null,
            "_model_module": "@jupyter-widgets/base",
            "top": null,
            "grid_column": null,
            "overflow_y": null,
            "overflow_x": null,
            "grid_auto_flow": null,
            "grid_area": null,
            "grid_template_columns": null,
            "flex": null,
            "_model_name": "LayoutModel",
            "justify_items": null,
            "grid_row": null,
            "max_height": null,
            "align_content": null,
            "visibility": null,
            "align_self": null,
            "height": null,
            "min_height": null,
            "padding": null,
            "grid_auto_rows": null,
            "grid_gap": null,
            "max_width": null,
            "order": null,
            "_view_module_version": "1.2.0",
            "grid_template_areas": null,
            "object_position": null,
            "object_fit": null,
            "grid_auto_columns": null,
            "margin": null,
            "display": null,
            "left": null
          }
        },
        "5f3b42456737496986eadf2fa989cc19": {
          "model_module": "@jupyter-widgets/controls",
          "model_name": "FloatProgressModel",
          "state": {
            "_view_name": "ProgressView",
            "style": "IPY_MODEL_2fbfea4ebc75499998c6fa4066314552",
            "_dom_classes": [],
            "description": "",
            "_model_name": "FloatProgressModel",
            "bar_style": "success",
            "max": 9912422,
            "_view_module": "@jupyter-widgets/controls",
            "_model_module_version": "1.5.0",
            "value": 9912422,
            "_view_count": null,
            "_view_module_version": "1.5.0",
            "orientation": "horizontal",
            "min": 0,
            "description_tooltip": null,
            "_model_module": "@jupyter-widgets/controls",
            "layout": "IPY_MODEL_3fa5cac0ccf94ac0ae951df5fe314041"
          }
        },
        "cc5da5f3713c4174a1583915ba84250d": {
          "model_module": "@jupyter-widgets/controls",
          "model_name": "HTMLModel",
          "state": {
            "_view_name": "HTMLView",
            "style": "IPY_MODEL_808205ce8a0a46ea96d7be944ae83c89",
            "_dom_classes": [],
            "description": "",
            "_model_name": "HTMLModel",
            "placeholder": "​",
            "_view_module": "@jupyter-widgets/controls",
            "_model_module_version": "1.5.0",
            "value": " 9913344/? [06:30&lt;00:00, 25370.57it/s]",
            "_view_count": null,
            "_view_module_version": "1.5.0",
            "description_tooltip": null,
            "_model_module": "@jupyter-widgets/controls",
            "layout": "IPY_MODEL_9513b62a83f14e4590bc6eda5f6eff24"
          }
        },
        "2fbfea4ebc75499998c6fa4066314552": {
          "model_module": "@jupyter-widgets/controls",
          "model_name": "ProgressStyleModel",
          "state": {
            "_view_name": "StyleView",
            "_model_name": "ProgressStyleModel",
            "description_width": "initial",
            "_view_module": "@jupyter-widgets/base",
            "_model_module_version": "1.5.0",
            "_view_count": null,
            "_view_module_version": "1.2.0",
            "bar_color": null,
            "_model_module": "@jupyter-widgets/controls"
          }
        },
        "3fa5cac0ccf94ac0ae951df5fe314041": {
          "model_module": "@jupyter-widgets/base",
          "model_name": "LayoutModel",
          "state": {
            "_view_name": "LayoutView",
            "grid_template_rows": null,
            "right": null,
            "justify_content": null,
            "_view_module": "@jupyter-widgets/base",
            "overflow": null,
            "_model_module_version": "1.2.0",
            "_view_count": null,
            "flex_flow": null,
            "width": null,
            "min_width": null,
            "border": null,
            "align_items": null,
            "bottom": null,
            "_model_module": "@jupyter-widgets/base",
            "top": null,
            "grid_column": null,
            "overflow_y": null,
            "overflow_x": null,
            "grid_auto_flow": null,
            "grid_area": null,
            "grid_template_columns": null,
            "flex": null,
            "_model_name": "LayoutModel",
            "justify_items": null,
            "grid_row": null,
            "max_height": null,
            "align_content": null,
            "visibility": null,
            "align_self": null,
            "height": null,
            "min_height": null,
            "padding": null,
            "grid_auto_rows": null,
            "grid_gap": null,
            "max_width": null,
            "order": null,
            "_view_module_version": "1.2.0",
            "grid_template_areas": null,
            "object_position": null,
            "object_fit": null,
            "grid_auto_columns": null,
            "margin": null,
            "display": null,
            "left": null
          }
        },
        "808205ce8a0a46ea96d7be944ae83c89": {
          "model_module": "@jupyter-widgets/controls",
          "model_name": "DescriptionStyleModel",
          "state": {
            "_view_name": "StyleView",
            "_model_name": "DescriptionStyleModel",
            "description_width": "",
            "_view_module": "@jupyter-widgets/base",
            "_model_module_version": "1.5.0",
            "_view_count": null,
            "_view_module_version": "1.2.0",
            "_model_module": "@jupyter-widgets/controls"
          }
        },
        "9513b62a83f14e4590bc6eda5f6eff24": {
          "model_module": "@jupyter-widgets/base",
          "model_name": "LayoutModel",
          "state": {
            "_view_name": "LayoutView",
            "grid_template_rows": null,
            "right": null,
            "justify_content": null,
            "_view_module": "@jupyter-widgets/base",
            "overflow": null,
            "_model_module_version": "1.2.0",
            "_view_count": null,
            "flex_flow": null,
            "width": null,
            "min_width": null,
            "border": null,
            "align_items": null,
            "bottom": null,
            "_model_module": "@jupyter-widgets/base",
            "top": null,
            "grid_column": null,
            "overflow_y": null,
            "overflow_x": null,
            "grid_auto_flow": null,
            "grid_area": null,
            "grid_template_columns": null,
            "flex": null,
            "_model_name": "LayoutModel",
            "justify_items": null,
            "grid_row": null,
            "max_height": null,
            "align_content": null,
            "visibility": null,
            "align_self": null,
            "height": null,
            "min_height": null,
            "padding": null,
            "grid_auto_rows": null,
            "grid_gap": null,
            "max_width": null,
            "order": null,
            "_view_module_version": "1.2.0",
            "grid_template_areas": null,
            "object_position": null,
            "object_fit": null,
            "grid_auto_columns": null,
            "margin": null,
            "display": null,
            "left": null
          }
        },
        "24cb3d9fcfe242519d58711166aadfda": {
          "model_module": "@jupyter-widgets/controls",
          "model_name": "HBoxModel",
          "state": {
            "_view_name": "HBoxView",
            "_dom_classes": [],
            "_model_name": "HBoxModel",
            "_view_module": "@jupyter-widgets/controls",
            "_model_module_version": "1.5.0",
            "_view_count": null,
            "_view_module_version": "1.5.0",
            "box_style": "",
            "layout": "IPY_MODEL_7d33463a6b4a418aaf4fb129cde9f798",
            "_model_module": "@jupyter-widgets/controls",
            "children": [
              "IPY_MODEL_8dfd815869554c558006106923622964",
              "IPY_MODEL_c791440aef5d416b88635cf12436cd3b"
            ]
          }
        },
        "7d33463a6b4a418aaf4fb129cde9f798": {
          "model_module": "@jupyter-widgets/base",
          "model_name": "LayoutModel",
          "state": {
            "_view_name": "LayoutView",
            "grid_template_rows": null,
            "right": null,
            "justify_content": null,
            "_view_module": "@jupyter-widgets/base",
            "overflow": null,
            "_model_module_version": "1.2.0",
            "_view_count": null,
            "flex_flow": null,
            "width": null,
            "min_width": null,
            "border": null,
            "align_items": null,
            "bottom": null,
            "_model_module": "@jupyter-widgets/base",
            "top": null,
            "grid_column": null,
            "overflow_y": null,
            "overflow_x": null,
            "grid_auto_flow": null,
            "grid_area": null,
            "grid_template_columns": null,
            "flex": null,
            "_model_name": "LayoutModel",
            "justify_items": null,
            "grid_row": null,
            "max_height": null,
            "align_content": null,
            "visibility": null,
            "align_self": null,
            "height": null,
            "min_height": null,
            "padding": null,
            "grid_auto_rows": null,
            "grid_gap": null,
            "max_width": null,
            "order": null,
            "_view_module_version": "1.2.0",
            "grid_template_areas": null,
            "object_position": null,
            "object_fit": null,
            "grid_auto_columns": null,
            "margin": null,
            "display": null,
            "left": null
          }
        },
        "8dfd815869554c558006106923622964": {
          "model_module": "@jupyter-widgets/controls",
          "model_name": "FloatProgressModel",
          "state": {
            "_view_name": "ProgressView",
            "style": "IPY_MODEL_044f7cd7486241b88cbca6360c357930",
            "_dom_classes": [],
            "description": "",
            "_model_name": "FloatProgressModel",
            "bar_style": "success",
            "max": 28881,
            "_view_module": "@jupyter-widgets/controls",
            "_model_module_version": "1.5.0",
            "value": 28881,
            "_view_count": null,
            "_view_module_version": "1.5.0",
            "orientation": "horizontal",
            "min": 0,
            "description_tooltip": null,
            "_model_module": "@jupyter-widgets/controls",
            "layout": "IPY_MODEL_c1cc0ff7cd1d43e7a48041db8d0794c5"
          }
        },
        "c791440aef5d416b88635cf12436cd3b": {
          "model_module": "@jupyter-widgets/controls",
          "model_name": "HTMLModel",
          "state": {
            "_view_name": "HTMLView",
            "style": "IPY_MODEL_2a1a3bff94de4433a934a085979c9c53",
            "_dom_classes": [],
            "description": "",
            "_model_name": "HTMLModel",
            "placeholder": "​",
            "_view_module": "@jupyter-widgets/controls",
            "_model_module_version": "1.5.0",
            "value": " 29696/? [00:32&lt;00:00, 902.70it/s]",
            "_view_count": null,
            "_view_module_version": "1.5.0",
            "description_tooltip": null,
            "_model_module": "@jupyter-widgets/controls",
            "layout": "IPY_MODEL_73793a02a51a4de3941efcb8ecc7645e"
          }
        },
        "044f7cd7486241b88cbca6360c357930": {
          "model_module": "@jupyter-widgets/controls",
          "model_name": "ProgressStyleModel",
          "state": {
            "_view_name": "StyleView",
            "_model_name": "ProgressStyleModel",
            "description_width": "initial",
            "_view_module": "@jupyter-widgets/base",
            "_model_module_version": "1.5.0",
            "_view_count": null,
            "_view_module_version": "1.2.0",
            "bar_color": null,
            "_model_module": "@jupyter-widgets/controls"
          }
        },
        "c1cc0ff7cd1d43e7a48041db8d0794c5": {
          "model_module": "@jupyter-widgets/base",
          "model_name": "LayoutModel",
          "state": {
            "_view_name": "LayoutView",
            "grid_template_rows": null,
            "right": null,
            "justify_content": null,
            "_view_module": "@jupyter-widgets/base",
            "overflow": null,
            "_model_module_version": "1.2.0",
            "_view_count": null,
            "flex_flow": null,
            "width": null,
            "min_width": null,
            "border": null,
            "align_items": null,
            "bottom": null,
            "_model_module": "@jupyter-widgets/base",
            "top": null,
            "grid_column": null,
            "overflow_y": null,
            "overflow_x": null,
            "grid_auto_flow": null,
            "grid_area": null,
            "grid_template_columns": null,
            "flex": null,
            "_model_name": "LayoutModel",
            "justify_items": null,
            "grid_row": null,
            "max_height": null,
            "align_content": null,
            "visibility": null,
            "align_self": null,
            "height": null,
            "min_height": null,
            "padding": null,
            "grid_auto_rows": null,
            "grid_gap": null,
            "max_width": null,
            "order": null,
            "_view_module_version": "1.2.0",
            "grid_template_areas": null,
            "object_position": null,
            "object_fit": null,
            "grid_auto_columns": null,
            "margin": null,
            "display": null,
            "left": null
          }
        },
        "2a1a3bff94de4433a934a085979c9c53": {
          "model_module": "@jupyter-widgets/controls",
          "model_name": "DescriptionStyleModel",
          "state": {
            "_view_name": "StyleView",
            "_model_name": "DescriptionStyleModel",
            "description_width": "",
            "_view_module": "@jupyter-widgets/base",
            "_model_module_version": "1.5.0",
            "_view_count": null,
            "_view_module_version": "1.2.0",
            "_model_module": "@jupyter-widgets/controls"
          }
        },
        "73793a02a51a4de3941efcb8ecc7645e": {
          "model_module": "@jupyter-widgets/base",
          "model_name": "LayoutModel",
          "state": {
            "_view_name": "LayoutView",
            "grid_template_rows": null,
            "right": null,
            "justify_content": null,
            "_view_module": "@jupyter-widgets/base",
            "overflow": null,
            "_model_module_version": "1.2.0",
            "_view_count": null,
            "flex_flow": null,
            "width": null,
            "min_width": null,
            "border": null,
            "align_items": null,
            "bottom": null,
            "_model_module": "@jupyter-widgets/base",
            "top": null,
            "grid_column": null,
            "overflow_y": null,
            "overflow_x": null,
            "grid_auto_flow": null,
            "grid_area": null,
            "grid_template_columns": null,
            "flex": null,
            "_model_name": "LayoutModel",
            "justify_items": null,
            "grid_row": null,
            "max_height": null,
            "align_content": null,
            "visibility": null,
            "align_self": null,
            "height": null,
            "min_height": null,
            "padding": null,
            "grid_auto_rows": null,
            "grid_gap": null,
            "max_width": null,
            "order": null,
            "_view_module_version": "1.2.0",
            "grid_template_areas": null,
            "object_position": null,
            "object_fit": null,
            "grid_auto_columns": null,
            "margin": null,
            "display": null,
            "left": null
          }
        },
        "071b42db7c424a20a9e8d8afa59de210": {
          "model_module": "@jupyter-widgets/controls",
          "model_name": "HBoxModel",
          "state": {
            "_view_name": "HBoxView",
            "_dom_classes": [],
            "_model_name": "HBoxModel",
            "_view_module": "@jupyter-widgets/controls",
            "_model_module_version": "1.5.0",
            "_view_count": null,
            "_view_module_version": "1.5.0",
            "box_style": "",
            "layout": "IPY_MODEL_8a4af3ad519a4ec4ab94be6698018087",
            "_model_module": "@jupyter-widgets/controls",
            "children": [
              "IPY_MODEL_f46f4d25514c4aaa85a8172b50acc660",
              "IPY_MODEL_f82f0a2fe6e041c59bc4c9eda00ac24c"
            ]
          }
        },
        "8a4af3ad519a4ec4ab94be6698018087": {
          "model_module": "@jupyter-widgets/base",
          "model_name": "LayoutModel",
          "state": {
            "_view_name": "LayoutView",
            "grid_template_rows": null,
            "right": null,
            "justify_content": null,
            "_view_module": "@jupyter-widgets/base",
            "overflow": null,
            "_model_module_version": "1.2.0",
            "_view_count": null,
            "flex_flow": null,
            "width": null,
            "min_width": null,
            "border": null,
            "align_items": null,
            "bottom": null,
            "_model_module": "@jupyter-widgets/base",
            "top": null,
            "grid_column": null,
            "overflow_y": null,
            "overflow_x": null,
            "grid_auto_flow": null,
            "grid_area": null,
            "grid_template_columns": null,
            "flex": null,
            "_model_name": "LayoutModel",
            "justify_items": null,
            "grid_row": null,
            "max_height": null,
            "align_content": null,
            "visibility": null,
            "align_self": null,
            "height": null,
            "min_height": null,
            "padding": null,
            "grid_auto_rows": null,
            "grid_gap": null,
            "max_width": null,
            "order": null,
            "_view_module_version": "1.2.0",
            "grid_template_areas": null,
            "object_position": null,
            "object_fit": null,
            "grid_auto_columns": null,
            "margin": null,
            "display": null,
            "left": null
          }
        },
        "f46f4d25514c4aaa85a8172b50acc660": {
          "model_module": "@jupyter-widgets/controls",
          "model_name": "FloatProgressModel",
          "state": {
            "_view_name": "ProgressView",
            "style": "IPY_MODEL_7d49d02b7a6b4055821500faf268e741",
            "_dom_classes": [],
            "description": "",
            "_model_name": "FloatProgressModel",
            "bar_style": "success",
            "max": 1648877,
            "_view_module": "@jupyter-widgets/controls",
            "_model_module_version": "1.5.0",
            "value": 1648877,
            "_view_count": null,
            "_view_module_version": "1.5.0",
            "orientation": "horizontal",
            "min": 0,
            "description_tooltip": null,
            "_model_module": "@jupyter-widgets/controls",
            "layout": "IPY_MODEL_7ca178eff0fe4d098246adde6ebf01cc"
          }
        },
        "f82f0a2fe6e041c59bc4c9eda00ac24c": {
          "model_module": "@jupyter-widgets/controls",
          "model_name": "HTMLModel",
          "state": {
            "_view_name": "HTMLView",
            "style": "IPY_MODEL_d71badfc6bdd40d1993ebe7f8452c44d",
            "_dom_classes": [],
            "description": "",
            "_model_name": "HTMLModel",
            "placeholder": "​",
            "_view_module": "@jupyter-widgets/controls",
            "_model_module_version": "1.5.0",
            "value": " 1649664/? [00:32&lt;00:00, 50797.15it/s]",
            "_view_count": null,
            "_view_module_version": "1.5.0",
            "description_tooltip": null,
            "_model_module": "@jupyter-widgets/controls",
            "layout": "IPY_MODEL_8938fc0047c54ad0b2042c065f8a72f0"
          }
        },
        "7d49d02b7a6b4055821500faf268e741": {
          "model_module": "@jupyter-widgets/controls",
          "model_name": "ProgressStyleModel",
          "state": {
            "_view_name": "StyleView",
            "_model_name": "ProgressStyleModel",
            "description_width": "initial",
            "_view_module": "@jupyter-widgets/base",
            "_model_module_version": "1.5.0",
            "_view_count": null,
            "_view_module_version": "1.2.0",
            "bar_color": null,
            "_model_module": "@jupyter-widgets/controls"
          }
        },
        "7ca178eff0fe4d098246adde6ebf01cc": {
          "model_module": "@jupyter-widgets/base",
          "model_name": "LayoutModel",
          "state": {
            "_view_name": "LayoutView",
            "grid_template_rows": null,
            "right": null,
            "justify_content": null,
            "_view_module": "@jupyter-widgets/base",
            "overflow": null,
            "_model_module_version": "1.2.0",
            "_view_count": null,
            "flex_flow": null,
            "width": null,
            "min_width": null,
            "border": null,
            "align_items": null,
            "bottom": null,
            "_model_module": "@jupyter-widgets/base",
            "top": null,
            "grid_column": null,
            "overflow_y": null,
            "overflow_x": null,
            "grid_auto_flow": null,
            "grid_area": null,
            "grid_template_columns": null,
            "flex": null,
            "_model_name": "LayoutModel",
            "justify_items": null,
            "grid_row": null,
            "max_height": null,
            "align_content": null,
            "visibility": null,
            "align_self": null,
            "height": null,
            "min_height": null,
            "padding": null,
            "grid_auto_rows": null,
            "grid_gap": null,
            "max_width": null,
            "order": null,
            "_view_module_version": "1.2.0",
            "grid_template_areas": null,
            "object_position": null,
            "object_fit": null,
            "grid_auto_columns": null,
            "margin": null,
            "display": null,
            "left": null
          }
        },
        "d71badfc6bdd40d1993ebe7f8452c44d": {
          "model_module": "@jupyter-widgets/controls",
          "model_name": "DescriptionStyleModel",
          "state": {
            "_view_name": "StyleView",
            "_model_name": "DescriptionStyleModel",
            "description_width": "",
            "_view_module": "@jupyter-widgets/base",
            "_model_module_version": "1.5.0",
            "_view_count": null,
            "_view_module_version": "1.2.0",
            "_model_module": "@jupyter-widgets/controls"
          }
        },
        "8938fc0047c54ad0b2042c065f8a72f0": {
          "model_module": "@jupyter-widgets/base",
          "model_name": "LayoutModel",
          "state": {
            "_view_name": "LayoutView",
            "grid_template_rows": null,
            "right": null,
            "justify_content": null,
            "_view_module": "@jupyter-widgets/base",
            "overflow": null,
            "_model_module_version": "1.2.0",
            "_view_count": null,
            "flex_flow": null,
            "width": null,
            "min_width": null,
            "border": null,
            "align_items": null,
            "bottom": null,
            "_model_module": "@jupyter-widgets/base",
            "top": null,
            "grid_column": null,
            "overflow_y": null,
            "overflow_x": null,
            "grid_auto_flow": null,
            "grid_area": null,
            "grid_template_columns": null,
            "flex": null,
            "_model_name": "LayoutModel",
            "justify_items": null,
            "grid_row": null,
            "max_height": null,
            "align_content": null,
            "visibility": null,
            "align_self": null,
            "height": null,
            "min_height": null,
            "padding": null,
            "grid_auto_rows": null,
            "grid_gap": null,
            "max_width": null,
            "order": null,
            "_view_module_version": "1.2.0",
            "grid_template_areas": null,
            "object_position": null,
            "object_fit": null,
            "grid_auto_columns": null,
            "margin": null,
            "display": null,
            "left": null
          }
        },
        "a5a12d3570b547c598cfce3f9da88100": {
          "model_module": "@jupyter-widgets/controls",
          "model_name": "HBoxModel",
          "state": {
            "_view_name": "HBoxView",
            "_dom_classes": [],
            "_model_name": "HBoxModel",
            "_view_module": "@jupyter-widgets/controls",
            "_model_module_version": "1.5.0",
            "_view_count": null,
            "_view_module_version": "1.5.0",
            "box_style": "",
            "layout": "IPY_MODEL_c6ca9d852efc47299a6253f9df1c1b7c",
            "_model_module": "@jupyter-widgets/controls",
            "children": [
              "IPY_MODEL_c2ef87a4f9d549ac86d72a32ecd8d2a1",
              "IPY_MODEL_7150afb276674dd1908f890c42f5158b"
            ]
          }
        },
        "c6ca9d852efc47299a6253f9df1c1b7c": {
          "model_module": "@jupyter-widgets/base",
          "model_name": "LayoutModel",
          "state": {
            "_view_name": "LayoutView",
            "grid_template_rows": null,
            "right": null,
            "justify_content": null,
            "_view_module": "@jupyter-widgets/base",
            "overflow": null,
            "_model_module_version": "1.2.0",
            "_view_count": null,
            "flex_flow": null,
            "width": null,
            "min_width": null,
            "border": null,
            "align_items": null,
            "bottom": null,
            "_model_module": "@jupyter-widgets/base",
            "top": null,
            "grid_column": null,
            "overflow_y": null,
            "overflow_x": null,
            "grid_auto_flow": null,
            "grid_area": null,
            "grid_template_columns": null,
            "flex": null,
            "_model_name": "LayoutModel",
            "justify_items": null,
            "grid_row": null,
            "max_height": null,
            "align_content": null,
            "visibility": null,
            "align_self": null,
            "height": null,
            "min_height": null,
            "padding": null,
            "grid_auto_rows": null,
            "grid_gap": null,
            "max_width": null,
            "order": null,
            "_view_module_version": "1.2.0",
            "grid_template_areas": null,
            "object_position": null,
            "object_fit": null,
            "grid_auto_columns": null,
            "margin": null,
            "display": null,
            "left": null
          }
        },
        "c2ef87a4f9d549ac86d72a32ecd8d2a1": {
          "model_module": "@jupyter-widgets/controls",
          "model_name": "FloatProgressModel",
          "state": {
            "_view_name": "ProgressView",
            "style": "IPY_MODEL_d25c1a207a724f9489ab47430404e415",
            "_dom_classes": [],
            "description": "",
            "_model_name": "FloatProgressModel",
            "bar_style": "success",
            "max": 4542,
            "_view_module": "@jupyter-widgets/controls",
            "_model_module_version": "1.5.0",
            "value": 4542,
            "_view_count": null,
            "_view_module_version": "1.5.0",
            "orientation": "horizontal",
            "min": 0,
            "description_tooltip": null,
            "_model_module": "@jupyter-widgets/controls",
            "layout": "IPY_MODEL_e811f528d4374c8da0ce83d6831728b1"
          }
        },
        "7150afb276674dd1908f890c42f5158b": {
          "model_module": "@jupyter-widgets/controls",
          "model_name": "HTMLModel",
          "state": {
            "_view_name": "HTMLView",
            "style": "IPY_MODEL_d113fee6791a4f28bce69f50ef796dba",
            "_dom_classes": [],
            "description": "",
            "_model_name": "HTMLModel",
            "placeholder": "​",
            "_view_module": "@jupyter-widgets/controls",
            "_model_module_version": "1.5.0",
            "value": " 5120/? [00:00&lt;00:00, 74584.83it/s]",
            "_view_count": null,
            "_view_module_version": "1.5.0",
            "description_tooltip": null,
            "_model_module": "@jupyter-widgets/controls",
            "layout": "IPY_MODEL_b20124f37e444ee5803094884a23b180"
          }
        },
        "d25c1a207a724f9489ab47430404e415": {
          "model_module": "@jupyter-widgets/controls",
          "model_name": "ProgressStyleModel",
          "state": {
            "_view_name": "StyleView",
            "_model_name": "ProgressStyleModel",
            "description_width": "initial",
            "_view_module": "@jupyter-widgets/base",
            "_model_module_version": "1.5.0",
            "_view_count": null,
            "_view_module_version": "1.2.0",
            "bar_color": null,
            "_model_module": "@jupyter-widgets/controls"
          }
        },
        "e811f528d4374c8da0ce83d6831728b1": {
          "model_module": "@jupyter-widgets/base",
          "model_name": "LayoutModel",
          "state": {
            "_view_name": "LayoutView",
            "grid_template_rows": null,
            "right": null,
            "justify_content": null,
            "_view_module": "@jupyter-widgets/base",
            "overflow": null,
            "_model_module_version": "1.2.0",
            "_view_count": null,
            "flex_flow": null,
            "width": null,
            "min_width": null,
            "border": null,
            "align_items": null,
            "bottom": null,
            "_model_module": "@jupyter-widgets/base",
            "top": null,
            "grid_column": null,
            "overflow_y": null,
            "overflow_x": null,
            "grid_auto_flow": null,
            "grid_area": null,
            "grid_template_columns": null,
            "flex": null,
            "_model_name": "LayoutModel",
            "justify_items": null,
            "grid_row": null,
            "max_height": null,
            "align_content": null,
            "visibility": null,
            "align_self": null,
            "height": null,
            "min_height": null,
            "padding": null,
            "grid_auto_rows": null,
            "grid_gap": null,
            "max_width": null,
            "order": null,
            "_view_module_version": "1.2.0",
            "grid_template_areas": null,
            "object_position": null,
            "object_fit": null,
            "grid_auto_columns": null,
            "margin": null,
            "display": null,
            "left": null
          }
        },
        "d113fee6791a4f28bce69f50ef796dba": {
          "model_module": "@jupyter-widgets/controls",
          "model_name": "DescriptionStyleModel",
          "state": {
            "_view_name": "StyleView",
            "_model_name": "DescriptionStyleModel",
            "description_width": "",
            "_view_module": "@jupyter-widgets/base",
            "_model_module_version": "1.5.0",
            "_view_count": null,
            "_view_module_version": "1.2.0",
            "_model_module": "@jupyter-widgets/controls"
          }
        },
        "b20124f37e444ee5803094884a23b180": {
          "model_module": "@jupyter-widgets/base",
          "model_name": "LayoutModel",
          "state": {
            "_view_name": "LayoutView",
            "grid_template_rows": null,
            "right": null,
            "justify_content": null,
            "_view_module": "@jupyter-widgets/base",
            "overflow": null,
            "_model_module_version": "1.2.0",
            "_view_count": null,
            "flex_flow": null,
            "width": null,
            "min_width": null,
            "border": null,
            "align_items": null,
            "bottom": null,
            "_model_module": "@jupyter-widgets/base",
            "top": null,
            "grid_column": null,
            "overflow_y": null,
            "overflow_x": null,
            "grid_auto_flow": null,
            "grid_area": null,
            "grid_template_columns": null,
            "flex": null,
            "_model_name": "LayoutModel",
            "justify_items": null,
            "grid_row": null,
            "max_height": null,
            "align_content": null,
            "visibility": null,
            "align_self": null,
            "height": null,
            "min_height": null,
            "padding": null,
            "grid_auto_rows": null,
            "grid_gap": null,
            "max_width": null,
            "order": null,
            "_view_module_version": "1.2.0",
            "grid_template_areas": null,
            "object_position": null,
            "object_fit": null,
            "grid_auto_columns": null,
            "margin": null,
            "display": null,
            "left": null
          }
        }
      }
    }
  },
  "cells": [
    {
      "cell_type": "markdown",
      "metadata": {
        "id": "view-in-github",
        "colab_type": "text"
      },
      "source": [
        "<a href=\"https://colab.research.google.com/github/martinpius/RNN-ALIENS/blob/main/RNN_from_Scratch_in_Pytorch.ipynb\" target=\"_parent\"><img src=\"https://colab.research.google.com/assets/colab-badge.svg\" alt=\"Open In Colab\"/></a>"
      ]
    },
    {
      "cell_type": "code",
      "metadata": {
        "colab": {
          "base_uri": "https://localhost:8080/"
        },
        "id": "nA3Iv5ayf_VW",
        "outputId": "f28f35f4-72a9-4a43-e5ff-46dcaf410c04"
      },
      "source": [
        "from google.colab import drive\n",
        "drive.mount(\"/content/drive/\", force_remount = True)\n",
        "try:\n",
        "  COLAB = True\n",
        "  import torch\n",
        "  print(f\">>>> You are on Google CoLaB with torch version {torch.__version__}\")\n",
        "except Exception as e:\n",
        "  print(f\">>>> {type(e)} {e}\\n>>>> please correct {type(e)} and reload your drive\")\n",
        "  COLAB = False\n",
        "\n",
        "def time_fmt(t: float = 123.93)->float:\n",
        "  h = int(t / (60 * 60))\n",
        "  m = int(t % (60 * 60) / 60)\n",
        "  s = int(t / 60)\n",
        "  return f\"hrs: {h} min: {m:>02} sec: {s:>05.2f}\"\n",
        "\n",
        "if torch.cuda.is_available():\n",
        "  device = torch.device(\"cuda\")\n",
        "else:\n",
        "  device = torch.device(\"cpu\")\n",
        "print(f\">>>> testing the time formating function.........\\n>>>> time elapsed\\t{time_fmt()}\")"
      ],
      "execution_count": null,
      "outputs": [
        {
          "output_type": "stream",
          "text": [
            "Mounted at /content/drive/\n",
            ">>>> You are on Google CoLaB with torch version 1.9.0+cu102\n",
            ">>>> testing the time formating function.........\n",
            ">>>> time elapsed\thrs: 0 min: 02 sec: 02.00\n"
          ],
          "name": "stdout"
        }
      ]
    },
    {
      "cell_type": "code",
      "metadata": {
        "id": "Ihq_rwJwiNca"
      },
      "source": [
        "import torch\n",
        "from torch import nn\n",
        "import math, random\n",
        "import numpy as np\n"
      ],
      "execution_count": null,
      "outputs": []
    },
    {
      "cell_type": "code",
      "metadata": {
        "id": "UNf-t_d9iY-W"
      },
      "source": [
        "seed = 1234\n",
        "random.seed(seed)\n",
        "np.random.seed(seed)\n",
        "torch.manual_seed(seed)\n",
        "torch.cuda.manual_seed(seed)\n",
        "torch.backends.cudnn.deterministic = True"
      ],
      "execution_count": null,
      "outputs": []
    },
    {
      "cell_type": "code",
      "metadata": {
        "id": "vQzK71P_hkQc"
      },
      "source": [
        "# The Single neuron RNN with single layer-Pytorch Implementantion:\n",
        "class SingleLayerSingleNeuronRNN(nn.Module):\n",
        "  def __init__(self, input_dim, n_neurons):\n",
        "    '''\n",
        "    Wx == weights for the inputs -> dimension == [input_dim, n_neurons = hidden_dim]\n",
        "    Wy == Weights for the prev_hidden -> dimension == [n_neurons, n_neurons] == [hidden, hidden]\n",
        "    b == bias : shape == [batch_size = 1, n_neurons] == [1, hidden]\n",
        "    '''\n",
        "    super(SingleLayerSingleNeuronRNN, self).__init__()\n",
        "    self.Wx = torch.randn(size = (input_dim, n_neurons)).to(device = device) # shape == [input_dim, n_neurons == batch_size]\n",
        "    self.Wy = torch.randn(size = (n_neurons, n_neurons)).to(device = device) \n",
        "    self.b = torch.randn(size = (1, n_neurons)).to(device = device)\n",
        "  \n",
        "  def forward(self, X0, X1):\n",
        "    '''\n",
        "    X0 == current input for the rnn at current time-stamp t\n",
        "    X1 == previous hidden state for the rnn (at time t-1)\n",
        "    Y0 == output at the current time stamp (t)\n",
        "    Y1 == output at the next time stamp (t+1)\n",
        "    We use tanh activation function\n",
        "    '''\n",
        "    self.Y0 = torch.tanh(torch.mm(X0, self.Wx) + self.b)\n",
        "    self.Y1 = torch.tanh(torch.mm(self.Y0, self.Wy)) + torch.tanh(torch.mm(X1, self.Wx) + self.b)\n",
        "    return self.Y0.to(device = device), self.Y1.to(device = device) # shape for each outputs == [batch_size, hidden=n_neurons] == [4, 1]"
      ],
      "execution_count": null,
      "outputs": []
    },
    {
      "cell_type": "code",
      "metadata": {
        "colab": {
          "base_uri": "https://localhost:8080/"
        },
        "id": "xI2_McP2nZqu",
        "outputId": "5c7f13e3-1de8-4dea-c890-c5609828a10d"
      },
      "source": [
        "# Testing the class with the input tensor of size 4, assuming a sequence with 2 timestamps\n",
        "X0 = [[1,3,4,0],[2,8,1,3],[4,8,9,3],[4,3,0,1]] # a batch of X0, batch_size = 4 ------> time-stamp 1\n",
        "X1 = [[0,2,3,4], [2,1,4,2],[0,2,1,9],[1,3,2,9]] # a batch of X1, batch_size = 4-------> time-stamp 2\n",
        "X0 = torch.tensor(data = X0, dtype = torch.float32, requires_grad = True).to(device = device)\n",
        "X1 = torch.tensor(data = X1, dtype = torch.float32, requires_grad = True).to(device = device)\n",
        "inputs = 4\n",
        "neurons = 1\n",
        "model = SingleLayerSingleNeuronRNN(input_dim = inputs, n_neurons = neurons).to(device = device)\n",
        "print(f\">>>> The desired output: {model(X0, X1)}\")\n"
      ],
      "execution_count": null,
      "outputs": [
        {
          "output_type": "stream",
          "text": [
            ">>>> The desired output: (tensor([[-0.9797],\n",
            "        [ 0.9980],\n",
            "        [-0.9998],\n",
            "        [ 0.9711]], device='cuda:0', grad_fn=<TanhBackward>), tensor([[-0.1589],\n",
            "        [-1.5342],\n",
            "        [ 1.5235],\n",
            "        [ 0.4002]], device='cuda:0', grad_fn=<AddBackward0>))\n"
          ],
          "name": "stdout"
        }
      ]
    },
    {
      "cell_type": "code",
      "metadata": {
        "id": "zdu707_RqhOZ"
      },
      "source": [
        "## Adding more neurons to the single layer RNN.\n",
        "class SingleLayerMultiNeuronsRNN(nn.Module):\n",
        "  '''\n",
        "  In this class we define a sigle layer rnn architecture\n",
        "  with many neurons: An extension to the above class\n",
        "  Computations remain similar, only output shapes changes\n",
        "  We initialize the weights to random normal distribution\n",
        "  We use num_neurons = 16\n",
        "  '''\n",
        "  def __init__(self, input_dim, num_neurons):\n",
        "    super(SingleLayerMultiNeuronsRNN, self).__init__()\n",
        "    self.Wx = torch.randn(size = (input_dim, num_neurons)).to(device = device) # shape == [4, 16]\n",
        "    self.Wy = torch.randn(size = (num_neurons, num_neurons)).to(device = device) # shape = [16, 16]\n",
        "    self.b = torch.randn(size = (1, num_neurons)).to(device = device) # shape = [1, 16]\n",
        "  \n",
        "  def forward(self, X0, X1):\n",
        "    '''\n",
        "    X0 = input batch for the first time step # shape == [4, 4] == [input_dim, batch_size]\n",
        "    X1 = input batch for the second time step # shape == [4, 4] == [input_dim, batch_size]\n",
        "    '''\n",
        "    self.Y0 = torch.tanh(torch.mm(X0, self.Wx) + self.b)\n",
        "    self.Y1 = torch.tanh(torch.mm(self.Y0, self.Wy)) + torch.tanh(torch.mm(X1, self.Wx) + self.b)\n",
        "    return self.Y0.to(device = device), self.Y1.to(device = device)\n"
      ],
      "execution_count": null,
      "outputs": []
    },
    {
      "cell_type": "code",
      "metadata": {
        "colab": {
          "base_uri": "https://localhost:8080/"
        },
        "id": "iwdIpGT2wbSG",
        "outputId": "2b05dc68-c333-4fee-a110-a78e8f75bb8a"
      },
      "source": [
        "# Instantiating and testing the class for the desired output\n",
        "input_dim = 4\n",
        "num_neurons = 16\n",
        "model = SingleLayerMultiNeuronsRNN(input_dim = input_dim, num_neurons = num_neurons).to(device = device)\n",
        "print(f\">>>>> the desired output: {model(X0, X1)}\")"
      ],
      "execution_count": null,
      "outputs": [
        {
          "output_type": "stream",
          "text": [
            ">>>>> the desired output: (tensor([[ 0.8486, -0.9880,  1.0000,  0.4009,  0.9667,  0.0428, -1.0000, -1.0000,\n",
            "         -1.0000, -0.9997, -0.9988,  0.6447,  0.9999,  1.0000,  0.9800,  0.7880],\n",
            "        [ 0.9999, -1.0000,  1.0000,  0.9962, -1.0000,  1.0000, -1.0000, -1.0000,\n",
            "         -1.0000,  1.0000, -0.1601,  0.9766,  1.0000, -0.4992, -1.0000, -0.9994],\n",
            "        [-0.5690, -1.0000,  1.0000, -0.8670,  1.0000,  1.0000, -1.0000, -1.0000,\n",
            "         -1.0000, -0.9964, -0.9925,  0.9429,  1.0000,  1.0000, -0.5357,  0.9785],\n",
            "        [-0.9523, -1.0000,  0.9939, -0.9551, -0.7750,  0.7055, -1.0000, -1.0000,\n",
            "         -1.0000,  1.0000,  0.9559, -0.9954, -0.5176, -0.9998, -0.9157, -0.2164]],\n",
            "       device='cuda:0', grad_fn=<TanhBackward>), tensor([[ 1.6159e+00, -1.9858e+00,  1.7436e+00, -1.4998e+00,  2.4500e-03,\n",
            "          8.0577e-01, -1.2330e-02, -1.9979e+00, -1.0578e+00,  9.6324e-02,\n",
            "         -3.7570e-01,  1.9894e+00,  5.9020e-02,  1.1804e-01, -2.6625e-01,\n",
            "          8.9957e-03],\n",
            "        [ 9.1924e-03,  5.1618e-05,  1.9896e+00,  3.0360e-03,  6.2540e-01,\n",
            "         -9.1411e-01, -1.9293e+00, -3.9339e-06,  4.3213e-05,  9.5678e-02,\n",
            "         -9.8605e-01,  5.6880e-01, -2.2331e-03,  1.2191e-01, -1.4179e+00,\n",
            "          2.0000e+00],\n",
            "        [ 1.0112e+00, -1.9758e+00, -3.1799e-04, -1.9464e+00,  2.0146e-05,\n",
            "          1.9900e+00,  2.9398e-02, -1.9987e+00,  1.8728e+00,  1.9993e+00,\n",
            "          4.0678e-01,  1.9994e+00, -2.0599e-01,  1.0329e+00, -6.2502e-02,\n",
            "          1.9486e+00],\n",
            "        [ 3.6606e-01, -1.7077e+00,  7.9441e-04, -2.1364e-01,  1.9994e+00,\n",
            "          1.2706e+00,  5.6982e-05, -2.0266e-06,  1.9892e+00,  1.9961e+00,\n",
            "          2.9621e-03,  1.9972e+00,  7.3084e-01, -3.5186e-02, -1.9609e+00,\n",
            "          2.0000e+00]], device='cuda:0', grad_fn=<AddBackward0>))\n"
          ],
          "name": "stdout"
        }
      ]
    },
    {
      "cell_type": "code",
      "metadata": {
        "id": "gWMkMOEixDcI"
      },
      "source": [
        "x_batch = torch.tensor([[[0,1,2,0], [3,4,5,2], \n",
        "                         [6,7,8,1], [9,0,1,8]],\n",
        "                        [[9,8,7,2], [1,0,0,0], \n",
        "                         [9,6,5,4], [3,3,2,1]]\n",
        "                       ], dtype = torch.float).to(device = device)"
      ],
      "execution_count": null,
      "outputs": []
    },
    {
      "cell_type": "code",
      "metadata": {
        "colab": {
          "base_uri": "https://localhost:8080/"
        },
        "id": "TaTj29dDynBJ",
        "outputId": "4b92d287-d74f-4cd2-fc01-f77bf8ca9846"
      },
      "source": [
        "print(x_batch.shape)"
      ],
      "execution_count": null,
      "outputs": [
        {
          "output_type": "stream",
          "text": [
            "torch.Size([2, 4, 4])\n"
          ],
          "name": "stdout"
        }
      ]
    },
    {
      "cell_type": "code",
      "metadata": {
        "colab": {
          "base_uri": "https://localhost:8080/"
        },
        "id": "Z0A0AikfyqRR",
        "outputId": "5199cc20-ac60-482e-8ae3-41afa05aa445"
      },
      "source": [
        "# Using RnnCell from torch we can compute similar network as above in a very simple way as follow\n",
        "inputs_dim = 4\n",
        "num_neurons = 5\n",
        "model = nn.RNNCell(input_size = input_dim, hidden_size = num_neurons).to(device = device)\n",
        "h0 = torch.randn(size = (4, 5)).to(device = device)\n",
        "# since we have multiple layers, we stack together using the for-loop\n",
        "# for the above x_batch we have two time stamps = seq-LEN\n",
        "outputs = [] # place-holder \n",
        "for i in range(2):\n",
        "  hx = model(x_batch[i], h0)\n",
        "  outputs.append(hx)\n",
        "print(f\">>>> the desired output: {outputs}\") # shape == [input_dim, hidden_size]\n"
      ],
      "execution_count": null,
      "outputs": [
        {
          "output_type": "stream",
          "text": [
            ">>>> the desired output: [tensor([[-0.9463, -0.6893, -0.2524, -0.9637, -0.2208],\n",
            "        [-0.9883, -0.9644,  0.7246, -0.6490, -0.9979],\n",
            "        [-0.9997, -0.9820,  0.4870, -0.9534, -0.9969],\n",
            "        [-0.9551,  0.5289,  0.5171,  0.1352, -1.0000]], device='cuda:0',\n",
            "       grad_fn=<TanhBackward>), tensor([[-0.9999, -0.9841, -0.2931, -0.9975, -0.9998],\n",
            "        [-0.7840, -0.3831,  0.4368, -0.1192, -0.8170],\n",
            "        [-0.9977, -0.5888,  0.1649, -0.8125, -0.9999],\n",
            "        [-0.9883, -0.9474,  0.8088, -0.7885, -0.9750]], device='cuda:0',\n",
            "       grad_fn=<TanhBackward>)]\n"
          ],
          "name": "stdout"
        }
      ]
    },
    {
      "cell_type": "code",
      "metadata": {
        "id": "MC8pZheg1fwV"
      },
      "source": [
        "# Using the aid of RNNCell-- we implement the clean version of the above in the following class"
      ],
      "execution_count": null,
      "outputs": []
    },
    {
      "cell_type": "code",
      "metadata": {
        "id": "OWrSl9nBByPR"
      },
      "source": [
        "class RNNCellClean(nn.Module):\n",
        "  def __init__(self, input_dim, hidden_dim, batch_size):\n",
        "    super(RNNCellClean, self).__init__()\n",
        "    self.rnn_cell = nn.RNNCell(input_size = input_dim, hidden_size = hidden_dim, device = device)\n",
        "    self.h0 = torch.randn(size = (batch_size, hidden_dim)).to(device = device) # initialize the hidden state to random normal\n",
        "  \n",
        "  def forward(self, input_tensor):\n",
        "    '''\n",
        "    the input_tensor has the shape of [seq_len, batch_size, input_dim]\n",
        "    '''\n",
        "    seq_len = input_tensor.size(0) # grab the sequence length\n",
        "    outputs = []\n",
        "    # iterate over the sequence length\n",
        "    for i in range(seq_len):\n",
        "      self.hx = self.rnn_cell(input_tensor[i], self.h0)\n",
        "      outputs.append(self.hx)\n",
        "    return outputs, self.hx # desired shape: [input_dim, hidden_dim] == [4, 8]\n"
      ],
      "execution_count": null,
      "outputs": []
    },
    {
      "cell_type": "code",
      "metadata": {
        "colab": {
          "base_uri": "https://localhost:8080/"
        },
        "id": "dNW-MYsxD-fz",
        "outputId": "321a14b2-0a62-40a3-b74c-894afc58c967"
      },
      "source": [
        "# Instantiating and testing the class for the desired output: \n",
        "input_dim = 4\n",
        "hidden_dim = 8\n",
        "batch_size = 2\n",
        "seq_len = 4\n",
        "input_tensor = torch.randn(size = (seq_len, batch_size, input_dim)).to(device = device)\n",
        "model = RNNCellClean(input_dim, hidden_dim, batch_size).to(device = device)\n",
        "output, hidden = model(input_tensor)\n",
        "print(f\">>>> The desired output \\n{output}\\n\\n\\n>>>> desired hidden state\\n{hidden}\")\n"
      ],
      "execution_count": null,
      "outputs": [
        {
          "output_type": "stream",
          "text": [
            ">>>> The desired output \n",
            "[tensor([[ 0.1019, -0.3485,  0.7331,  0.2111, -0.0780, -0.3872,  0.2489,  0.8312],\n",
            "        [-0.2096,  0.5396,  0.5288, -0.9294, -0.3804,  0.8696, -0.7815, -0.4226]],\n",
            "       device='cuda:0', grad_fn=<TanhBackward>), tensor([[ 0.2276, -0.5669,  0.6586,  0.5156,  0.0895, -0.2938,  0.5078,  0.7417],\n",
            "        [-0.1119,  0.4649,  0.6467, -0.8613, -0.0180,  0.9424, -0.7608, -0.3338]],\n",
            "       device='cuda:0', grad_fn=<TanhBackward>), tensor([[ 0.1276, -0.5777,  0.4672,  0.1322,  0.2423, -0.5699,  0.2902,  0.7489],\n",
            "        [ 0.1024,  0.1505,  0.5441, -0.6217, -0.0139,  0.9574, -0.4218, -0.6276]],\n",
            "       device='cuda:0', grad_fn=<TanhBackward>), tensor([[ 0.2517, -0.4415,  0.5477,  0.0918, -0.0569, -0.4595,  0.3082,  0.7920],\n",
            "        [ 0.1919,  0.7753,  0.7772, -0.9423, -0.0631,  0.9815, -0.9053,  0.3382]],\n",
            "       device='cuda:0', grad_fn=<TanhBackward>)]\n",
            "\n",
            "\n",
            ">>>> desired hidden state\n",
            "tensor([[ 0.2517, -0.4415,  0.5477,  0.0918, -0.0569, -0.4595,  0.3082,  0.7920],\n",
            "        [ 0.1919,  0.7753,  0.7772, -0.9423, -0.0631,  0.9815, -0.9053,  0.3382]],\n",
            "       device='cuda:0', grad_fn=<TanhBackward>)\n"
          ],
          "name": "stdout"
        }
      ]
    },
    {
      "cell_type": "code",
      "metadata": {
        "id": "dt3tzrwGFS2Y"
      },
      "source": [
        "## A simple RNN--->Project..Demo on Mnist data.\n",
        "\n",
        "import torchvision\n",
        "from torch import optim\n",
        "import torchvision.transforms as transforms\n",
        "import torchvision.datasets as datasets\n",
        "from torch.utils.data import DataLoader\n",
        "from tensorflow import summary\n",
        "from tqdm import tqdm\n",
        "import time, datetime\n",
        "%load_ext tensorboard"
      ],
      "execution_count": null,
      "outputs": []
    },
    {
      "cell_type": "code",
      "metadata": {
        "id": "FjF9-_6MFRDa"
      },
      "source": [
        "# Hyperparameters \n",
        "batch_size = 128\n",
        "EPOCHS = 30\n",
        "hidden_dim = 512\n",
        "input_dim = 28\n",
        "seq_len = 28\n",
        "num_layers = 2\n",
        "num_classes = 10\n",
        "learning_rate = 1e-3"
      ],
      "execution_count": null,
      "outputs": []
    },
    {
      "cell_type": "code",
      "metadata": {
        "id": "1822Vj220g_8"
      },
      "source": [
        "# The model class: We create a 2-layers simple-rnn with an fc layer for the out\n",
        "class MyRNN(nn.Module):\n",
        "  def __init__(self,input_dim, hidden_dim, num_layers, num_classes):\n",
        "    super(MyRNN, self).__init__()\n",
        "    self.hidden_dim = hidden_dim\n",
        "    self.num_layers = num_layers\n",
        "    self.rnn = nn.RNN(input_size = input_dim, \n",
        "                         hidden_size = hidden_dim,\n",
        "                         num_layers = 2,\n",
        "                         batch_first = True,\n",
        "                         dropout = 0.5)\n",
        "    \n",
        "    self.fc_out = nn.Linear(in_features = hidden_dim * seq_len, out_features = num_classes)\n",
        "  \n",
        "  def forward(self, input_tensor, hidden):\n",
        "    '''\n",
        "    input_tensor: == mnist images: shape == [128, 28, 28] ==> [batch_size, seq_len, input_dim]\n",
        "    # we need to squeeze the channel dimension to suit the input shape of [batch, 28, 28]\n",
        "    hidden == initial hidden state: shape == [num_layers = 1, batch_size, hidden_dim]\n",
        "    '''\n",
        "    # initialize the hidden state\n",
        "    batch_size = input_tensor.size(0)\n",
        "    num_layers = 2\n",
        "    hidden = torch.randn(size = (self.num_layers, batch_size, self.hidden_dim)).to(device = device)\n",
        "    # run the rnn with 2 layers\n",
        "    out, _ = self.rnn(input_tensor, hidden)\n",
        "    # out shape == [batch_size, input_dim, hidden]\n",
        "    out = out.reshape(out.shape[0], -1)\n",
        "    return self.fc_out(out)\n"
      ],
      "execution_count": null,
      "outputs": []
    },
    {
      "cell_type": "code",
      "metadata": {
        "colab": {
          "base_uri": "https://localhost:8080/"
        },
        "id": "I3Mb68OkBtte",
        "outputId": "ac795253-4cd6-45d4-c5c5-563ea3dd91d3"
      },
      "source": [
        "# Hyperparameters and model's instantiation:\n",
        "batch_size = 128\n",
        "EPOCHS = 30\n",
        "hidden_dim = 512\n",
        "input_dim = 28\n",
        "seq_len = 28\n",
        "num_layers = 2\n",
        "num_classes = 10\n",
        "learning_rate = 1e-3\n",
        "h0 = torch.randn(size = (num_layers, batch_size, hidden_dim)).to(device = device)\n",
        "input_tensor = torch.randn(size = (batch_size, seq_len, input_dim)).to(device = device)\n",
        "model = MyRNN(input_dim, hidden_dim, num_layers, num_classes).to(device = device)\n",
        "print(f\">>>> The desired output shape:{model(input_tensor, hidden_dim).shape}\")\n",
        "print(model)"
      ],
      "execution_count": null,
      "outputs": [
        {
          "output_type": "stream",
          "text": [
            ">>>> The desired output shape:torch.Size([128, 10])\n",
            "MyRNN(\n",
            "  (rnn): RNN(28, 512, num_layers=2, batch_first=True, dropout=0.5)\n",
            "  (fc_out): Linear(in_features=14336, out_features=10, bias=True)\n",
            ")\n"
          ],
          "name": "stdout"
        }
      ]
    },
    {
      "cell_type": "code",
      "metadata": {
        "colab": {
          "base_uri": "https://localhost:8080/",
          "height": 1000,
          "referenced_widgets": [
            "c710ad5eb89b42d5888ea7ee245b98be",
            "00ee9c7ccf34413fb432b12c6c7bdfdc",
            "6641750baeb543e58a97be04771b6f74",
            "3217167df7924cb2af2530604d6373b7",
            "6b8aab5fca5e431c99f1a48e6341bc00",
            "22deb7563fd94bfe8f84cd498169eaeb",
            "4731781b6acd46c59eff27737d7b5ed3",
            "fb20e5c596af4438ba4921b7ef7b7cea",
            "24a726136c2a49339f1f9e3d4c408e09",
            "b255df0d145740d29fb149bfd8a38376",
            "21e3202e023c479583c77e4cafae149b",
            "61bdb9ef3fd146fdbf6095d38b375701",
            "51f960763a1046f2950f71715120ef10",
            "7bc0aa78c8834407a4866180f64129d4",
            "acbf3c90dca14c588fc0e55457bcfc65",
            "e7114a22085a49e0a37307876aac4aad",
            "966798e62da440d4b405adc0b7d26e8a",
            "f6a9dcc944f94974b9af749503e33c25",
            "eb4c0166061045fc938cefa2b962a42d",
            "13387f60427f4ce8bde0a61c4b3c859a",
            "27daa846ec6e43518d434bbc5cc5efc4",
            "c049467f79234b5cb2c097ff682e155b",
            "8a08fdf29ccb42cfa68fb945e5b612e3",
            "a05ddcb815da4e26900e5cea06b33b27",
            "a3e65eddc73e403bb7a8651447ee840f",
            "fd495bb9ae7749a291e82f82bc204b91",
            "582140a34cf541528946e745ad3c7944",
            "0557996d8ae04384ad37b98ed9e8dd7d",
            "0129438b17d74a32bd1e0071785f49df",
            "db11225e148d4ee197b3ea7b5adb0445",
            "cc282b4dded44a538ab941f62ebee6c8",
            "f1f0ee8416a14027bf5a2388136ecfa9",
            "0f4035c304af48538d190727a6c4c0f5",
            "5db961cfc4db4bd4a2e65a015c78bb0f",
            "5f3b42456737496986eadf2fa989cc19",
            "cc5da5f3713c4174a1583915ba84250d",
            "2fbfea4ebc75499998c6fa4066314552",
            "3fa5cac0ccf94ac0ae951df5fe314041",
            "808205ce8a0a46ea96d7be944ae83c89",
            "9513b62a83f14e4590bc6eda5f6eff24",
            "24cb3d9fcfe242519d58711166aadfda",
            "7d33463a6b4a418aaf4fb129cde9f798",
            "8dfd815869554c558006106923622964",
            "c791440aef5d416b88635cf12436cd3b",
            "044f7cd7486241b88cbca6360c357930",
            "c1cc0ff7cd1d43e7a48041db8d0794c5",
            "2a1a3bff94de4433a934a085979c9c53",
            "73793a02a51a4de3941efcb8ecc7645e",
            "071b42db7c424a20a9e8d8afa59de210",
            "8a4af3ad519a4ec4ab94be6698018087",
            "f46f4d25514c4aaa85a8172b50acc660",
            "f82f0a2fe6e041c59bc4c9eda00ac24c",
            "7d49d02b7a6b4055821500faf268e741",
            "7ca178eff0fe4d098246adde6ebf01cc",
            "d71badfc6bdd40d1993ebe7f8452c44d",
            "8938fc0047c54ad0b2042c065f8a72f0",
            "a5a12d3570b547c598cfce3f9da88100",
            "c6ca9d852efc47299a6253f9df1c1b7c",
            "c2ef87a4f9d549ac86d72a32ecd8d2a1",
            "7150afb276674dd1908f890c42f5158b",
            "d25c1a207a724f9489ab47430404e415",
            "e811f528d4374c8da0ce83d6831728b1",
            "d113fee6791a4f28bce69f50ef796dba",
            "b20124f37e444ee5803094884a23b180"
          ]
        },
        "id": "KJNF2pLhDbYw",
        "outputId": "bad872b4-2ea8-4a5f-d25c-c3ef93b5aff6"
      },
      "source": [
        "# Get and preprocess the data from torchvission\n",
        "train_data = datasets.MNIST(root = \"mnist_rnn/train\", train = True, transform = transforms.ToTensor(), download = True)\n",
        "valid_data = datasets.MNIST(root = \"mnist_rnn/test\", train = False, transform = transforms.ToTensor(), download = True)\n",
        "train_loader = DataLoader(dataset = train_data, batch_size = batch_size, shuffle = True)\n",
        "valid_loader = DataLoader(dataset = valid_data, batch_size = batch_size, shuffle = False)\n",
        "x_train_batch, y_train_batch = next(iter(train_loader))\n",
        "print(f\">>>> x_train_batch_shape: {x_train_batch.shape}\\t>>>> t_train_batch_shape: {y_train_batch.shape}\")\n"
      ],
      "execution_count": null,
      "outputs": [
        {
          "output_type": "stream",
          "text": [
            "Downloading http://yann.lecun.com/exdb/mnist/train-images-idx3-ubyte.gz\n",
            "Downloading http://yann.lecun.com/exdb/mnist/train-images-idx3-ubyte.gz to mnist_rnn/train/MNIST/raw/train-images-idx3-ubyte.gz\n"
          ],
          "name": "stdout"
        },
        {
          "output_type": "display_data",
          "data": {
            "application/vnd.jupyter.widget-view+json": {
              "model_id": "c710ad5eb89b42d5888ea7ee245b98be",
              "version_minor": 0,
              "version_major": 2
            },
            "text/plain": [
              "HBox(children=(FloatProgress(value=0.0, max=9912422.0), HTML(value='')))"
            ]
          },
          "metadata": {
            "tags": []
          }
        },
        {
          "output_type": "stream",
          "text": [
            "\n",
            "Extracting mnist_rnn/train/MNIST/raw/train-images-idx3-ubyte.gz to mnist_rnn/train/MNIST/raw\n",
            "\n",
            "Downloading http://yann.lecun.com/exdb/mnist/train-labels-idx1-ubyte.gz\n",
            "Downloading http://yann.lecun.com/exdb/mnist/train-labels-idx1-ubyte.gz to mnist_rnn/train/MNIST/raw/train-labels-idx1-ubyte.gz\n"
          ],
          "name": "stdout"
        },
        {
          "output_type": "display_data",
          "data": {
            "application/vnd.jupyter.widget-view+json": {
              "model_id": "24a726136c2a49339f1f9e3d4c408e09",
              "version_minor": 0,
              "version_major": 2
            },
            "text/plain": [
              "HBox(children=(FloatProgress(value=0.0, max=28881.0), HTML(value='')))"
            ]
          },
          "metadata": {
            "tags": []
          }
        },
        {
          "output_type": "stream",
          "text": [
            "\n",
            "Extracting mnist_rnn/train/MNIST/raw/train-labels-idx1-ubyte.gz to mnist_rnn/train/MNIST/raw\n",
            "\n",
            "Downloading http://yann.lecun.com/exdb/mnist/t10k-images-idx3-ubyte.gz\n",
            "Downloading http://yann.lecun.com/exdb/mnist/t10k-images-idx3-ubyte.gz to mnist_rnn/train/MNIST/raw/t10k-images-idx3-ubyte.gz\n"
          ],
          "name": "stdout"
        },
        {
          "output_type": "display_data",
          "data": {
            "application/vnd.jupyter.widget-view+json": {
              "model_id": "966798e62da440d4b405adc0b7d26e8a",
              "version_minor": 0,
              "version_major": 2
            },
            "text/plain": [
              "HBox(children=(FloatProgress(value=0.0, max=1648877.0), HTML(value='')))"
            ]
          },
          "metadata": {
            "tags": []
          }
        },
        {
          "output_type": "stream",
          "text": [
            "\n",
            "Extracting mnist_rnn/train/MNIST/raw/t10k-images-idx3-ubyte.gz to mnist_rnn/train/MNIST/raw\n",
            "\n",
            "Downloading http://yann.lecun.com/exdb/mnist/t10k-labels-idx1-ubyte.gz\n",
            "Downloading http://yann.lecun.com/exdb/mnist/t10k-labels-idx1-ubyte.gz to mnist_rnn/train/MNIST/raw/t10k-labels-idx1-ubyte.gz\n"
          ],
          "name": "stdout"
        },
        {
          "output_type": "display_data",
          "data": {
            "application/vnd.jupyter.widget-view+json": {
              "model_id": "a3e65eddc73e403bb7a8651447ee840f",
              "version_minor": 0,
              "version_major": 2
            },
            "text/plain": [
              "HBox(children=(FloatProgress(value=0.0, max=4542.0), HTML(value='')))"
            ]
          },
          "metadata": {
            "tags": []
          }
        },
        {
          "output_type": "stream",
          "text": [
            "\n",
            "Extracting mnist_rnn/train/MNIST/raw/t10k-labels-idx1-ubyte.gz to mnist_rnn/train/MNIST/raw\n",
            "\n",
            "Downloading http://yann.lecun.com/exdb/mnist/train-images-idx3-ubyte.gz\n"
          ],
          "name": "stdout"
        },
        {
          "output_type": "stream",
          "text": [
            "/usr/local/lib/python3.7/dist-packages/torchvision/datasets/mnist.py:498: UserWarning: The given NumPy array is not writeable, and PyTorch does not support non-writeable tensors. This means you can write to the underlying (supposedly non-writeable) NumPy array using the tensor. You may want to copy the array to protect its data or make it writeable before converting it to a tensor. This type of warning will be suppressed for the rest of this program. (Triggered internally at  /pytorch/torch/csrc/utils/tensor_numpy.cpp:180.)\n",
            "  return torch.from_numpy(parsed.astype(m[2], copy=False)).view(*s)\n"
          ],
          "name": "stderr"
        },
        {
          "output_type": "stream",
          "text": [
            "Downloading http://yann.lecun.com/exdb/mnist/train-images-idx3-ubyte.gz to mnist_rnn/test/MNIST/raw/train-images-idx3-ubyte.gz\n"
          ],
          "name": "stdout"
        },
        {
          "output_type": "display_data",
          "data": {
            "application/vnd.jupyter.widget-view+json": {
              "model_id": "0f4035c304af48538d190727a6c4c0f5",
              "version_minor": 0,
              "version_major": 2
            },
            "text/plain": [
              "HBox(children=(FloatProgress(value=0.0, max=9912422.0), HTML(value='')))"
            ]
          },
          "metadata": {
            "tags": []
          }
        },
        {
          "output_type": "stream",
          "text": [
            "\n",
            "Extracting mnist_rnn/test/MNIST/raw/train-images-idx3-ubyte.gz to mnist_rnn/test/MNIST/raw\n",
            "\n",
            "Downloading http://yann.lecun.com/exdb/mnist/train-labels-idx1-ubyte.gz\n",
            "Downloading http://yann.lecun.com/exdb/mnist/train-labels-idx1-ubyte.gz to mnist_rnn/test/MNIST/raw/train-labels-idx1-ubyte.gz\n"
          ],
          "name": "stdout"
        },
        {
          "output_type": "display_data",
          "data": {
            "application/vnd.jupyter.widget-view+json": {
              "model_id": "24cb3d9fcfe242519d58711166aadfda",
              "version_minor": 0,
              "version_major": 2
            },
            "text/plain": [
              "HBox(children=(FloatProgress(value=0.0, max=28881.0), HTML(value='')))"
            ]
          },
          "metadata": {
            "tags": []
          }
        },
        {
          "output_type": "stream",
          "text": [
            "\n",
            "Extracting mnist_rnn/test/MNIST/raw/train-labels-idx1-ubyte.gz to mnist_rnn/test/MNIST/raw\n",
            "\n",
            "Downloading http://yann.lecun.com/exdb/mnist/t10k-images-idx3-ubyte.gz\n",
            "Downloading http://yann.lecun.com/exdb/mnist/t10k-images-idx3-ubyte.gz to mnist_rnn/test/MNIST/raw/t10k-images-idx3-ubyte.gz\n"
          ],
          "name": "stdout"
        },
        {
          "output_type": "display_data",
          "data": {
            "application/vnd.jupyter.widget-view+json": {
              "model_id": "071b42db7c424a20a9e8d8afa59de210",
              "version_minor": 0,
              "version_major": 2
            },
            "text/plain": [
              "HBox(children=(FloatProgress(value=0.0, max=1648877.0), HTML(value='')))"
            ]
          },
          "metadata": {
            "tags": []
          }
        },
        {
          "output_type": "stream",
          "text": [
            "\n",
            "Extracting mnist_rnn/test/MNIST/raw/t10k-images-idx3-ubyte.gz to mnist_rnn/test/MNIST/raw\n",
            "\n",
            "Downloading http://yann.lecun.com/exdb/mnist/t10k-labels-idx1-ubyte.gz\n",
            "Downloading http://yann.lecun.com/exdb/mnist/t10k-labels-idx1-ubyte.gz to mnist_rnn/test/MNIST/raw/t10k-labels-idx1-ubyte.gz\n"
          ],
          "name": "stdout"
        },
        {
          "output_type": "display_data",
          "data": {
            "application/vnd.jupyter.widget-view+json": {
              "model_id": "a5a12d3570b547c598cfce3f9da88100",
              "version_minor": 0,
              "version_major": 2
            },
            "text/plain": [
              "HBox(children=(FloatProgress(value=0.0, max=4542.0), HTML(value='')))"
            ]
          },
          "metadata": {
            "tags": []
          }
        },
        {
          "output_type": "stream",
          "text": [
            "\n",
            "Extracting mnist_rnn/test/MNIST/raw/t10k-labels-idx1-ubyte.gz to mnist_rnn/test/MNIST/raw\n",
            "\n",
            ">>>> x_train_batch_shape: torch.Size([128, 1, 28, 28])\t>>>> t_train_batch_shape: torch.Size([128])\n"
          ],
          "name": "stdout"
        }
      ]
    },
    {
      "cell_type": "code",
      "metadata": {
        "id": "DLHiKzVUTBbc"
      },
      "source": [
        "# get the loss and the optimizer's objects\n",
        "loss_obj = nn.CrossEntropyLoss()\n",
        "optimizer = optim.Adam(params = model.parameters(), lr = learning_rate)\n"
      ],
      "execution_count": null,
      "outputs": []
    },
    {
      "cell_type": "code",
      "metadata": {
        "id": "3n0EpMIcVHoP"
      },
      "source": [
        "# tensorboard env\n",
        "current_time = datetime.datetime.now().timestamp()\n",
        "train_dir = \"logs/tensorboard/mnist_rnn/train/\" + str(current_time)\n",
        "valid_dir = \"logs/tensorboard/mnist_rnn/valid/\" + str(current_time)\n",
        "acc_dir = \"logs/tensorboard/mnist_rnn/accuracy/\" + str(current_time)\n",
        "train_writer = summary.create_file_writer(logdir = train_dir)\n",
        "valid_writer = summary.create_file_writer(logdir = valid_dir)\n",
        "acc_writer = summary.create_file_writer(logdir = acc_dir)"
      ],
      "execution_count": null,
      "outputs": []
    },
    {
      "cell_type": "code",
      "metadata": {
        "id": "qhSI4hBOUYkY"
      },
      "source": [
        "def __train__(model, iterator, optimizer,loss_obj, clip):\n",
        "  model.train()\n",
        "  loss_per_epoch = 0\n",
        "  step = 0\n",
        "  for (idx, (data, label)) in enumerate(tqdm(iterator)):\n",
        "    data = data.squeeze(1).to(device = device)\n",
        "    label = label.to(device = device)\n",
        "    h0 = torch.randn(size = (num_layers, batch_size, hidden_dim)).to(device = device)\n",
        "    \n",
        "    optimizer.zero_grad()\n",
        "    preds = model(data, h0)\n",
        "    train_loss = loss_obj(preds, label)\n",
        "    train_loss.backward()\n",
        "    torch.nn.utils.clip_grad_norm_(parameters = model.parameters(), max_norm = clip)\n",
        "    loss_per_epoch += train_loss.item()\n",
        "    optimizer.step()\n",
        "    if idx % 10 == 0:\n",
        "      with train_writer.as_default():\n",
        "        summary.scalar(\"train_loss\", train_loss.item(), step = step)\n",
        "        step += 1\n",
        "  return loss_per_epoch / len(iterator)\n"
      ],
      "execution_count": null,
      "outputs": []
    },
    {
      "cell_type": "code",
      "metadata": {
        "id": "tFQt5kfNZ6bt"
      },
      "source": [
        "def __valid__(model, iterator, loss_obj):\n",
        "  model.eval()\n",
        "  with torch.no_grad():\n",
        "    step = 0\n",
        "    loss_per_epoch = 0\n",
        "    for (idx, (data, label)) in enumerate(tqdm(iterator)):\n",
        "      data = data.squeeze(1).to(device = device)\n",
        "      label = label.to(device = device)\n",
        "      h0 = torch.randn(size = (num_layers, batch_size, hidden_dim)).to(device = device)\n",
        "      optimizer.zero_grad()\n",
        "      preds = model(data, h0)\n",
        "      valid_loss = loss_obj(preds, label)\n",
        "      loss_per_epoch += valid_loss.item()\n",
        "      if idx % 10 == 0:\n",
        "        with valid_writer.as_default():\n",
        "          summary.scalar(\"valid_loss\", valid_loss.item(), step = step)\n",
        "          step += 1\n",
        "  return loss_per_epoch / len(iterator)\n",
        "\n",
        "def __accuracy__(model, iterator):\n",
        "  if iterator.dataset.train:\n",
        "    print(f\"\\n>>> checking the accuracy for the training dataset\\n>>>> please wait............\")\n",
        "  else:\n",
        "    print(f\"\\n>>>> checking the accuracy for the validation dataset\\n>>>> please wait............\")\n",
        "  num_examples = 0\n",
        "  num_correct = 0\n",
        "  step = 0\n",
        "  model.eval()\n",
        "  with torch.no_grad():\n",
        "    for (idx, (data, label)) in enumerate(tqdm(iterator)):\n",
        "      data = data.squeeze(1).to(device = device)\n",
        "      label = label.to(device = device)\n",
        "      h0 = torch.randn(size = (num_layers, batch_size, hidden_dim)).to(device = device)\n",
        "      preds = model(data, h0)\n",
        "      _, predictions = preds.max(1) # grab the maximum proba-value\n",
        "      num_correct += (predictions == label).sum() # sum all correct predictions examples\n",
        "      num_examples += predictions.size(0)\n",
        "      accuracy = num_correct / num_examples\n",
        "      if idx % 10 == 0:\n",
        "        with acc_writer.as_default():\n",
        "          summary.scalar(\"Accuracy\", accuracy.cpu().numpy(), step = step)\n",
        "          step+=1\n",
        "  model.train()\n",
        "  return num_correct / num_examples\n"
      ],
      "execution_count": null,
      "outputs": []
    },
    {
      "cell_type": "code",
      "metadata": {
        "colab": {
          "base_uri": "https://localhost:8080/"
        },
        "id": "LrZ4CXKAcYZV",
        "outputId": "a59a2180-620a-4d89-fae5-c79b1fc36aa9"
      },
      "source": [
        "clip = 1\n",
        "best_val_loss = float(\"inf\")\n",
        "tic = time.time()\n",
        "for epoch in range(EPOCHS):\n",
        "  print(f\"\\n>>>> train starts for epoch {epoch + 1}\\n>>>> please wait while the model is training.......................\")\n",
        "  train_loss = __train__(model, train_loader, optimizer, loss_obj, clip)\n",
        "  valid_loss = __valid__(model, valid_loader, loss_obj)\n",
        "  train_accuracy = __accuracy__(model, train_loader)\n",
        "  valid_accuracy = __accuracy__(model, valid_loader)\n",
        "  if valid_loss < best_val_loss:\n",
        "    best_val_loss = valid_loss\n",
        "    torch.save(model.state_dict(), \"rnn_simple.pt\")\n",
        "  \n",
        "  print(f\"\\n>>>> end of epoch {epoch + 1}, train_loss: {train_loss:.4f}, train_PPL: {math.exp(train_loss):7.4f}\")\n",
        "  print(f\"\\n>>>> end of epoch {epoch + 1}, valid_loss: {valid_loss:.4f}, valid_PPL: {math.exp(valid_loss):7.4f}\")\n",
        "  print(f\"\\n>>>> end of epoch {epoch + 1}, train_accuracy: {train_accuracy:.4f}, valid_accuracy: {valid_accuracy:.4f}\")\n",
        "toc = time.time()\n",
        "print(f\">>>> time elapsed for training the model for {EPOCHS} epochs is {time_fmt(toc - tic)}\")"
      ],
      "execution_count": null,
      "outputs": [
        {
          "output_type": "stream",
          "text": [
            "  1%|          | 4/469 [00:00<00:14, 33.01it/s]"
          ],
          "name": "stderr"
        },
        {
          "output_type": "stream",
          "text": [
            "\n",
            ">>>> train starts for epoch 1\n",
            ">>>> please wait while the model is training.......................\n"
          ],
          "name": "stdout"
        },
        {
          "output_type": "stream",
          "text": [
            "100%|██████████| 469/469 [00:10<00:00, 42.86it/s]\n",
            "100%|██████████| 79/79 [00:01<00:00, 70.08it/s]\n",
            "  2%|▏         | 8/469 [00:00<00:06, 75.15it/s]"
          ],
          "name": "stderr"
        },
        {
          "output_type": "stream",
          "text": [
            "\n",
            ">>> checking the accuracy for the training dataset\n",
            ">>>> please wait............\n"
          ],
          "name": "stdout"
        },
        {
          "output_type": "stream",
          "text": [
            "100%|██████████| 469/469 [00:06<00:00, 73.00it/s]\n",
            " 10%|█         | 8/79 [00:00<00:00, 73.84it/s]"
          ],
          "name": "stderr"
        },
        {
          "output_type": "stream",
          "text": [
            "\n",
            ">>>> checking the accuracy for the validation dataset\n",
            ">>>> please wait............\n"
          ],
          "name": "stdout"
        },
        {
          "output_type": "stream",
          "text": [
            "100%|██████████| 79/79 [00:01<00:00, 72.90it/s]\n",
            "  1%|          | 4/469 [00:00<00:13, 34.76it/s]"
          ],
          "name": "stderr"
        },
        {
          "output_type": "stream",
          "text": [
            "\n",
            ">>>> end of epoch 1, train_loss: 0.2089, train_PPL:  1.2323\n",
            "\n",
            ">>>> end of epoch 1, valid_loss: 0.1868, valid_PPL:  1.2053\n",
            "\n",
            ">>>> end of epoch 1, train_accuracy: 0.9615, valid_accuracy: 0.9569\n",
            "\n",
            ">>>> train starts for epoch 2\n",
            ">>>> please wait while the model is training.......................\n"
          ],
          "name": "stdout"
        },
        {
          "output_type": "stream",
          "text": [
            "100%|██████████| 469/469 [00:11<00:00, 42.45it/s]\n",
            "100%|██████████| 79/79 [00:01<00:00, 64.32it/s]\n",
            "  1%|▏         | 7/469 [00:00<00:07, 65.00it/s]"
          ],
          "name": "stderr"
        },
        {
          "output_type": "stream",
          "text": [
            "\n",
            ">>> checking the accuracy for the training dataset\n",
            ">>>> please wait............\n"
          ],
          "name": "stdout"
        },
        {
          "output_type": "stream",
          "text": [
            "100%|██████████| 469/469 [00:06<00:00, 72.17it/s]\n",
            " 10%|█         | 8/79 [00:00<00:00, 74.39it/s]"
          ],
          "name": "stderr"
        },
        {
          "output_type": "stream",
          "text": [
            "\n",
            ">>>> checking the accuracy for the validation dataset\n",
            ">>>> please wait............\n"
          ],
          "name": "stdout"
        },
        {
          "output_type": "stream",
          "text": [
            "100%|██████████| 79/79 [00:01<00:00, 71.91it/s]\n",
            "  1%|          | 4/469 [00:00<00:14, 32.93it/s]"
          ],
          "name": "stderr"
        },
        {
          "output_type": "stream",
          "text": [
            "\n",
            ">>>> end of epoch 2, train_loss: 0.2282, train_PPL:  1.2564\n",
            "\n",
            ">>>> end of epoch 2, valid_loss: 0.2346, valid_PPL:  1.2645\n",
            "\n",
            ">>>> end of epoch 2, train_accuracy: 0.9521, valid_accuracy: 0.9535\n",
            "\n",
            ">>>> train starts for epoch 3\n",
            ">>>> please wait while the model is training.......................\n"
          ],
          "name": "stdout"
        },
        {
          "output_type": "stream",
          "text": [
            "100%|██████████| 469/469 [00:10<00:00, 43.98it/s]\n",
            "100%|██████████| 79/79 [00:01<00:00, 66.68it/s]\n",
            "  2%|▏         | 8/469 [00:00<00:05, 78.71it/s]"
          ],
          "name": "stderr"
        },
        {
          "output_type": "stream",
          "text": [
            "\n",
            ">>> checking the accuracy for the training dataset\n",
            ">>>> please wait............\n"
          ],
          "name": "stdout"
        },
        {
          "output_type": "stream",
          "text": [
            "100%|██████████| 469/469 [00:06<00:00, 75.76it/s]\n",
            " 10%|█         | 8/79 [00:00<00:00, 74.28it/s]"
          ],
          "name": "stderr"
        },
        {
          "output_type": "stream",
          "text": [
            "\n",
            ">>>> checking the accuracy for the validation dataset\n",
            ">>>> please wait............\n"
          ],
          "name": "stdout"
        },
        {
          "output_type": "stream",
          "text": [
            "100%|██████████| 79/79 [00:01<00:00, 78.19it/s]\n",
            "  1%|          | 4/469 [00:00<00:12, 37.57it/s]"
          ],
          "name": "stderr"
        },
        {
          "output_type": "stream",
          "text": [
            "\n",
            ">>>> end of epoch 3, train_loss: 0.2817, train_PPL:  1.3253\n",
            "\n",
            ">>>> end of epoch 3, valid_loss: 0.2322, valid_PPL:  1.2613\n",
            "\n",
            ">>>> end of epoch 3, train_accuracy: 0.9592, valid_accuracy: 0.9558\n",
            "\n",
            ">>>> train starts for epoch 4\n",
            ">>>> please wait while the model is training.......................\n"
          ],
          "name": "stdout"
        },
        {
          "output_type": "stream",
          "text": [
            "100%|██████████| 469/469 [00:10<00:00, 45.03it/s]\n",
            "100%|██████████| 79/79 [00:01<00:00, 71.18it/s]\n",
            "  2%|▏         | 8/469 [00:00<00:06, 72.73it/s]"
          ],
          "name": "stderr"
        },
        {
          "output_type": "stream",
          "text": [
            "\n",
            ">>> checking the accuracy for the training dataset\n",
            ">>>> please wait............\n"
          ],
          "name": "stdout"
        },
        {
          "output_type": "stream",
          "text": [
            "100%|██████████| 469/469 [00:06<00:00, 77.90it/s]\n",
            " 11%|█▏        | 9/79 [00:00<00:00, 80.71it/s]"
          ],
          "name": "stderr"
        },
        {
          "output_type": "stream",
          "text": [
            "\n",
            ">>>> checking the accuracy for the validation dataset\n",
            ">>>> please wait............\n"
          ],
          "name": "stdout"
        },
        {
          "output_type": "stream",
          "text": [
            "100%|██████████| 79/79 [00:01<00:00, 78.01it/s]\n",
            "  1%|          | 4/469 [00:00<00:12, 37.02it/s]"
          ],
          "name": "stderr"
        },
        {
          "output_type": "stream",
          "text": [
            "\n",
            ">>>> end of epoch 4, train_loss: 0.3675, train_PPL:  1.4441\n",
            "\n",
            ">>>> end of epoch 4, valid_loss: 0.3189, valid_PPL:  1.3756\n",
            "\n",
            ">>>> end of epoch 4, train_accuracy: 0.9480, valid_accuracy: 0.9478\n",
            "\n",
            ">>>> train starts for epoch 5\n",
            ">>>> please wait while the model is training.......................\n"
          ],
          "name": "stdout"
        },
        {
          "output_type": "stream",
          "text": [
            "100%|██████████| 469/469 [00:11<00:00, 42.53it/s]\n",
            "100%|██████████| 79/79 [00:01<00:00, 65.18it/s]\n",
            "  2%|▏         | 8/469 [00:00<00:06, 74.66it/s]"
          ],
          "name": "stderr"
        },
        {
          "output_type": "stream",
          "text": [
            "\n",
            ">>> checking the accuracy for the training dataset\n",
            ">>>> please wait............\n"
          ],
          "name": "stdout"
        },
        {
          "output_type": "stream",
          "text": [
            "100%|██████████| 469/469 [00:06<00:00, 71.30it/s]\n",
            " 10%|█         | 8/79 [00:00<00:00, 72.47it/s]"
          ],
          "name": "stderr"
        },
        {
          "output_type": "stream",
          "text": [
            "\n",
            ">>>> checking the accuracy for the validation dataset\n",
            ">>>> please wait............\n"
          ],
          "name": "stdout"
        },
        {
          "output_type": "stream",
          "text": [
            "100%|██████████| 79/79 [00:01<00:00, 70.70it/s]\n",
            "  1%|          | 4/469 [00:00<00:12, 35.96it/s]"
          ],
          "name": "stderr"
        },
        {
          "output_type": "stream",
          "text": [
            "\n",
            ">>>> end of epoch 5, train_loss: 0.3941, train_PPL:  1.4831\n",
            "\n",
            ">>>> end of epoch 5, valid_loss: 0.3992, valid_PPL:  1.4907\n",
            "\n",
            ">>>> end of epoch 5, train_accuracy: 0.9423, valid_accuracy: 0.9433\n",
            "\n",
            ">>>> train starts for epoch 6\n",
            ">>>> please wait while the model is training.......................\n"
          ],
          "name": "stdout"
        },
        {
          "output_type": "stream",
          "text": [
            "100%|██████████| 469/469 [00:11<00:00, 42.27it/s]\n",
            "100%|██████████| 79/79 [00:01<00:00, 67.16it/s]\n",
            "  2%|▏         | 8/469 [00:00<00:05, 78.40it/s]"
          ],
          "name": "stderr"
        },
        {
          "output_type": "stream",
          "text": [
            "\n",
            ">>> checking the accuracy for the training dataset\n",
            ">>>> please wait............\n"
          ],
          "name": "stdout"
        },
        {
          "output_type": "stream",
          "text": [
            "100%|██████████| 469/469 [00:06<00:00, 77.94it/s]\n",
            "  9%|▉         | 7/79 [00:00<00:01, 67.88it/s]"
          ],
          "name": "stderr"
        },
        {
          "output_type": "stream",
          "text": [
            "\n",
            ">>>> checking the accuracy for the validation dataset\n",
            ">>>> please wait............\n"
          ],
          "name": "stdout"
        },
        {
          "output_type": "stream",
          "text": [
            "100%|██████████| 79/79 [00:01<00:00, 76.50it/s]\n",
            "  1%|          | 4/469 [00:00<00:12, 37.97it/s]"
          ],
          "name": "stderr"
        },
        {
          "output_type": "stream",
          "text": [
            "\n",
            ">>>> end of epoch 6, train_loss: 0.4160, train_PPL:  1.5160\n",
            "\n",
            ">>>> end of epoch 6, valid_loss: 0.3728, valid_PPL:  1.4518\n",
            "\n",
            ">>>> end of epoch 6, train_accuracy: 0.9499, valid_accuracy: 0.9475\n",
            "\n",
            ">>>> train starts for epoch 7\n",
            ">>>> please wait while the model is training.......................\n"
          ],
          "name": "stdout"
        },
        {
          "output_type": "stream",
          "text": [
            "100%|██████████| 469/469 [00:10<00:00, 44.72it/s]\n",
            "100%|██████████| 79/79 [00:01<00:00, 69.48it/s]\n",
            "  2%|▏         | 8/469 [00:00<00:06, 75.45it/s]"
          ],
          "name": "stderr"
        },
        {
          "output_type": "stream",
          "text": [
            "\n",
            ">>> checking the accuracy for the training dataset\n",
            ">>>> please wait............\n"
          ],
          "name": "stdout"
        },
        {
          "output_type": "stream",
          "text": [
            "100%|██████████| 469/469 [00:06<00:00, 78.09it/s]\n",
            " 11%|█▏        | 9/79 [00:00<00:00, 81.49it/s]"
          ],
          "name": "stderr"
        },
        {
          "output_type": "stream",
          "text": [
            "\n",
            ">>>> checking the accuracy for the validation dataset\n",
            ">>>> please wait............\n"
          ],
          "name": "stdout"
        },
        {
          "output_type": "stream",
          "text": [
            "100%|██████████| 79/79 [00:00<00:00, 79.94it/s]\n",
            "  1%|          | 4/469 [00:00<00:12, 36.94it/s]"
          ],
          "name": "stderr"
        },
        {
          "output_type": "stream",
          "text": [
            "\n",
            ">>>> end of epoch 7, train_loss: 0.3944, train_PPL:  1.4835\n",
            "\n",
            ">>>> end of epoch 7, valid_loss: 0.3566, valid_PPL:  1.4285\n",
            "\n",
            ">>>> end of epoch 7, train_accuracy: 0.9540, valid_accuracy: 0.9528\n",
            "\n",
            ">>>> train starts for epoch 8\n",
            ">>>> please wait while the model is training.......................\n"
          ],
          "name": "stdout"
        },
        {
          "output_type": "stream",
          "text": [
            "100%|██████████| 469/469 [00:10<00:00, 45.48it/s]\n",
            "100%|██████████| 79/79 [00:01<00:00, 67.55it/s]\n",
            "  1%|▏         | 7/469 [00:00<00:06, 66.06it/s]"
          ],
          "name": "stderr"
        },
        {
          "output_type": "stream",
          "text": [
            "\n",
            ">>> checking the accuracy for the training dataset\n",
            ">>>> please wait............\n"
          ],
          "name": "stdout"
        },
        {
          "output_type": "stream",
          "text": [
            "100%|██████████| 469/469 [00:06<00:00, 72.51it/s]\n",
            "  9%|▉         | 7/79 [00:00<00:01, 69.08it/s]"
          ],
          "name": "stderr"
        },
        {
          "output_type": "stream",
          "text": [
            "\n",
            ">>>> checking the accuracy for the validation dataset\n",
            ">>>> please wait............\n"
          ],
          "name": "stdout"
        },
        {
          "output_type": "stream",
          "text": [
            "100%|██████████| 79/79 [00:01<00:00, 71.86it/s]\n",
            "  1%|          | 4/469 [00:00<00:12, 36.36it/s]"
          ],
          "name": "stderr"
        },
        {
          "output_type": "stream",
          "text": [
            "\n",
            ">>>> end of epoch 8, train_loss: 0.3892, train_PPL:  1.4759\n",
            "\n",
            ">>>> end of epoch 8, valid_loss: 0.3264, valid_PPL:  1.3859\n",
            "\n",
            ">>>> end of epoch 8, train_accuracy: 0.9600, valid_accuracy: 0.9555\n",
            "\n",
            ">>>> train starts for epoch 9\n",
            ">>>> please wait while the model is training.......................\n"
          ],
          "name": "stdout"
        },
        {
          "output_type": "stream",
          "text": [
            "100%|██████████| 469/469 [00:11<00:00, 42.44it/s]\n",
            "100%|██████████| 79/79 [00:01<00:00, 64.02it/s]\n",
            "  2%|▏         | 8/469 [00:00<00:06, 74.82it/s]"
          ],
          "name": "stderr"
        },
        {
          "output_type": "stream",
          "text": [
            "\n",
            ">>> checking the accuracy for the training dataset\n",
            ">>>> please wait............\n"
          ],
          "name": "stdout"
        },
        {
          "output_type": "stream",
          "text": [
            "100%|██████████| 469/469 [00:06<00:00, 72.94it/s]\n",
            " 10%|█         | 8/79 [00:00<00:00, 77.70it/s]"
          ],
          "name": "stderr"
        },
        {
          "output_type": "stream",
          "text": [
            "\n",
            ">>>> checking the accuracy for the validation dataset\n",
            ">>>> please wait............\n"
          ],
          "name": "stdout"
        },
        {
          "output_type": "stream",
          "text": [
            "100%|██████████| 79/79 [00:01<00:00, 78.84it/s]\n",
            "  1%|          | 4/469 [00:00<00:12, 37.66it/s]"
          ],
          "name": "stderr"
        },
        {
          "output_type": "stream",
          "text": [
            "\n",
            ">>>> end of epoch 9, train_loss: 0.3780, train_PPL:  1.4593\n",
            "\n",
            ">>>> end of epoch 9, valid_loss: 0.3499, valid_PPL:  1.4189\n",
            "\n",
            ">>>> end of epoch 9, train_accuracy: 0.9554, valid_accuracy: 0.9537\n",
            "\n",
            ">>>> train starts for epoch 10\n",
            ">>>> please wait while the model is training.......................\n"
          ],
          "name": "stdout"
        },
        {
          "output_type": "stream",
          "text": [
            "100%|██████████| 469/469 [00:10<00:00, 45.29it/s]\n",
            "100%|██████████| 79/79 [00:01<00:00, 70.69it/s]\n",
            "  2%|▏         | 9/469 [00:00<00:05, 81.94it/s]"
          ],
          "name": "stderr"
        },
        {
          "output_type": "stream",
          "text": [
            "\n",
            ">>> checking the accuracy for the training dataset\n",
            ">>>> please wait............\n"
          ],
          "name": "stdout"
        },
        {
          "output_type": "stream",
          "text": [
            "100%|██████████| 469/469 [00:06<00:00, 77.25it/s]\n",
            " 10%|█         | 8/79 [00:00<00:00, 76.57it/s]"
          ],
          "name": "stderr"
        },
        {
          "output_type": "stream",
          "text": [
            "\n",
            ">>>> checking the accuracy for the validation dataset\n",
            ">>>> please wait............\n"
          ],
          "name": "stdout"
        },
        {
          "output_type": "stream",
          "text": [
            "100%|██████████| 79/79 [00:01<00:00, 75.08it/s]\n",
            "  1%|          | 4/469 [00:00<00:12, 38.36it/s]"
          ],
          "name": "stderr"
        },
        {
          "output_type": "stream",
          "text": [
            "\n",
            ">>>> end of epoch 10, train_loss: 0.3823, train_PPL:  1.4657\n",
            "\n",
            ">>>> end of epoch 10, valid_loss: 0.3651, valid_PPL:  1.4406\n",
            "\n",
            ">>>> end of epoch 10, train_accuracy: 0.9541, valid_accuracy: 0.9556\n",
            "\n",
            ">>>> train starts for epoch 11\n",
            ">>>> please wait while the model is training.......................\n"
          ],
          "name": "stdout"
        },
        {
          "output_type": "stream",
          "text": [
            "100%|██████████| 469/469 [00:10<00:00, 45.68it/s]\n",
            "100%|██████████| 79/79 [00:01<00:00, 71.34it/s]\n",
            "  2%|▏         | 8/469 [00:00<00:05, 79.20it/s]"
          ],
          "name": "stderr"
        },
        {
          "output_type": "stream",
          "text": [
            "\n",
            ">>> checking the accuracy for the training dataset\n",
            ">>>> please wait............\n"
          ],
          "name": "stdout"
        },
        {
          "output_type": "stream",
          "text": [
            "100%|██████████| 469/469 [00:06<00:00, 77.11it/s]\n",
            " 11%|█▏        | 9/79 [00:00<00:00, 78.41it/s]"
          ],
          "name": "stderr"
        },
        {
          "output_type": "stream",
          "text": [
            "\n",
            ">>>> checking the accuracy for the validation dataset\n",
            ">>>> please wait............\n"
          ],
          "name": "stdout"
        },
        {
          "output_type": "stream",
          "text": [
            "100%|██████████| 79/79 [00:00<00:00, 79.59it/s]\n",
            "  1%|          | 4/469 [00:00<00:12, 36.28it/s]"
          ],
          "name": "stderr"
        },
        {
          "output_type": "stream",
          "text": [
            "\n",
            ">>>> end of epoch 11, train_loss: 0.3718, train_PPL:  1.4504\n",
            "\n",
            ">>>> end of epoch 11, valid_loss: 0.3715, valid_PPL:  1.4499\n",
            "\n",
            ">>>> end of epoch 11, train_accuracy: 0.9565, valid_accuracy: 0.9556\n",
            "\n",
            ">>>> train starts for epoch 12\n",
            ">>>> please wait while the model is training.......................\n"
          ],
          "name": "stdout"
        },
        {
          "output_type": "stream",
          "text": [
            "100%|██████████| 469/469 [00:11<00:00, 42.46it/s]\n",
            "100%|██████████| 79/79 [00:01<00:00, 64.27it/s]\n",
            "  2%|▏         | 8/469 [00:00<00:06, 73.61it/s]"
          ],
          "name": "stderr"
        },
        {
          "output_type": "stream",
          "text": [
            "\n",
            ">>> checking the accuracy for the training dataset\n",
            ">>>> please wait............\n"
          ],
          "name": "stdout"
        },
        {
          "output_type": "stream",
          "text": [
            "100%|██████████| 469/469 [00:06<00:00, 72.11it/s]\n",
            " 10%|█         | 8/79 [00:00<00:00, 74.54it/s]"
          ],
          "name": "stderr"
        },
        {
          "output_type": "stream",
          "text": [
            "\n",
            ">>>> checking the accuracy for the validation dataset\n",
            ">>>> please wait............\n"
          ],
          "name": "stdout"
        },
        {
          "output_type": "stream",
          "text": [
            "100%|██████████| 79/79 [00:01<00:00, 72.95it/s]\n",
            "  1%|          | 4/469 [00:00<00:12, 35.79it/s]"
          ],
          "name": "stderr"
        },
        {
          "output_type": "stream",
          "text": [
            "\n",
            ">>>> end of epoch 12, train_loss: 0.3614, train_PPL:  1.4353\n",
            "\n",
            ">>>> end of epoch 12, valid_loss: 0.4203, valid_PPL:  1.5224\n",
            "\n",
            ">>>> end of epoch 12, train_accuracy: 0.9553, valid_accuracy: 0.9491\n",
            "\n",
            ">>>> train starts for epoch 13\n",
            ">>>> please wait while the model is training.......................\n"
          ],
          "name": "stdout"
        },
        {
          "output_type": "stream",
          "text": [
            "100%|██████████| 469/469 [00:11<00:00, 42.36it/s]\n",
            "100%|██████████| 79/79 [00:01<00:00, 70.07it/s]\n",
            "  2%|▏         | 9/469 [00:00<00:05, 79.79it/s]"
          ],
          "name": "stderr"
        },
        {
          "output_type": "stream",
          "text": [
            "\n",
            ">>> checking the accuracy for the training dataset\n",
            ">>>> please wait............\n"
          ],
          "name": "stdout"
        },
        {
          "output_type": "stream",
          "text": [
            "100%|██████████| 469/469 [00:06<00:00, 77.41it/s]\n",
            " 11%|█▏        | 9/79 [00:00<00:00, 81.65it/s]"
          ],
          "name": "stderr"
        },
        {
          "output_type": "stream",
          "text": [
            "\n",
            ">>>> checking the accuracy for the validation dataset\n",
            ">>>> please wait............\n"
          ],
          "name": "stdout"
        },
        {
          "output_type": "stream",
          "text": [
            "100%|██████████| 79/79 [00:01<00:00, 77.56it/s]\n",
            "  1%|          | 4/469 [00:00<00:11, 38.80it/s]"
          ],
          "name": "stderr"
        },
        {
          "output_type": "stream",
          "text": [
            "\n",
            ">>>> end of epoch 13, train_loss: 0.3506, train_PPL:  1.4200\n",
            "\n",
            ">>>> end of epoch 13, valid_loss: 0.2932, valid_PPL:  1.3408\n",
            "\n",
            ">>>> end of epoch 13, train_accuracy: 0.9637, valid_accuracy: 0.9637\n",
            "\n",
            ">>>> train starts for epoch 14\n",
            ">>>> please wait while the model is training.......................\n"
          ],
          "name": "stdout"
        },
        {
          "output_type": "stream",
          "text": [
            "100%|██████████| 469/469 [00:10<00:00, 45.24it/s]\n",
            "100%|██████████| 79/79 [00:01<00:00, 68.30it/s]\n",
            "  2%|▏         | 8/469 [00:00<00:06, 76.26it/s]"
          ],
          "name": "stderr"
        },
        {
          "output_type": "stream",
          "text": [
            "\n",
            ">>> checking the accuracy for the training dataset\n",
            ">>>> please wait............\n"
          ],
          "name": "stdout"
        },
        {
          "output_type": "stream",
          "text": [
            "100%|██████████| 469/469 [00:06<00:00, 76.81it/s]\n",
            " 10%|█         | 8/79 [00:00<00:00, 79.62it/s]"
          ],
          "name": "stderr"
        },
        {
          "output_type": "stream",
          "text": [
            "\n",
            ">>>> checking the accuracy for the validation dataset\n",
            ">>>> please wait............\n"
          ],
          "name": "stdout"
        },
        {
          "output_type": "stream",
          "text": [
            "100%|██████████| 79/79 [00:01<00:00, 78.44it/s]\n",
            "  1%|          | 4/469 [00:00<00:12, 36.56it/s]"
          ],
          "name": "stderr"
        },
        {
          "output_type": "stream",
          "text": [
            "\n",
            ">>>> end of epoch 14, train_loss: 0.3607, train_PPL:  1.4344\n",
            "\n",
            ">>>> end of epoch 14, valid_loss: 0.3115, valid_PPL:  1.3654\n",
            "\n",
            ">>>> end of epoch 14, train_accuracy: 0.9673, valid_accuracy: 0.9661\n",
            "\n",
            ">>>> train starts for epoch 15\n",
            ">>>> please wait while the model is training.......................\n"
          ],
          "name": "stdout"
        },
        {
          "output_type": "stream",
          "text": [
            "100%|██████████| 469/469 [00:10<00:00, 45.65it/s]\n",
            "100%|██████████| 79/79 [00:01<00:00, 65.43it/s]\n",
            "  2%|▏         | 8/469 [00:00<00:06, 72.10it/s]"
          ],
          "name": "stderr"
        },
        {
          "output_type": "stream",
          "text": [
            "\n",
            ">>> checking the accuracy for the training dataset\n",
            ">>>> please wait............\n"
          ],
          "name": "stdout"
        },
        {
          "output_type": "stream",
          "text": [
            "100%|██████████| 469/469 [00:06<00:00, 72.05it/s]\n",
            "  9%|▉         | 7/79 [00:00<00:01, 60.84it/s]"
          ],
          "name": "stderr"
        },
        {
          "output_type": "stream",
          "text": [
            "\n",
            ">>>> checking the accuracy for the validation dataset\n",
            ">>>> please wait............\n"
          ],
          "name": "stdout"
        },
        {
          "output_type": "stream",
          "text": [
            "100%|██████████| 79/79 [00:01<00:00, 70.13it/s]\n",
            "  1%|          | 4/469 [00:00<00:12, 36.05it/s]"
          ],
          "name": "stderr"
        },
        {
          "output_type": "stream",
          "text": [
            "\n",
            ">>>> end of epoch 15, train_loss: 0.3364, train_PPL:  1.3999\n",
            "\n",
            ">>>> end of epoch 15, valid_loss: 0.2307, valid_PPL:  1.2595\n",
            "\n",
            ">>>> end of epoch 15, train_accuracy: 0.9717, valid_accuracy: 0.9722\n",
            "\n",
            ">>>> train starts for epoch 16\n",
            ">>>> please wait while the model is training.......................\n"
          ],
          "name": "stdout"
        },
        {
          "output_type": "stream",
          "text": [
            "100%|██████████| 469/469 [00:11<00:00, 42.42it/s]\n",
            "100%|██████████| 79/79 [00:01<00:00, 64.65it/s]\n",
            "  2%|▏         | 8/469 [00:00<00:06, 72.23it/s]"
          ],
          "name": "stderr"
        },
        {
          "output_type": "stream",
          "text": [
            "\n",
            ">>> checking the accuracy for the training dataset\n",
            ">>>> please wait............\n"
          ],
          "name": "stdout"
        },
        {
          "output_type": "stream",
          "text": [
            "100%|██████████| 469/469 [00:06<00:00, 74.48it/s]\n",
            " 10%|█         | 8/79 [00:00<00:00, 77.98it/s]"
          ],
          "name": "stderr"
        },
        {
          "output_type": "stream",
          "text": [
            "\n",
            ">>>> checking the accuracy for the validation dataset\n",
            ">>>> please wait............\n"
          ],
          "name": "stdout"
        },
        {
          "output_type": "stream",
          "text": [
            "100%|██████████| 79/79 [00:01<00:00, 77.13it/s]\n",
            "  1%|          | 4/469 [00:00<00:12, 37.34it/s]"
          ],
          "name": "stderr"
        },
        {
          "output_type": "stream",
          "text": [
            "\n",
            ">>>> end of epoch 16, train_loss: 0.3386, train_PPL:  1.4030\n",
            "\n",
            ">>>> end of epoch 16, valid_loss: 0.2915, valid_PPL:  1.3384\n",
            "\n",
            ">>>> end of epoch 16, train_accuracy: 0.9702, valid_accuracy: 0.9685\n",
            "\n",
            ">>>> train starts for epoch 17\n",
            ">>>> please wait while the model is training.......................\n"
          ],
          "name": "stdout"
        },
        {
          "output_type": "stream",
          "text": [
            "100%|██████████| 469/469 [00:10<00:00, 43.38it/s]\n",
            "100%|██████████| 79/79 [00:01<00:00, 63.43it/s]\n",
            "  2%|▏         | 8/469 [00:00<00:06, 72.02it/s]"
          ],
          "name": "stderr"
        },
        {
          "output_type": "stream",
          "text": [
            "\n",
            ">>> checking the accuracy for the training dataset\n",
            ">>>> please wait............\n"
          ],
          "name": "stdout"
        },
        {
          "output_type": "stream",
          "text": [
            "100%|██████████| 469/469 [00:06<00:00, 72.19it/s]\n",
            " 10%|█         | 8/79 [00:00<00:00, 73.91it/s]"
          ],
          "name": "stderr"
        },
        {
          "output_type": "stream",
          "text": [
            "\n",
            ">>>> checking the accuracy for the validation dataset\n",
            ">>>> please wait............\n"
          ],
          "name": "stdout"
        },
        {
          "output_type": "stream",
          "text": [
            "100%|██████████| 79/79 [00:01<00:00, 71.89it/s]\n",
            "  1%|          | 4/469 [00:00<00:13, 34.04it/s]"
          ],
          "name": "stderr"
        },
        {
          "output_type": "stream",
          "text": [
            "\n",
            ">>>> end of epoch 17, train_loss: 0.3253, train_PPL:  1.3844\n",
            "\n",
            ">>>> end of epoch 17, valid_loss: 0.2540, valid_PPL:  1.2892\n",
            "\n",
            ">>>> end of epoch 17, train_accuracy: 0.9749, valid_accuracy: 0.9714\n",
            "\n",
            ">>>> train starts for epoch 18\n",
            ">>>> please wait while the model is training.......................\n"
          ],
          "name": "stdout"
        },
        {
          "output_type": "stream",
          "text": [
            "100%|██████████| 469/469 [00:11<00:00, 42.37it/s]\n",
            "100%|██████████| 79/79 [00:01<00:00, 69.17it/s]\n",
            "  2%|▏         | 8/469 [00:00<00:05, 78.55it/s]"
          ],
          "name": "stderr"
        },
        {
          "output_type": "stream",
          "text": [
            "\n",
            ">>> checking the accuracy for the training dataset\n",
            ">>>> please wait............\n"
          ],
          "name": "stdout"
        },
        {
          "output_type": "stream",
          "text": [
            "100%|██████████| 469/469 [00:06<00:00, 76.00it/s]\n",
            " 10%|█         | 8/79 [00:00<00:00, 75.41it/s]"
          ],
          "name": "stderr"
        },
        {
          "output_type": "stream",
          "text": [
            "\n",
            ">>>> checking the accuracy for the validation dataset\n",
            ">>>> please wait............\n"
          ],
          "name": "stdout"
        },
        {
          "output_type": "stream",
          "text": [
            "100%|██████████| 79/79 [00:01<00:00, 78.91it/s]\n",
            "  1%|          | 4/469 [00:00<00:13, 34.81it/s]"
          ],
          "name": "stderr"
        },
        {
          "output_type": "stream",
          "text": [
            "\n",
            ">>>> end of epoch 18, train_loss: 0.3237, train_PPL:  1.3822\n",
            "\n",
            ">>>> end of epoch 18, valid_loss: 0.3049, valid_PPL:  1.3565\n",
            "\n",
            ">>>> end of epoch 18, train_accuracy: 0.9697, valid_accuracy: 0.9648\n",
            "\n",
            ">>>> train starts for epoch 19\n",
            ">>>> please wait while the model is training.......................\n"
          ],
          "name": "stdout"
        },
        {
          "output_type": "stream",
          "text": [
            "100%|██████████| 469/469 [00:10<00:00, 45.52it/s]\n",
            "100%|██████████| 79/79 [00:01<00:00, 71.38it/s]\n",
            "  2%|▏         | 8/469 [00:00<00:05, 77.25it/s]"
          ],
          "name": "stderr"
        },
        {
          "output_type": "stream",
          "text": [
            "\n",
            ">>> checking the accuracy for the training dataset\n",
            ">>>> please wait............\n"
          ],
          "name": "stdout"
        },
        {
          "output_type": "stream",
          "text": [
            "100%|██████████| 469/469 [00:06<00:00, 77.95it/s]\n",
            " 11%|█▏        | 9/79 [00:00<00:00, 81.54it/s]"
          ],
          "name": "stderr"
        },
        {
          "output_type": "stream",
          "text": [
            "\n",
            ">>>> checking the accuracy for the validation dataset\n",
            ">>>> please wait............\n"
          ],
          "name": "stdout"
        },
        {
          "output_type": "stream",
          "text": [
            "100%|██████████| 79/79 [00:00<00:00, 79.60it/s]\n",
            "  1%|          | 4/469 [00:00<00:12, 37.20it/s]"
          ],
          "name": "stderr"
        },
        {
          "output_type": "stream",
          "text": [
            "\n",
            ">>>> end of epoch 19, train_loss: 0.3175, train_PPL:  1.3737\n",
            "\n",
            ">>>> end of epoch 19, valid_loss: 0.2590, valid_PPL:  1.2957\n",
            "\n",
            ">>>> end of epoch 19, train_accuracy: 0.9724, valid_accuracy: 0.9713\n",
            "\n",
            ">>>> train starts for epoch 20\n",
            ">>>> please wait while the model is training.......................\n"
          ],
          "name": "stdout"
        },
        {
          "output_type": "stream",
          "text": [
            "100%|██████████| 469/469 [00:10<00:00, 45.96it/s]\n",
            "100%|██████████| 79/79 [00:01<00:00, 68.90it/s]\n",
            "  2%|▏         | 9/469 [00:00<00:05, 81.80it/s]"
          ],
          "name": "stderr"
        },
        {
          "output_type": "stream",
          "text": [
            "\n",
            ">>> checking the accuracy for the training dataset\n",
            ">>>> please wait............\n"
          ],
          "name": "stdout"
        },
        {
          "output_type": "stream",
          "text": [
            "100%|██████████| 469/469 [00:06<00:00, 72.49it/s]\n",
            " 10%|█         | 8/79 [00:00<00:00, 73.70it/s]"
          ],
          "name": "stderr"
        },
        {
          "output_type": "stream",
          "text": [
            "\n",
            ">>>> checking the accuracy for the validation dataset\n",
            ">>>> please wait............\n"
          ],
          "name": "stdout"
        },
        {
          "output_type": "stream",
          "text": [
            "100%|██████████| 79/79 [00:01<00:00, 72.57it/s]\n",
            "  1%|          | 4/469 [00:00<00:12, 36.25it/s]"
          ],
          "name": "stderr"
        },
        {
          "output_type": "stream",
          "text": [
            "\n",
            ">>>> end of epoch 20, train_loss: 0.3097, train_PPL:  1.3631\n",
            "\n",
            ">>>> end of epoch 20, valid_loss: 0.2648, valid_PPL:  1.3032\n",
            "\n",
            ">>>> end of epoch 20, train_accuracy: 0.9727, valid_accuracy: 0.9715\n",
            "\n",
            ">>>> train starts for epoch 21\n",
            ">>>> please wait while the model is training.......................\n"
          ],
          "name": "stdout"
        },
        {
          "output_type": "stream",
          "text": [
            "100%|██████████| 469/469 [00:11<00:00, 42.38it/s]\n",
            "100%|██████████| 79/79 [00:01<00:00, 64.19it/s]\n",
            "  1%|▏         | 7/469 [00:00<00:06, 69.62it/s]"
          ],
          "name": "stderr"
        },
        {
          "output_type": "stream",
          "text": [
            "\n",
            ">>> checking the accuracy for the training dataset\n",
            ">>>> please wait............\n"
          ],
          "name": "stdout"
        },
        {
          "output_type": "stream",
          "text": [
            "100%|██████████| 469/469 [00:06<00:00, 70.15it/s]\n",
            " 10%|█         | 8/79 [00:00<00:00, 79.49it/s]"
          ],
          "name": "stderr"
        },
        {
          "output_type": "stream",
          "text": [
            "\n",
            ">>>> checking the accuracy for the validation dataset\n",
            ">>>> please wait............\n"
          ],
          "name": "stdout"
        },
        {
          "output_type": "stream",
          "text": [
            "100%|██████████| 79/79 [00:01<00:00, 78.21it/s]\n",
            "  1%|          | 4/469 [00:00<00:12, 37.86it/s]"
          ],
          "name": "stderr"
        },
        {
          "output_type": "stream",
          "text": [
            "\n",
            ">>>> end of epoch 21, train_loss: 0.3246, train_PPL:  1.3835\n",
            "\n",
            ">>>> end of epoch 21, valid_loss: 0.2482, valid_PPL:  1.2817\n",
            "\n",
            ">>>> end of epoch 21, train_accuracy: 0.9766, valid_accuracy: 0.9753\n",
            "\n",
            ">>>> train starts for epoch 22\n",
            ">>>> please wait while the model is training.......................\n"
          ],
          "name": "stdout"
        },
        {
          "output_type": "stream",
          "text": [
            "100%|██████████| 469/469 [00:10<00:00, 44.63it/s]\n",
            "100%|██████████| 79/79 [00:01<00:00, 68.49it/s]\n",
            "  1%|▏         | 7/469 [00:00<00:06, 69.24it/s]"
          ],
          "name": "stderr"
        },
        {
          "output_type": "stream",
          "text": [
            "\n",
            ">>> checking the accuracy for the training dataset\n",
            ">>>> please wait............\n"
          ],
          "name": "stdout"
        },
        {
          "output_type": "stream",
          "text": [
            "100%|██████████| 469/469 [00:06<00:00, 75.27it/s]\n",
            " 10%|█         | 8/79 [00:00<00:00, 78.54it/s]"
          ],
          "name": "stderr"
        },
        {
          "output_type": "stream",
          "text": [
            "\n",
            ">>>> checking the accuracy for the validation dataset\n",
            ">>>> please wait............\n"
          ],
          "name": "stdout"
        },
        {
          "output_type": "stream",
          "text": [
            "100%|██████████| 79/79 [00:01<00:00, 73.66it/s]\n",
            "  1%|          | 4/469 [00:00<00:12, 38.06it/s]"
          ],
          "name": "stderr"
        },
        {
          "output_type": "stream",
          "text": [
            "\n",
            ">>>> end of epoch 22, train_loss: 0.3131, train_PPL:  1.3677\n",
            "\n",
            ">>>> end of epoch 22, valid_loss: 0.2980, valid_PPL:  1.3471\n",
            "\n",
            ">>>> end of epoch 22, train_accuracy: 0.9726, valid_accuracy: 0.9709\n",
            "\n",
            ">>>> train starts for epoch 23\n",
            ">>>> please wait while the model is training.......................\n"
          ],
          "name": "stdout"
        },
        {
          "output_type": "stream",
          "text": [
            "100%|██████████| 469/469 [00:10<00:00, 43.61it/s]\n",
            "100%|██████████| 79/79 [00:01<00:00, 63.51it/s]\n",
            "  2%|▏         | 9/469 [00:00<00:05, 80.94it/s]"
          ],
          "name": "stderr"
        },
        {
          "output_type": "stream",
          "text": [
            "\n",
            ">>> checking the accuracy for the training dataset\n",
            ">>>> please wait............\n"
          ],
          "name": "stdout"
        },
        {
          "output_type": "stream",
          "text": [
            "100%|██████████| 469/469 [00:06<00:00, 78.10it/s]\n",
            " 11%|█▏        | 9/79 [00:00<00:00, 81.75it/s]"
          ],
          "name": "stderr"
        },
        {
          "output_type": "stream",
          "text": [
            "\n",
            ">>>> checking the accuracy for the validation dataset\n",
            ">>>> please wait............\n"
          ],
          "name": "stdout"
        },
        {
          "output_type": "stream",
          "text": [
            "100%|██████████| 79/79 [00:01<00:00, 78.69it/s]\n",
            "  1%|          | 4/469 [00:00<00:12, 37.72it/s]"
          ],
          "name": "stderr"
        },
        {
          "output_type": "stream",
          "text": [
            "\n",
            ">>>> end of epoch 23, train_loss: 0.3253, train_PPL:  1.3844\n",
            "\n",
            ">>>> end of epoch 23, valid_loss: 0.2354, valid_PPL:  1.2654\n",
            "\n",
            ">>>> end of epoch 23, train_accuracy: 0.9742, valid_accuracy: 0.9733\n",
            "\n",
            ">>>> train starts for epoch 24\n",
            ">>>> please wait while the model is training.......................\n"
          ],
          "name": "stdout"
        },
        {
          "output_type": "stream",
          "text": [
            "100%|██████████| 469/469 [00:10<00:00, 42.65it/s]\n",
            "100%|██████████| 79/79 [00:01<00:00, 63.69it/s]\n",
            "  2%|▏         | 8/469 [00:00<00:06, 72.16it/s]"
          ],
          "name": "stderr"
        },
        {
          "output_type": "stream",
          "text": [
            "\n",
            ">>> checking the accuracy for the training dataset\n",
            ">>>> please wait............\n"
          ],
          "name": "stdout"
        },
        {
          "output_type": "stream",
          "text": [
            "100%|██████████| 469/469 [00:06<00:00, 70.54it/s]\n",
            " 10%|█         | 8/79 [00:00<00:00, 71.77it/s]"
          ],
          "name": "stderr"
        },
        {
          "output_type": "stream",
          "text": [
            "\n",
            ">>>> checking the accuracy for the validation dataset\n",
            ">>>> please wait............\n"
          ],
          "name": "stdout"
        },
        {
          "output_type": "stream",
          "text": [
            "100%|██████████| 79/79 [00:01<00:00, 70.72it/s]\n",
            "  1%|          | 4/469 [00:00<00:12, 36.66it/s]"
          ],
          "name": "stderr"
        },
        {
          "output_type": "stream",
          "text": [
            "\n",
            ">>>> end of epoch 24, train_loss: 0.3262, train_PPL:  1.3857\n",
            "\n",
            ">>>> end of epoch 24, valid_loss: 0.2970, valid_PPL:  1.3458\n",
            "\n",
            ">>>> end of epoch 24, train_accuracy: 0.9746, valid_accuracy: 0.9728\n",
            "\n",
            ">>>> train starts for epoch 25\n",
            ">>>> please wait while the model is training.......................\n"
          ],
          "name": "stdout"
        },
        {
          "output_type": "stream",
          "text": [
            "100%|██████████| 469/469 [00:11<00:00, 42.35it/s]\n",
            "100%|██████████| 79/79 [00:01<00:00, 69.28it/s]\n",
            "  2%|▏         | 8/469 [00:00<00:05, 77.83it/s]"
          ],
          "name": "stderr"
        },
        {
          "output_type": "stream",
          "text": [
            "\n",
            ">>> checking the accuracy for the training dataset\n",
            ">>>> please wait............\n"
          ],
          "name": "stdout"
        },
        {
          "output_type": "stream",
          "text": [
            "100%|██████████| 469/469 [00:06<00:00, 76.56it/s]\n",
            " 10%|█         | 8/79 [00:00<00:00, 74.79it/s]"
          ],
          "name": "stderr"
        },
        {
          "output_type": "stream",
          "text": [
            "\n",
            ">>>> checking the accuracy for the validation dataset\n",
            ">>>> please wait............\n"
          ],
          "name": "stdout"
        },
        {
          "output_type": "stream",
          "text": [
            "100%|██████████| 79/79 [00:01<00:00, 77.89it/s]\n",
            "  1%|          | 4/469 [00:00<00:12, 36.50it/s]"
          ],
          "name": "stderr"
        },
        {
          "output_type": "stream",
          "text": [
            "\n",
            ">>>> end of epoch 25, train_loss: 0.3234, train_PPL:  1.3818\n",
            "\n",
            ">>>> end of epoch 25, valid_loss: 0.2275, valid_PPL:  1.2555\n",
            "\n",
            ">>>> end of epoch 25, train_accuracy: 0.9779, valid_accuracy: 0.9754\n",
            "\n",
            ">>>> train starts for epoch 26\n",
            ">>>> please wait while the model is training.......................\n"
          ],
          "name": "stdout"
        },
        {
          "output_type": "stream",
          "text": [
            "100%|██████████| 469/469 [00:10<00:00, 43.55it/s]\n",
            "100%|██████████| 79/79 [00:01<00:00, 66.64it/s]\n",
            "  2%|▏         | 8/469 [00:00<00:06, 71.44it/s]"
          ],
          "name": "stderr"
        },
        {
          "output_type": "stream",
          "text": [
            "\n",
            ">>> checking the accuracy for the training dataset\n",
            ">>>> please wait............\n"
          ],
          "name": "stdout"
        },
        {
          "output_type": "stream",
          "text": [
            "100%|██████████| 469/469 [00:06<00:00, 76.01it/s]\n",
            " 10%|█         | 8/79 [00:00<00:00, 75.16it/s]"
          ],
          "name": "stderr"
        },
        {
          "output_type": "stream",
          "text": [
            "\n",
            ">>>> checking the accuracy for the validation dataset\n",
            ">>>> please wait............\n"
          ],
          "name": "stdout"
        },
        {
          "output_type": "stream",
          "text": [
            "100%|██████████| 79/79 [00:01<00:00, 76.94it/s]\n",
            "  1%|          | 4/469 [00:00<00:12, 35.80it/s]"
          ],
          "name": "stderr"
        },
        {
          "output_type": "stream",
          "text": [
            "\n",
            ">>>> end of epoch 26, train_loss: 0.3168, train_PPL:  1.3728\n",
            "\n",
            ">>>> end of epoch 26, valid_loss: 0.2875, valid_PPL:  1.3331\n",
            "\n",
            ">>>> end of epoch 26, train_accuracy: 0.9761, valid_accuracy: 0.9740\n",
            "\n",
            ">>>> train starts for epoch 27\n",
            ">>>> please wait while the model is training.......................\n"
          ],
          "name": "stdout"
        },
        {
          "output_type": "stream",
          "text": [
            "100%|██████████| 469/469 [00:10<00:00, 43.24it/s]\n",
            "100%|██████████| 79/79 [00:01<00:00, 61.89it/s]\n",
            "  2%|▏         | 8/469 [00:00<00:06, 73.07it/s]"
          ],
          "name": "stderr"
        },
        {
          "output_type": "stream",
          "text": [
            "\n",
            ">>> checking the accuracy for the training dataset\n",
            ">>>> please wait............\n"
          ],
          "name": "stdout"
        },
        {
          "output_type": "stream",
          "text": [
            "100%|██████████| 469/469 [00:06<00:00, 70.70it/s]\n",
            " 10%|█         | 8/79 [00:00<00:00, 75.05it/s]"
          ],
          "name": "stderr"
        },
        {
          "output_type": "stream",
          "text": [
            "\n",
            ">>>> checking the accuracy for the validation dataset\n",
            ">>>> please wait............\n"
          ],
          "name": "stdout"
        },
        {
          "output_type": "stream",
          "text": [
            "100%|██████████| 79/79 [00:01<00:00, 72.00it/s]\n",
            "  1%|          | 4/469 [00:00<00:13, 35.69it/s]"
          ],
          "name": "stderr"
        },
        {
          "output_type": "stream",
          "text": [
            "\n",
            ">>>> end of epoch 27, train_loss: 0.3022, train_PPL:  1.3528\n",
            "\n",
            ">>>> end of epoch 27, valid_loss: 0.2740, valid_PPL:  1.3152\n",
            "\n",
            ">>>> end of epoch 27, train_accuracy: 0.9769, valid_accuracy: 0.9726\n",
            "\n",
            ">>>> train starts for epoch 28\n",
            ">>>> please wait while the model is training.......................\n"
          ],
          "name": "stdout"
        },
        {
          "output_type": "stream",
          "text": [
            "100%|██████████| 469/469 [00:11<00:00, 42.00it/s]\n",
            "100%|██████████| 79/79 [00:01<00:00, 64.57it/s]\n",
            "  1%|▏         | 7/469 [00:00<00:07, 63.69it/s]"
          ],
          "name": "stderr"
        },
        {
          "output_type": "stream",
          "text": [
            "\n",
            ">>> checking the accuracy for the training dataset\n",
            ">>>> please wait............\n"
          ],
          "name": "stdout"
        },
        {
          "output_type": "stream",
          "text": [
            "100%|██████████| 469/469 [00:06<00:00, 74.96it/s]\n",
            " 10%|█         | 8/79 [00:00<00:00, 78.79it/s]"
          ],
          "name": "stderr"
        },
        {
          "output_type": "stream",
          "text": [
            "\n",
            ">>>> checking the accuracy for the validation dataset\n",
            ">>>> please wait............\n"
          ],
          "name": "stdout"
        },
        {
          "output_type": "stream",
          "text": [
            "100%|██████████| 79/79 [00:01<00:00, 72.24it/s]\n",
            "  1%|          | 4/469 [00:00<00:12, 36.44it/s]"
          ],
          "name": "stderr"
        },
        {
          "output_type": "stream",
          "text": [
            "\n",
            ">>>> end of epoch 28, train_loss: 0.3025, train_PPL:  1.3533\n",
            "\n",
            ">>>> end of epoch 28, valid_loss: 0.2647, valid_PPL:  1.3030\n",
            "\n",
            ">>>> end of epoch 28, train_accuracy: 0.9774, valid_accuracy: 0.9739\n",
            "\n",
            ">>>> train starts for epoch 29\n",
            ">>>> please wait while the model is training.......................\n"
          ],
          "name": "stdout"
        },
        {
          "output_type": "stream",
          "text": [
            "100%|██████████| 469/469 [00:10<00:00, 43.88it/s]\n",
            "100%|██████████| 79/79 [00:01<00:00, 67.79it/s]\n",
            "  1%|▏         | 7/469 [00:00<00:06, 69.44it/s]"
          ],
          "name": "stderr"
        },
        {
          "output_type": "stream",
          "text": [
            "\n",
            ">>> checking the accuracy for the training dataset\n",
            ">>>> please wait............\n"
          ],
          "name": "stdout"
        },
        {
          "output_type": "stream",
          "text": [
            "100%|██████████| 469/469 [00:06<00:00, 76.96it/s]\n",
            " 10%|█         | 8/79 [00:00<00:00, 79.82it/s]"
          ],
          "name": "stderr"
        },
        {
          "output_type": "stream",
          "text": [
            "\n",
            ">>>> checking the accuracy for the validation dataset\n",
            ">>>> please wait............\n"
          ],
          "name": "stdout"
        },
        {
          "output_type": "stream",
          "text": [
            "100%|██████████| 79/79 [00:01<00:00, 77.67it/s]\n",
            "  1%|          | 4/469 [00:00<00:12, 37.32it/s]"
          ],
          "name": "stderr"
        },
        {
          "output_type": "stream",
          "text": [
            "\n",
            ">>>> end of epoch 29, train_loss: 0.3171, train_PPL:  1.3731\n",
            "\n",
            ">>>> end of epoch 29, valid_loss: 0.3454, valid_PPL:  1.4126\n",
            "\n",
            ">>>> end of epoch 29, train_accuracy: 0.9732, valid_accuracy: 0.9678\n",
            "\n",
            ">>>> train starts for epoch 30\n",
            ">>>> please wait while the model is training.......................\n"
          ],
          "name": "stdout"
        },
        {
          "output_type": "stream",
          "text": [
            " 34%|███▎      | 158/469 [00:03<00:07, 44.07it/s]"
          ],
          "name": "stderr"
        }
      ]
    },
    {
      "cell_type": "code",
      "metadata": {
        "id": "GWpqJ3i6ei1o"
      },
      "source": [
        "%tensorboard --logdir logs/tensorboard"
      ],
      "execution_count": null,
      "outputs": []
    },
    {
      "cell_type": "code",
      "metadata": {
        "id": "ulgv0igS343T"
      },
      "source": [
        ""
      ],
      "execution_count": null,
      "outputs": []
    }
  ]
}